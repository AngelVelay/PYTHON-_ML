{
 "cells": [
  {
   "cell_type": "markdown",
   "metadata": {},
   "source": [
    "# Generators and Iterators"
   ]
  },
  {
   "cell_type": "code",
   "execution_count": 1,
   "metadata": {},
   "outputs": [],
   "source": [
    "def odd_numbers(nums): # just a normal function\n",
    "    aux = []\n",
    "    for i in nums:\n",
    "        if i % 2 == 1:\n",
    "            aux.append(i)\n",
    "    \n",
    "    return aux"
   ]
  },
  {
   "cell_type": "code",
   "execution_count": 2,
   "metadata": {},
   "outputs": [
    {
     "data": {
      "text/plain": [
       "[1, 3, 5, 7, 9]"
      ]
     },
     "execution_count": 2,
     "metadata": {},
     "output_type": "execute_result"
    }
   ],
   "source": [
    "odd = odd_numbers([1,2,3,4,5,6,7,8,9,10])\n",
    "odd"
   ]
  },
  {
   "cell_type": "code",
   "execution_count": 3,
   "metadata": {},
   "outputs": [],
   "source": [
    "def odd_numbers(nums): # just a normal function\n",
    "    for i in nums:\n",
    "        if i % 2 == 1:\n",
    "            yield i\n",
    "    "
   ]
  },
  {
   "cell_type": "code",
   "execution_count": 4,
   "metadata": {},
   "outputs": [
    {
     "name": "stdout",
     "output_type": "stream",
     "text": [
      "1\n",
      "3\n",
      "5\n",
      "7\n",
      "9\n"
     ]
    }
   ],
   "source": [
    "odd = odd_numbers([1,2,3,4,5,6,7,8,9,10])\n",
    "print(next(odd))\n",
    "print(next(odd))\n",
    "print(next(odd))\n",
    "print(next(odd))\n",
    "print(next(odd))"
   ]
  },
  {
   "cell_type": "code",
   "execution_count": 5,
   "metadata": {},
   "outputs": [
    {
     "data": {
      "text/plain": [
       "<generator object <genexpr> at 0x00000190F8D823C8>"
      ]
     },
     "execution_count": 5,
     "metadata": {},
     "output_type": "execute_result"
    }
   ],
   "source": [
    "odd = (i % 2 == 1 for i in [1,2,3,4,5,6,7,8,9,10])\n",
    "odd"
   ]
  },
  {
   "cell_type": "code",
   "execution_count": 6,
   "metadata": {},
   "outputs": [
    {
     "name": "stdout",
     "output_type": "stream",
     "text": [
      "True\n",
      "False\n",
      "True\n",
      "False\n",
      "True\n",
      "False\n",
      "True\n",
      "False\n",
      "True\n",
      "False\n"
     ]
    }
   ],
   "source": [
    "for i in odd:\n",
    "    print(i)"
   ]
  },
  {
   "cell_type": "code",
   "execution_count": 7,
   "metadata": {},
   "outputs": [
    {
     "data": {
      "text/plain": [
       "<generator object <genexpr> at 0x00000190F8D82BC8>"
      ]
     },
     "execution_count": 7,
     "metadata": {},
     "output_type": "execute_result"
    }
   ],
   "source": [
    "odd = (i ** 2 for i in [1,2,3,4,5,6,7,8,9,10]) # Create a generator\n",
    "odd"
   ]
  },
  {
   "cell_type": "code",
   "execution_count": 8,
   "metadata": {},
   "outputs": [
    {
     "name": "stdout",
     "output_type": "stream",
     "text": [
      "1\n",
      "4\n",
      "9\n",
      "16\n",
      "25\n",
      "36\n",
      "49\n",
      "64\n",
      "81\n",
      "100\n"
     ]
    }
   ],
   "source": [
    "for i in odd:\n",
    "    print(i)"
   ]
  },
  {
   "cell_type": "code",
   "execution_count": 9,
   "metadata": {},
   "outputs": [
    {
     "name": "stdout",
     "output_type": "stream",
     "text": [
      "[1, 4, 9, 16, 25, 36, 49, 64, 81, 100]\n"
     ]
    }
   ],
   "source": [
    "odd = (i ** 2 for i in [1,2,3,4,5,6,7,8,9,10]) \n",
    "print(list(odd)) # you lose all benefits of a generator"
   ]
  },
  {
   "cell_type": "code",
   "execution_count": 2,
   "metadata": {},
   "outputs": [],
   "source": [
    "import random\n",
    "# ! pip install memory_profiler\n",
    "%load_ext memory_profiler\n",
    "import time"
   ]
  },
  {
   "cell_type": "code",
   "execution_count": 3,
   "metadata": {},
   "outputs": [],
   "source": [
    "names = [\"josh\", \"jhonna\", \"michael\", \"tom\",\"diana\",\"kim\"]"
   ]
  },
  {
   "cell_type": "code",
   "execution_count": 44,
   "metadata": {},
   "outputs": [
    {
     "name": "stdout",
     "output_type": "stream",
     "text": [
      "peak memory: 609.98 MiB, increment: 265.48 MiB\n",
      "time used 0.84375\n",
      "Wall time: 1.32 s\n"
     ]
    }
   ],
   "source": [
    "%%time\n",
    "\n",
    "def create_people(num):\n",
    "    aux = []\n",
    "    for i in range(num):\n",
    "        person = {\n",
    "            'id': i,\n",
    "            'name': random.choice(names)\n",
    "        }\n",
    "        aux.append(person)\n",
    "    return aux\n",
    "t1 = time.process_time()\n",
    "%memit people = create_people(1000000)\n",
    "t2 = time.process_time()\n",
    "print(f'time used {t2-t1}')"
   ]
  },
  {
   "cell_type": "code",
   "execution_count": 15,
   "metadata": {},
   "outputs": [
    {
     "name": "stdout",
     "output_type": "stream",
     "text": [
      "peak memory: 50.56 MiB, increment: 0.34 MiB\n",
      "time used 0.0625\n",
      "Wall time: 2.7 s\n"
     ]
    }
   ],
   "source": [
    "%%time\n",
    "\n",
    "\n",
    "def generate_people(num):\n",
    "    for i in range(num):\n",
    "        person = {\n",
    "            'id': i,\n",
    "            'name': random.choice(names)\n",
    "        }\n",
    "        yield person\n",
    "\n",
    "        \n",
    "t1 = time.process_time()\n",
    "%memit people = generate_people(1000000)\n",
    "t2 = time.process_time()\n",
    "print(f'time used {t2-t1}')"
   ]
  },
  {
   "cell_type": "code",
   "execution_count": 9,
   "metadata": {},
   "outputs": [
    {
     "name": "stdout",
     "output_type": "stream",
     "text": [
      "peak memory: 1485.74 MiB, increment: 1432.64 MiB\n",
      "time used 3.734375\n",
      "Wall time: 4.23 s\n"
     ]
    }
   ],
   "source": [
    "%%time\n",
    "\n",
    "def create_people(num):\n",
    "    aux = []\n",
    "    for i in range(num):\n",
    "        person = {\n",
    "            'id': i,\n",
    "            'name': random.choice(names)\n",
    "        }\n",
    "        aux.append(person)\n",
    "    return aux\n",
    "t1 = time.process_time()\n",
    "%memit people = create_people(5000000)\n",
    "t2 = time.process_time()\n",
    "print(f'time used {t2-t1}')"
   ]
  },
  {
   "cell_type": "code",
   "execution_count": 5,
   "metadata": {},
   "outputs": [
    {
     "name": "stdout",
     "output_type": "stream",
     "text": [
      "peak memory: 1485.69 MiB, increment: 0.00 MiB\n",
      "time used 0.40625\n",
      "Wall time: 873 ms\n"
     ]
    }
   ],
   "source": [
    "%%time\n",
    "\n",
    "\n",
    "def generate_people(num):\n",
    "    for i in range(num):\n",
    "        person = {\n",
    "            'id': i,\n",
    "            'name': random.choice(names)\n",
    "        }\n",
    "        yield person\n",
    "\n",
    "        \n",
    "t1 = time.process_time()\n",
    "%memit people = generate_people(5000000)\n",
    "t2 = time.process_time()\n",
    "print(f'time used {t2-t1}')"
   ]
  },
  {
   "cell_type": "code",
   "execution_count": 10,
   "metadata": {},
   "outputs": [
    {
     "name": "stdout",
     "output_type": "stream",
     "text": [
      "\n",
      "Image Name                     PID Session Name        Session#    Mem Usage\n",
      "========================= ======== ================ =========== ============\n",
      "System Idle Process              0 Services                   0          8 K\n",
      "System                           4 Services                   0      2,392 K\n",
      "Registry                       144 Services                   0     59,540 K\n",
      "smss.exe                       708 Services                   0      1,000 K\n",
      "csrss.exe                      812 Services                   0      5,440 K\n",
      "wininit.exe                    912 Services                   0      6,728 K\n",
      "services.exe                   980 Services                   0     11,084 K\n",
      "lsass.exe                     1000 Services                   0     15,816 K\n",
      "svchost.exe                   1056 Services                   0      3,244 K\n",
      "svchost.exe                   1088 Services                   0     32,132 K\n",
      "fontdrvhost.exe               1116 Services                   0      2,348 K\n",
      "WUDFHost.exe                  1128 Services                   0     16,888 K\n",
      "svchost.exe                   1240 Services                   0     19,868 K\n",
      "svchost.exe                   1292 Services                   0      8,504 K\n",
      "svchost.exe                   1512 Services                   0     12,084 K\n",
      "svchost.exe                   1520 Services                   0      7,912 K\n",
      "svchost.exe                   1536 Services                   0     11,020 K\n",
      "svchost.exe                   1676 Services                   0     10,076 K\n",
      "svchost.exe                   1688 Services                   0     11,156 K\n",
      "svchost.exe                   1740 Services                   0      5,548 K\n",
      "svchost.exe                   1768 Services                   0     15,696 K\n",
      "svchost.exe                   1852 Services                   0      8,408 K\n",
      "svchost.exe                   1920 Services                   0     10,952 K\n",
      "svchost.exe                   1940 Services                   0      6,776 K\n",
      "svchost.exe                   1428 Services                   0     10,888 K\n",
      "svchost.exe                   1616 Services                   0      7,024 K\n",
      "svchost.exe                   2052 Services                   0     17,052 K\n",
      "svchost.exe                   2192 Services                   0      7,748 K\n",
      "svchost.exe                   2268 Services                   0      6,328 K\n",
      "igfxCUIService.exe            2296 Services                   0      1,936 K\n",
      "svchost.exe                   2372 Services                   0      6,520 K\n",
      "svchost.exe                   2492 Services                   0      3,776 K\n",
      "svchost.exe                   2496 Services                   0      4,608 K\n",
      "svchost.exe                   2616 Services                   0      4,968 K\n",
      "NVDisplay.Container.exe       2624 Services                   0      9,464 K\n",
      "svchost.exe                   2636 Services                   0      5,760 K\n",
      "svchost.exe                   2700 Services                   0      7,216 K\n",
      "svchost.exe                   2780 Services                   0      8,212 K\n",
      "dasHost.exe                   2832 Services                   0     11,064 K\n",
      "svchost.exe                   2856 Services                   0     17,096 K\n",
      "svchost.exe                   2904 Services                   0      5,944 K\n",
      "svchost.exe                   3012 Services                   0      7,264 K\n",
      "svchost.exe                   2224 Services                   0     17,480 K\n",
      "QMEmulatorService.exe         2932 Services                   0      4,204 K\n",
      "svchost.exe                   3240 Services                   0      4,816 K\n",
      "svchost.exe                   3248 Services                   0      3,052 K\n",
      "wsc_proxy.exe                 3256 Services                   0      5,808 K\n",
      "Memory Compression            3336 Services                   0    166,616 K\n",
      "svchost.exe                   3404 Services                   0      4,776 K\n",
      "svchost.exe                   3412 Services                   0      8,392 K\n",
      "svchost.exe                   3544 Services                   0      6,288 K\n",
      "svchost.exe                   4008 Services                   0      5,844 K\n",
      "svchost.exe                   4200 Services                   0     13,140 K\n",
      "svchost.exe                   4312 Services                   0      4,060 K\n",
      "svchost.exe                   4320 Services                   0      6,344 K\n",
      "svchost.exe                   4636 Services                   0     12,440 K\n",
      "svchost.exe                   5004 Services                   0      8,108 K\n",
      "AsLdrSrv64.exe                5012 Services                   0      2,976 K\n",
      "AvastSvc.exe                  5036 Services                   0     87,884 K\n",
      "wlanext.exe                   3780 Services                   0      8,936 K\n",
      "conhost.exe                   4668 Services                   0      2,388 K\n",
      "svchost.exe                   5264 Services                   0     14,684 K\n",
      "spoolsv.exe                   5540 Services                   0      3,724 K\n",
      "svchost.exe                   5584 Services                   0     12,392 K\n",
      "svchost.exe                   5636 Services                   0      4,544 K\n",
      "svchost.exe                   5704 Services                   0      5,268 K\n",
      "AsHidSrv64.exe                6092 Services                   0      1,568 K\n",
      "atkexComSvc.exe               6100 Services                   0      6,168 K\n",
      "svchost.exe                   6112 Services                   0      3,472 K\n",
      "ASUSDisplayCtrlService.ex     6124 Services                   0      5,532 K\n",
      "svchost.exe                   6132 Services                   0     11,928 K\n",
      "svchost.exe                   6140 Services                   0     22,256 K\n",
      "svchost.exe                   5216 Services                   0     20,064 K\n",
      "svchost.exe                   5292 Services                   0     11,928 K\n",
      "remoting_host.exe             5136 Services                   0      5,352 K\n",
      "svchost.exe                   4700 Services                   0      3,032 K\n",
      "mDNSResponder.exe             5444 Services                   0      3,552 K\n",
      "DSAService.exe                5668 Services                   0      7,892 K\n",
      "svchost.exe                   5632 Services                   0     16,452 K\n",
      "AsusSystemDiagnosis.exe       5760 Services                   0      2,324 K\n",
      "ZeroConfigService.exe         5904 Services                   0     13,600 K\n",
      "svchost.exe                   6148 Services                   0     10,780 K\n",
      "AdobeUpdateService.exe        6156 Services                   0      6,444 K\n",
      "ASUSOptimization.exe          6164 Services                   0     11,608 K\n",
      "ibtsiva.exe                   6180 Services                   0      4,112 K\n",
      "EvtEng.exe                    6188 Services                   0     12,860 K\n",
      "AsusSystemAnalysis.exe        6196 Services                   0     13,024 K\n",
      "svchost.exe                   6204 Services                   0      4,940 K\n",
      "HuaweiHiSuiteService64.ex     6220 Services                   0      9,224 K\n",
      "GiftBoxService.exe            6240 Services                   0      9,196 K\n",
      "WTabletServicePro.exe         6252 Services                   0      8,396 K\n",
      "DTSAPO3Service.exe            6264 Services                   0     10,752 K\n",
      "pg_ctl.exe                    6276 Services                   0      5,664 K\n",
      "IntelCpHDCPSvc.exe            6284 Services                   0      5,960 K\n",
      "RtkAudUService64.exe          6292 Services                   0      8,776 K\n",
      "RegSrvc.exe                   6300 Services                   0      8,400 K\n",
      "esif_uf.exe                   6308 Services                   0      4,512 K\n",
      "RstMwService.exe              6328 Services                   0      5,672 K\n",
      "SurSvc.exe                    6336 Services                   0     11,484 K\n",
      "LDSvc.exe                     6352 Services                   0      1,708 K\n",
      "AGSService.exe                6360 Services                   0     16,556 K\n",
      "AsusLiveUpdateAgent.exe       6372 Services                   0     10,520 K\n",
      "AGMService.exe                6396 Services                   0     10,892 K\n",
      "nvcontainer.exe               6404 Services                   0      7,656 K\n",
      "AdAppMgrSvc.exe               6428 Services                   0     16,348 K\n",
      "OfficeClickToRun.exe          6436 Services                   0     11,764 K\n",
      "RepetierServer.exe            6508 Services                   0      8,516 K\n",
      "svchost.exe                   6620 Services                   0      6,908 K\n",
      "svchost.exe                   7052 Services                   0     10,448 K\n",
      "svchost.exe                   7500 Services                   0      8,620 K\n",
      "IntelCpHeciSvc.exe            7620 Services                   0      5,616 K\n",
      "svchost.exe                   7628 Services                   0     16,612 K\n",
      "svchost.exe                   7760 Services                   0      8,332 K\n",
      "postgres.exe                  8076 Services                   0      7,420 K\n",
      "conhost.exe                   8120 Services                   0      6,376 K\n",
      "svchost.exe                   8328 Services                   0      9,880 K\n",
      "remoting_host.exe             8340 Services                   0     19,672 K\n",
      "postgres.exe                  8976 Services                   0      5,188 K\n",
      "postgres.exe                  9208 Services                   0      5,668 K\n",
      "postgres.exe                  7912 Services                   0      5,552 K\n",
      "postgres.exe                  7908 Services                   0      5,112 K\n",
      "postgres.exe                  7888 Services                   0      6,060 K\n",
      "postgres.exe                  8336 Services                   0      5,332 K\n",
      "postgres.exe                  8168 Services                   0      5,524 K\n",
      "SearchIndexer.exe             8768 Services                   0     23,968 K\n",
      "svchost.exe                   9392 Services                   0      8,448 K\n",
      "unsecapp.exe                 11260 Services                   0     11,028 K\n",
      "WmiPrvSE.exe                 11284 Services                   0      4,188 K\n",
      "DSAUpdateService.exe          1032 Services                   0      9,740 K\n",
      "svchost.exe                  12352 Services                   0     18,464 K\n",
      "aswEngSrv.exe                14316 Services                   0     26,300 K\n",
      "GoogleCrashHandler.exe       13412 Services                   0         92 K\n",
      "GoogleCrashHandler64.exe     12968 Services                   0        164 K\n",
      "svchost.exe                  14944 Services                   0      8,804 K\n",
      "aswidsagent.exe              15096 Services                   0     16,540 K\n",
      "dllhost.exe                  15672 Services                   0      9,168 K\n",
      "SecurityHealthService.exe    16188 Services                   0      2,164 K\n",
      "svchost.exe                  11440 Services                   0      9,752 K\n",
      "svchost.exe                  14296 Services                   0      3,952 K\n",
      "svchost.exe                  13860 Services                   0      7,736 K\n",
      "svchost.exe                  13892 Services                   0     10,480 K\n",
      "svchost.exe                   3316 Services                   0     17,448 K\n",
      "svchost.exe                    752 Services                   0      6,504 K\n",
      "svchost.exe                  15380 Services                   0     11,848 K\n",
      "IAStorDataMgrSvc.exe         19000 Services                   0     33,716 K\n",
      "jhi_service.exe              19156 Services                   0      6,016 K\n",
      "LMS.exe                      18996 Services                   0     11,640 K\n",
      "SgrmBroker.exe               19736 Services                   0      6,120 K\n",
      "svchost.exe                  19480 Services                   0     15,840 K\n",
      "svchost.exe                  18700 Services                   0      6,344 K\n",
      "svchost.exe                  17272 Services                   0      9,636 K\n",
      "WUDFHost.exe                 19452 Services                   0      7,392 K\n",
      "svchost.exe                  10944 Services                   0      6,200 K\n",
      "svchost.exe                   5980 Services                   0     12,412 K\n",
      "svchost.exe                  17896 Services                   0      9,740 K\n",
      "csrss.exe                     7256                            8      2,548 K\n",
      "svchost.exe                   2280 Services                   0      8,544 K\n",
      "csrss.exe                      748                            9      1,288 K\n",
      "svchost.exe                  21112 Services                   0     12,732 K\n",
      "csrss.exe                     3444 Console                   11      5,492 K\n",
      "winlogon.exe                  1824 Console                   11     14,812 K\n",
      "fontdrvhost.exe               2692 Console                   11      1,796 K\n",
      "dwm.exe                      15560 Console                   11     74,188 K\n",
      "NVDisplay.Container.exe      19640 Console                   11      2,388 K\n",
      "AsMonStartupTask64.exe        2928 Console                   11     12,704 K\n",
      "nvcontainer.exe               3844 Console                   11      2,020 K\n",
      "nvcontainer.exe              17884 Console                   11     12,464 K\n",
      "sihost.exe                    3956 Console                   11     27,796 K\n",
      "svchost.exe                   4428 Console                   11      8,496 K\n",
      "svchost.exe                  11508 Console                   11     14,624 K\n",
      "igfxEM.exe                    8428 Console                   11      1,500 K\n",
      "svchost.exe                  14900 Console                   11     20,356 K\n",
      "ASUSDisplayCtrl.exe          18140 Console                   11      1,884 K\n",
      "ASUSHelloBG.exe              19316 Console                   11        496 K\n",
      "ASUSPowerScheme.exe           6560 Console                   11      2,860 K\n",
      "ASUS_FRQ_Control.exe          2516 Console                   11      1,444 K\n",
      "ctfmon.exe                    4076 Console                   11     15,628 K\n",
      "taskhostw.exe                12444 Console                   11     15,088 K\n",
      "explorer.exe                 17972 Console                   11     69,944 K\n",
      "svchost.exe                  18248 Console                   11     15,040 K\n",
      "NVIDIA Web Helper.exe         1144 Console                   11      6,412 K\n",
      "Wacom_TabletUser.exe         19580 Console                   11      9,784 K\n",
      "WacomHost.exe                14528 Console                   11     11,776 K\n",
      "svchost.exe                  17636 Console                   11     11,932 K\n",
      "conhost.exe                  15404 Console                   11        712 K\n",
      "Wacom_Tablet.exe             10476 Console                   11      5,744 K\n",
      "Wacom_TouchUser.exe          16060 Console                   11     14,820 K\n",
      "StartMenuExperienceHost.e     4820 Console                   11     13,876 K\n",
      "RuntimeBroker.exe             2884 Console                   11      3,640 K\n",
      "SearchUI.exe                  8068 Console                   11     23,844 K\n",
      "SettingSyncHost.exe          19972 Console                   11      4,872 K\n",
      "RuntimeBroker.exe            11584 Console                   11     18,768 K\n",
      "ShellExperienceHost.exe       8288 Console                   11     61,496 K\n",
      "RuntimeBroker.exe            19956 Console                   11     16,128 K\n",
      "TabTip.exe                    1148 Console                   11     16,012 K\n",
      "LockApp.exe                  17516 Console                   11      2,460 K\n",
      "RuntimeBroker.exe            14184 Console                   11     14,084 K\n",
      "RuntimeBroker.exe            13464 Console                   11      4,944 K\n",
      "nvsphelper64.exe             11072 Console                   11     13,656 K\n",
      "NVIDIA Share.exe             10484 Console                   11     10,908 K\n",
      "NVIDIA Share.exe             20380 Console                   11      5,320 K\n",
      "NVIDIA Share.exe              5204 Console                   11     21,356 K\n",
      "SecurityHealthSystray.exe    21232 Console                   11      8,800 K\n",
      "SkypeBridge.exe              17008 Console                   11     24,008 K\n",
      "AvastUI.exe                  18404 Console                   11     19,056 K\n",
      "CalibrizeResume.exe          12520 Console                   11      7,504 K\n",
      "HControl.exe                  3576 Console                   11      7,408 K\n",
      "AudioFuseControlCenterAge     8460 Console                   11      9,304 K\n",
      "DSATray.exe                  17612 Console                   11     13,472 K\n",
      "ApplicationFrameHost.exe     17604 Console                   11      4,884 K\n",
      "RtkAudUService64.exe         14156 Console                   11        684 K\n",
      "ATKOSD2.exe                  14504 Console                   11     13,592 K\n",
      "IAStorIcon.exe               21124 Console                   11     10,444 K\n",
      "dllhost.exe                  14340 Console                   11     11,740 K\n",
      "powershell.exe               18116 Console                   11     43,348 K\n",
      "conhost.exe                  10200 Console                   11      4,892 K\n",
      "chrome.exe                   21120 Console                   11    140,548 K\n",
      "chrome.exe                   18320 Console                   11      9,156 K\n",
      "chrome.exe                   17996 Console                   11    126,484 K\n",
      "chrome.exe                    3564 Console                   11     25,464 K\n",
      "chrome.exe                    8940 Console                   11     10,892 K\n",
      "chrome.exe                    7040 Console                   11     19,952 K\n",
      "WindowsInternal.Composabl     5740 Console                   11      7,248 K\n",
      "svchost.exe                  14040 Services                   0      5,644 K\n",
      "svchost.exe                  14960 Console                   11      8,896 K\n",
      "svchost.exe                  19164 Console                   11      7,016 K\n",
      "svchost.exe                  13140 Services                   0      7,444 K\n",
      "svchost.exe                  16568 Services                   0      8,556 K\n",
      "taskhostw.exe                 5648 Console                   11      8,156 K\n",
      "jupyter.exe                  15604 Console                   11      2,284 K\n",
      "python.exe                   15752 Console                   11     13,636 K\n",
      "jupyter-notebook.exe         14004 Console                   11      5,676 K\n",
      "python.exe                   10648 Console                   11     79,836 K\n",
      "chrome.exe                   20580 Console                   11    100,080 K\n",
      "chrome.exe                    1360 Console                   11     23,044 K\n",
      "python.exe                   18740 Console                   11  1,521,408 K\n",
      "SkypeApp.exe                 10248 Console                   11    204,468 K\n",
      "RuntimeBroker.exe            15620 Console                   11     20,236 K\n",
      "SkypeBackgroundHost.exe      16708 Console                   11      8,000 K\n",
      "SearchProtocolHost.exe       20376 Services                   0     12,272 K\n",
      "SearchFilterHost.exe         17728 Services                   0      6,364 K\n",
      "backgroundTaskHost.exe        8796 Console                   11     23,160 K\n",
      "backgroundTaskHost.exe        9184 Console                   11     28,124 K\n",
      "RuntimeBroker.exe             5416 Console                   11     22,624 K\n",
      "RuntimeBroker.exe            14368 Console                   11     11,224 K\n",
      "cmd.exe                       6784 Console                   11      3,848 K\n",
      "tasklist.exe                  9468 Console                   11     12,212 K\n",
      "WmiPrvSE.exe                 13300 Services                   0      8,832 K\n"
     ]
    }
   ],
   "source": [
    "# ! tasklist"
   ]
  },
  {
   "cell_type": "code",
   "execution_count": 2,
   "metadata": {},
   "outputs": [
    {
     "name": "stdout",
     "output_type": "stream",
     "text": [
      "pineapple\n",
      "blackberry\n",
      "cherry\n",
      "strawberry\n"
     ]
    }
   ],
   "source": [
    "t = (\"pineapple\", \"blackberry\", \"cherry\", \"strawberry\") # tuple\n",
    "ite = iter(t)\n",
    "\n",
    "print(next(ite))\n",
    "print(next(ite))\n",
    "print(next(ite))\n",
    "print(next(ite))\n"
   ]
  },
  {
   "cell_type": "code",
   "execution_count": 3,
   "metadata": {},
   "outputs": [
    {
     "name": "stdout",
     "output_type": "stream",
     "text": [
      "p\n",
      "i\n",
      "n\n",
      "e\n",
      "a\n",
      "p\n",
      "p\n",
      "l\n",
      "e\n"
     ]
    }
   ],
   "source": [
    "str = \"pineapple\" # String\n",
    "it = iter(str)\n",
    "\n",
    "print(next(it))\n",
    "print(next(it))\n",
    "print(next(it))\n",
    "print(next(it))\n",
    "print(next(it))\n",
    "print(next(it))\n",
    "print(next(it))\n",
    "print(next(it))\n",
    "print(next(it))"
   ]
  },
  {
   "cell_type": "code",
   "execution_count": 9,
   "metadata": {},
   "outputs": [
    {
     "name": "stdout",
     "output_type": "stream",
     "text": [
      "pineapple\n",
      "blackberry\n",
      "cherry\n",
      "strawberry\n"
     ]
    }
   ],
   "source": [
    "l = [\"pineapple\", \"blackberry\", \"cherry\", \"strawberry\"] # List\n",
    "ite = iter(t)\n",
    "\n",
    "print(next(ite))\n",
    "print(next(ite))\n",
    "print(next(ite))\n",
    "print(next(ite))"
   ]
  },
  {
   "cell_type": "code",
   "execution_count": 11,
   "metadata": {},
   "outputs": [
    {
     "name": "stdout",
     "output_type": "stream",
     "text": [
      "pineapple\n",
      "blackberry\n",
      "cherry\n",
      "strawberry\n"
     ]
    }
   ],
   "source": [
    "d = {1:\"pineapple\", 2:\"blackberry\", 3:\"cherry\", 4:\"strawberry\"} # Dictionary\n",
    "ite = iter(t)\n",
    "\n",
    "print(next(ite))\n",
    "print(next(ite))\n",
    "print(next(ite))\n",
    "print(next(ite))"
   ]
  },
  {
   "cell_type": "code",
   "execution_count": 67,
   "metadata": {},
   "outputs": [
    {
     "name": "stdout",
     "output_type": "stream",
     "text": [
      "1\n",
      "4\n",
      "9\n",
      "16\n",
      "25\n",
      "36\n",
      "49\n",
      "64\n",
      "81\n",
      "100\n"
     ]
    }
   ],
   "source": [
    "odd = (i ** 2 for i in [1,2,3,4,5,6,7,8,9,10]) # Create a generator\n",
    "ite = iter(odd)\n",
    "\n",
    "print(next(ite))\n",
    "print(next(ite))\n",
    "print(next(ite))\n",
    "print(next(ite))\n",
    "print(next(ite))\n",
    "print(next(ite))\n",
    "print(next(ite))\n",
    "print(next(ite))\n",
    "print(next(ite))\n",
    "print(next(ite))"
   ]
  },
  {
   "cell_type": "code",
   "execution_count": 68,
   "metadata": {},
   "outputs": [
    {
     "name": "stdout",
     "output_type": "stream",
     "text": [
      "['__class__', '__del__', '__delattr__', '__dir__', '__doc__', '__eq__', '__format__', '__ge__', '__getattribute__', '__gt__', '__hash__', '__init__', '__init_subclass__', '__iter__', '__le__', '__lt__', '__name__', '__ne__', '__new__', '__next__', '__qualname__', '__reduce__', '__reduce_ex__', '__repr__', '__setattr__', '__sizeof__', '__str__', '__subclasshook__', 'close', 'gi_code', 'gi_frame', 'gi_running', 'gi_yieldfrom', 'send', 'throw']\n"
     ]
    }
   ],
   "source": [
    "print(dir(ite))"
   ]
  },
  {
   "cell_type": "code",
   "execution_count": 70,
   "metadata": {},
   "outputs": [
    {
     "name": "stdout",
     "output_type": "stream",
     "text": [
      "1\n",
      "4\n",
      "9\n",
      "16\n",
      "25\n",
      "36\n",
      "49\n",
      "64\n",
      "81\n",
      "100\n"
     ]
    }
   ],
   "source": [
    "odd = (i ** 2 for i in [1,2,3,4,5,6,7,8,9,10]) # Create a generator\n",
    "ite = iter(odd)\n",
    "\n",
    "while True:\n",
    "    try:\n",
    "        pos = next(ite)\n",
    "        print(pos)\n",
    "    except StopIteration:\n",
    "        break"
   ]
  },
  {
   "cell_type": "code",
   "execution_count": 72,
   "metadata": {},
   "outputs": [
    {
     "name": "stdout",
     "output_type": "stream",
     "text": [
      "1\n",
      "4\n",
      "9\n",
      "16\n",
      "25\n",
      "36\n",
      "49\n",
      "64\n",
      "81\n",
      "100\n"
     ]
    }
   ],
   "source": [
    "odd = (i ** 2 for i in [1,2,3,4,5,6,7,8,9,10]) # Create a generator\n",
    "ite = iter(odd)\n",
    "\n",
    "for i in odd:\n",
    "    print(i)"
   ]
  },
  {
   "cell_type": "code",
   "execution_count": null,
   "metadata": {},
   "outputs": [],
   "source": []
  }
 ],
 "metadata": {
  "kernelspec": {
   "display_name": "Python 3",
   "language": "python",
   "name": "python3"
  },
  "language_info": {
   "codemirror_mode": {
    "name": "ipython",
    "version": 3
   },
   "file_extension": ".py",
   "mimetype": "text/x-python",
   "name": "python",
   "nbconvert_exporter": "python",
   "pygments_lexer": "ipython3",
   "version": "3.7.4"
  }
 },
 "nbformat": 4,
 "nbformat_minor": 2
}
