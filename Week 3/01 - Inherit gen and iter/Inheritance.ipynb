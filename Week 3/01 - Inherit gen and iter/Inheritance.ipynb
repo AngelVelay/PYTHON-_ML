{
 "cells": [
  {
   "cell_type": "markdown",
   "metadata": {},
   "source": [
    "# Inheritance"
   ]
  },
  {
   "cell_type": "code",
   "execution_count": 15,
   "metadata": {},
   "outputs": [
    {
     "name": "stdout",
     "output_type": "stream",
     "text": [
      "Hi my name is William Shakespeare\n"
     ]
    }
   ],
   "source": [
    "class Person(object):\n",
    "  def __init__(self, name, surname):\n",
    "    self.firstname = name\n",
    "    self.lastname = surname\n",
    "\n",
    "  def say_hello(self):\n",
    "    print(f'Hi my name is {self.firstname} {self.lastname}')\n",
    "\n",
    "\n",
    "p = Person(\"William\", \"Shakespeare\")\n",
    "p.say_hello()\n",
    "# dir(Person)"
   ]
  },
  {
   "cell_type": "code",
   "execution_count": 10,
   "metadata": {},
   "outputs": [
    {
     "name": "stdout",
     "output_type": "stream",
     "text": [
      "I'm a new person\n",
      "My name is Tom\n"
     ]
    },
    {
     "data": {
      "text/plain": [
       "'Tom'"
      ]
     },
     "execution_count": 10,
     "metadata": {},
     "output_type": "execute_result"
    }
   ],
   "source": [
    "class Person():\n",
    "    def __init__(self, name):\n",
    "        self.name = name\n",
    "        print('I\\'m a new person')\n",
    "        print(f'My name is {self.name}')\n",
    "        \n",
    "p = Person(\"Tom\")\n",
    "p.name"
   ]
  },
  {
   "cell_type": "code",
   "execution_count": 16,
   "metadata": {},
   "outputs": [
    {
     "name": "stdout",
     "output_type": "stream",
     "text": [
      "i'm William Shakespeare will attack you\n"
     ]
    }
   ],
   "source": [
    "class Hero(Person):\n",
    "    \n",
    "    def attack(self):\n",
    "        print(f'i\\'m {self.firstname} {self.lastname} will attack you')\n",
    "\n",
    "        \n",
    "h = Hero(\"William\", \"Shakespeare\")\n",
    "h.attack()"
   ]
  },
  {
   "cell_type": "code",
   "execution_count": 19,
   "metadata": {},
   "outputs": [
    {
     "name": "stdout",
     "output_type": "stream",
     "text": [
      "i'm Theodore Roosevelt will write the history of my country\n"
     ]
    }
   ],
   "source": [
    "class President(Person):\n",
    "    \n",
    "    def write(self):\n",
    "        print(f'i\\'m {self.firstname} {self.lastname} will write the history of my country')\n",
    "\n",
    "        \n",
    "h = President(\"Theodore\", \"Roosevelt\")\n",
    "h.write()"
   ]
  },
  {
   "cell_type": "code",
   "execution_count": 20,
   "metadata": {},
   "outputs": [
    {
     "name": "stdout",
     "output_type": "stream",
     "text": [
      "i'm george washington will write the history of my country\n",
      "i'm george washington will attack you\n"
     ]
    }
   ],
   "source": [
    "class Revolutionary(President, Hero):\n",
    "    \n",
    "    def revolution(self):\n",
    "        self.write()\n",
    "        self.attack()\n",
    "    \n",
    "p = Revolutionary(\"george\", \"washington\")\n",
    "p.revolution()"
   ]
  },
  {
   "cell_type": "code",
   "execution_count": 27,
   "metadata": {},
   "outputs": [
    {
     "name": "stdout",
     "output_type": "stream",
     "text": [
      "---------------\n",
      "Hi my name is William\n",
      "---------------\n",
      "Hi my name is Frederic\n",
      "your mission will be Collect all fruits in market\n",
      "---------------\n",
      "Hi my name is Jhonatan\n",
      "i was a great hero\n",
      "---------------\n",
      "Slime lvl 1\n",
      "Slime lvl 1 use lava to attack you\n"
     ]
    }
   ],
   "source": [
    "class NPC(object):\n",
    "  def __init__(self, name):\n",
    "    self.firstname = name\n",
    "\n",
    "  def say_hello(self):\n",
    "    print(f'Hi my name is {self.firstname}')\n",
    "  \n",
    "  def description(self):\n",
    "    print(self.firstname)\n",
    "\n",
    "    \n",
    "print(\"---------------\")\n",
    "npc = NPC(\"William\")\n",
    "npc.say_hello()\n",
    "\n",
    "\n",
    "class Farmer(NPC):\n",
    "  def __init__(self, name, mission):\n",
    "    self.firstname = name\n",
    "    self.mission = mission\n",
    "\n",
    "  def task(self):\n",
    "    print(f'your mission will be {self.mission}')\n",
    "\n",
    "    \n",
    "print(\"---------------\")\n",
    "farmer = Farmer(\"Frederic\", \"Collect all fruits in market\")\n",
    "farmer.say_hello()\n",
    "farmer.task()\n",
    "\n",
    "\n",
    "class Hero(NPC):\n",
    "  def __init__(self, name):\n",
    "    self.firstname = name\n",
    "\n",
    "  def msg(self):\n",
    "    print(f'i was a great hero')\n",
    "\n",
    "    \n",
    "print(\"---------------\")\n",
    "hero = Hero(\"Jhonatan\")\n",
    "hero.say_hello()\n",
    "hero.msg()\n",
    "\n",
    "\n",
    "class Monster(object):\n",
    "    def __init__(self, atk):\n",
    "        self.atk = atk\n",
    "    \n",
    "    def attack(self):\n",
    "        print(f'{self.firstname} use {self.atk} to attack you')\n",
    "\n",
    "\n",
    "class Slime(NPC, Monster):\n",
    "  def __init__(self, name, atk):\n",
    "    self.firstname = name\n",
    "    self.atk = atk\n",
    "\n",
    "    \n",
    "print(\"---------------\")\n",
    "slime = Slime(\"Slime lvl 1\", \"lava\")\n",
    "slime.description()\n",
    "slime.attack()\n"
   ]
  },
  {
   "cell_type": "code",
   "execution_count": 74,
   "metadata": {},
   "outputs": [
    {
     "name": "stdout",
     "output_type": "stream",
     "text": [
      "I'm B class\n",
      "I inherit this method from A\n",
      "I inherit this method from B\n",
      "This method belongs to C\n"
     ]
    }
   ],
   "source": [
    "class A:\n",
    "    def __init__(self):\n",
    "        print(\"I'm A class\")\n",
    "    def a(self):\n",
    "        print(\"I inherit this method from A\")\n",
    "\n",
    "        \n",
    "class B:\n",
    "    def __init__(self):\n",
    "        print(\"I'm B class\")\n",
    "    def b(self):\n",
    "        print(\"I inherit this method from B\")\n",
    "\n",
    "        \n",
    "class C(B,A):\n",
    "    def c(self):\n",
    "        print(\"This method belongs to C\")\n",
    "\n",
    "\n",
    "c = C()\n",
    "c.a()\n",
    "c.b()\n",
    "c.c()"
   ]
  },
  {
   "cell_type": "code",
   "execution_count": 40,
   "metadata": {},
   "outputs": [
    {
     "name": "stdout",
     "output_type": "stream",
     "text": [
      "I'm A class and my name is Holland fire\n",
      "My power is Josep\n",
      "I inherit this method from A\n",
      "This method belongs to C\n",
      "------------------\n",
      "I'm B class and my string is Hello world\n",
      "I inherit this method from B\n",
      "this method belongs to D\n"
     ]
    }
   ],
   "source": [
    "class A(object):\n",
    "    def __init__(self, name, surname):\n",
    "        self.surname = surname\n",
    "        self.name = name\n",
    "        print(f\"I'm A class and my name is {self.name} {self.surname}\")\n",
    "    def a(self):\n",
    "        print(\"I inherit this method from A\")\n",
    "\n",
    "        \n",
    "class B(object):\n",
    "    def __init__(self, str):\n",
    "        self.str = str\n",
    "        print(f\"I'm B class and my string is {self.str}\")\n",
    "    def b(self):\n",
    "        print(\"I inherit this method from B\")\n",
    "\n",
    "        \n",
    "class C(A):\n",
    "    def __init__(self, name, surname, power):\n",
    "        super().__init__(name, surname)\n",
    "        self.power = power\n",
    "        print(f'My power is {self.power}')\n",
    "        \n",
    "    def c(self):\n",
    "        print(\"This method belongs to C\")\n",
    "\n",
    "\n",
    "class D(B):\n",
    "    def __init__(self, str):\n",
    "        B.__init__(self, str)\n",
    "\n",
    "    def d(self):\n",
    "        print(\"this method belongs to D\")\n",
    "        \n",
    "        \n",
    "c = C(\"Josep\",\"Holland\" ,\"fire\")\n",
    "c.a()\n",
    "c.c()\n",
    "print(\"------------------\")\n",
    "d = D(\"Hello world\")\n",
    "d.b()\n",
    "d.d()"
   ]
  },
  {
   "cell_type": "code",
   "execution_count": 52,
   "metadata": {},
   "outputs": [],
   "source": [
    "import random"
   ]
  },
  {
   "cell_type": "code",
   "execution_count": 141,
   "metadata": {},
   "outputs": [],
   "source": [
    "def success():\n",
    "    rand = random.randrange(0,100) \n",
    "    if rand > 50:\n",
    "        return True\n",
    "    else:\n",
    "        return False\n",
    "    \n",
    "\n",
    "class Person(object):\n",
    "    def __init__(self, name, hp, atk, power):\n",
    "        self.name = name\n",
    "        self.hp = hp\n",
    "        self.atk = atk\n",
    "        self.power = power\n",
    "    \n",
    "    def say_name(self):\n",
    "        print(f\"Hi, my name is {self.name}\")\n",
    "    \n",
    "    \n",
    "class NPC(object):\n",
    "    def task(self, mission):\n",
    "        print(f'my mission is {mission}')\n",
    "    \n",
    "    \n",
    "class Villain(Person, NPC):\n",
    "    def attack(self, mission='Attack the City'):\n",
    "        self.task(mission)\n",
    "    \n",
    "class Guardian(Person, NPC):\n",
    "    def defend(self, mission='Defend the City'):\n",
    "        self.task(mission)\n",
    "    \n",
    "class Monster(object):\n",
    "    def __init__(self,name, hp, atk, power):\n",
    "        self.name = name\n",
    "        self.hp = hp\n",
    "        self.atk = atk\n",
    "        self.power = power\n",
    "    \n",
    "    def attack(self, obj):\n",
    "        if self.hp <= 0:\n",
    "            print(f'{self.name} has already dead')\n",
    "        else:\n",
    "            if success():\n",
    "                if obj.hp <= 0:\n",
    "                    print(f'{obj.name} is dead')\n",
    "                else:\n",
    "                    print(f'{self.name} attack to {obj.name} with {self.power}')\n",
    "                    obj.hp -= self.atk\n",
    "                    print(f\"{obj.name} actual HP: {obj.hp}\")\n",
    "                    if obj.hp <= 0:\n",
    "                        print(f'{obj.name} is dead')\n",
    "            else:\n",
    "                print(f\"miss attack to {obj.name}\")\n",
    "        \n",
    "class Player(Person):\n",
    "    def attack(self, obj):\n",
    "        if self.hp <= 0:\n",
    "            print(f'{self.name} has already dead')\n",
    "        else:\n",
    "            if success():\n",
    "                if obj.hp <= 0:\n",
    "                    print(f'{obj.name} is dead')\n",
    "                else:\n",
    "                    print(f'{self.name} attack to {obj.name} with {self.power}')\n",
    "                    obj.hp -= self.atk\n",
    "                    print(f\"{obj.name}  actual HP: {obj.hp}\")\n",
    "                    if obj.hp <= 0:\n",
    "                        print(f'{obj.name} is dead')\n",
    "            else:\n",
    "                print(f\"miss attack to {obj.name}\")\n",
    "     \n",
    "    \n",
    "class Dragon(Monster, NPC):\n",
    "    \n",
    "    def __init__(self,name, hp, atk, power, since):\n",
    "        Monster.__init__(self,name, hp, atk, power)\n",
    "        self.since = since\n",
    "\n",
    "    def mission(self):\n",
    "        print(f'I\\'m {self.name}')\n",
    "        self.task(f\"Defend the treasure since {self.since}\")\n",
    "        \n",
    "    \n",
    "    \n",
    "class Cerbero(Monster, NPC):\n",
    "\n",
    "    def defend(self):\n",
    "        print(f'i will defend the underworld')\n",
    "        \n",
    "    def mission(self):\n",
    "        print(f'I\\'m {self.name}')\n",
    "        self.task(f\"Defend the treasure since {self.since}\")\n",
    "    "
   ]
  },
  {
   "cell_type": "code",
   "execution_count": 142,
   "metadata": {},
   "outputs": [
    {
     "name": "stdout",
     "output_type": "stream",
     "text": [
      "-------------------------------------------\n",
      "\n",
      "\n",
      "Hi, my name is Loki\n",
      "my mission is Attack the City\n",
      "-------------------------------------------\n",
      "\n",
      "\n",
      "Hi, my name is Thor\n",
      "my mission is Defend the City\n",
      "-------------------------------------------\n",
      "\n",
      "\n",
      "Hi, my name is Ezrean\n",
      "-------------------------------------------\n",
      "\n",
      "\n",
      "I'm Ishram\n",
      "my mission is Defend the treasure since 300 B.C.\n",
      "-----------------------------------\n",
      "\n",
      "\n",
      "-------------------------------\n",
      "\n",
      "\n",
      "miss attack to Loki\n",
      "Ezrean attack to Thor with water\n",
      "Thor  actual HP: 1980\n",
      "miss attack to Ezrean\n",
      "-------------------------------\n",
      "\n",
      "\n",
      "i will defend the underworld\n"
     ]
    }
   ],
   "source": [
    "print(\"-------------------------------------------\\n\\n\")\n",
    "v = Villain(\"Loki\", 2000, 300, 'Joke')\n",
    "v.say_name()\n",
    "v.attack()\n",
    "\n",
    "print(\"-------------------------------------------\\n\\n\")\n",
    "g = Guardian(\"Thor\", 2000, 300, 'Thunder')\n",
    "g.say_name()\n",
    "g.defend()\n",
    "\n",
    "print(\"-------------------------------------------\\n\\n\")\n",
    "p = Player(\"Ezrean\", 100, 20, 'water')\n",
    "p.say_name()\n",
    "\n",
    "print(\"-------------------------------------------\\n\\n\")\n",
    "d = Dragon(\"Ishram\",100, 50, 'fire', \"300 B.C.\")\n",
    "d.mission()\n",
    "\n",
    "print(\"-----------------------------------\\n\\n\")\n",
    "'''\n",
    "d.attack(p)\n",
    "p.attack(d)\n",
    "d.attack(p)\n",
    "p.attack(d)\n",
    "d.attack(p)\n",
    "p.attack(d)\n",
    "d.attack(p)\n",
    "'''\n",
    "print(\"-------------------------------\\n\\n\")\n",
    "p.attack(v)\n",
    "p.attack(g)\n",
    "p.attack(p)\n",
    "print(\"-------------------------------\\n\\n\")\n",
    "\n",
    "c = Cerbero(\"Cerberus\",3000, 5000, 'No death')\n",
    "c.defend()\n",
    "\n"
   ]
  },
  {
   "cell_type": "code",
   "execution_count": null,
   "metadata": {},
   "outputs": [],
   "source": []
  }
 ],
 "metadata": {
  "kernelspec": {
   "display_name": "Python 3",
   "language": "python",
   "name": "python3"
  },
  "language_info": {
   "codemirror_mode": {
    "name": "ipython",
    "version": 3
   },
   "file_extension": ".py",
   "mimetype": "text/x-python",
   "name": "python",
   "nbconvert_exporter": "python",
   "pygments_lexer": "ipython3",
   "version": "3.7.4"
  }
 },
 "nbformat": 4,
 "nbformat_minor": 2
}
