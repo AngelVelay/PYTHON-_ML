{
 "cells": [
  {
   "cell_type": "code",
   "execution_count": 7,
   "metadata": {},
   "outputs": [
    {
     "name": "stdout",
     "output_type": "stream",
     "text": [
      "hello\n"
     ]
    }
   ],
   "source": [
    "# Nested Functions\n",
    "\n",
    "def outer(text):\n",
    "    text = text # Non local variable\n",
    "  \n",
    "    def inner(): \n",
    "        print(text) \n",
    "  \n",
    "    inner() \n",
    "    \n",
    "\n",
    "\n",
    "outer(\"hello\")\n"
   ]
  },
  {
   "cell_type": "markdown",
   "metadata": {},
   "source": [
    "# A Closure is a function object that remembers values in enclosing scopes even if they are not present in memory.\n",
    "Basically, the method of binding data to a function without actually \n",
    "passing them as parameters is called closure. It is a function object \n",
    "that remembers values in enclosing scopes even if they are not present in memory.\n",
    "\n",
    "# Criteria\n",
    "- We must have a nested function (function inside a function).\n",
    "- The nested function must refer to a value defined in the enclosing function.\n",
    "- The enclosing function must return the nested function.\n",
    "\n",
    "\n",
    "## So what are closures good for?\n",
    "\n",
    "Closures can avoid the use of global values and provides some form of data hiding. It can also provide an object oriented solution to the problem.\n",
    "\n",
    "When there are few methods (one method in most cases) to be implemented in a class, closures can provide an alternate and more elegant solutions. But when the number of attributes and methods get larger, better implement a class.\n"
   ]
  },
  {
   "cell_type": "code",
   "execution_count": 10,
   "metadata": {},
   "outputs": [
    {
     "name": "stdout",
     "output_type": "stream",
     "text": [
      "hello\n"
     ]
    }
   ],
   "source": [
    "\n",
    "def outer(text): \n",
    "    text = text \n",
    "  \n",
    "    def inner(): \n",
    "        print(text) \n",
    "    \n",
    "    #inner()\n",
    "    return inner # Important Note: we are returning function WITHOUT parenthesis \n",
    "\n",
    "#outer(\"hello\")\n",
    "newfunction = outer(\"hello\")\n",
    "newfunction()"
   ]
  },
  {
   "cell_type": "code",
   "execution_count": 12,
   "metadata": {},
   "outputs": [
    {
     "name": "stdout",
     "output_type": "stream",
     "text": [
      "50\n"
     ]
    }
   ],
   "source": [
    "def multiply(n):\n",
    "    def multiplier(number):\n",
    "        return number*n\n",
    "    return multiplier\n",
    "\n",
    "multiply_with_10 = multiply(10)\n",
    "print(multiply_with_10(5))"
   ]
  },
  {
   "cell_type": "code",
   "execution_count": 13,
   "metadata": {},
   "outputs": [
    {
     "name": "stdout",
     "output_type": "stream",
     "text": [
      "Before Change: msg= Hi\n",
      "Here is non local: msg:Hi\n",
      "Print from inside: Hello\n",
      "Print from outside: Hello\n"
     ]
    }
   ],
   "source": [
    "def outside():\n",
    "    msg = 'Hi'\n",
    "    print(f'Before Change: msg= {msg}')\n",
    "    def inside():\n",
    "        nonlocal msg\n",
    "        print(f'Here is non local: msg:{msg}')\n",
    "        msg = 'Hello'\n",
    "        print (f'Print from inside: {msg}')\n",
    "    inside()\n",
    "    print (f'Print from outside: {msg}')\n",
    "    \n",
    "outside()"
   ]
  },
  {
   "cell_type": "code",
   "execution_count": 19,
   "metadata": {},
   "outputs": [
    {
     "name": "stdout",
     "output_type": "stream",
     "text": [
      "I belong to func_A ______ From Func_A\n"
     ]
    }
   ],
   "source": [
    "def func_A():\n",
    "    msg = 'I belong to func_A'\n",
    "    \n",
    "    def func_B():\n",
    "        print (f'{msg} ______ From Func_A')\n",
    "    return func_B\n",
    "\n",
    "obj = func_A() #binding the function to an object\n",
    "obj()"
   ]
  },
  {
   "cell_type": "code",
   "execution_count": 22,
   "metadata": {},
   "outputs": [],
   "source": [
    "del func_A"
   ]
  },
  {
   "cell_type": "code",
   "execution_count": 23,
   "metadata": {},
   "outputs": [
    {
     "name": "stdout",
     "output_type": "stream",
     "text": [
      "I belong to func_A ______ From Func_A\n"
     ]
    }
   ],
   "source": [
    "obj()"
   ]
  },
  {
   "cell_type": "code",
   "execution_count": 24,
   "metadata": {},
   "outputs": [
    {
     "ename": "NameError",
     "evalue": "name 'func_A' is not defined",
     "output_type": "error",
     "traceback": [
      "\u001b[1;31m---------------------------------------------------------------------------\u001b[0m",
      "\u001b[1;31mNameError\u001b[0m                                 Traceback (most recent call last)",
      "\u001b[1;32m<ipython-input-24-5539a98c598a>\u001b[0m in \u001b[0;36m<module>\u001b[1;34m\u001b[0m\n\u001b[1;32m----> 1\u001b[1;33m \u001b[0mobj2\u001b[0m \u001b[1;33m=\u001b[0m \u001b[0mfunc_A\u001b[0m\u001b[1;33m\u001b[0m\u001b[1;33m\u001b[0m\u001b[0m\n\u001b[0m",
      "\u001b[1;31mNameError\u001b[0m: name 'func_A' is not defined"
     ]
    }
   ],
   "source": [
    "obj2 = func_A"
   ]
  },
  {
   "cell_type": "code",
   "execution_count": 27,
   "metadata": {},
   "outputs": [
    {
     "name": "stdout",
     "output_type": "stream",
     "text": [
      "I belong to func_A ______ From Func_A\n"
     ]
    }
   ],
   "source": [
    "obj2 = obj()\n",
    "#obj2()"
   ]
  },
  {
   "cell_type": "code",
   "execution_count": 32,
   "metadata": {},
   "outputs": [
    {
     "data": {
      "text/plain": [
       "NoneType"
      ]
     },
     "execution_count": 32,
     "metadata": {},
     "output_type": "execute_result"
    }
   ],
   "source": [
    "type(obj2)"
   ]
  },
  {
   "cell_type": "code",
   "execution_count": 30,
   "metadata": {},
   "outputs": [
    {
     "data": {
      "text/plain": [
       "<function __main__.func_A.<locals>.func_B()>"
      ]
     },
     "execution_count": 30,
     "metadata": {},
     "output_type": "execute_result"
    }
   ],
   "source": [
    "obj"
   ]
  },
  {
   "cell_type": "code",
   "execution_count": 34,
   "metadata": {},
   "outputs": [],
   "source": [
    "obj3 = obj"
   ]
  },
  {
   "cell_type": "code",
   "execution_count": 35,
   "metadata": {},
   "outputs": [
    {
     "name": "stdout",
     "output_type": "stream",
     "text": [
      "I belong to func_A ______ From Func_A\n"
     ]
    }
   ],
   "source": [
    "obj3()"
   ]
  },
  {
   "cell_type": "code",
   "execution_count": 38,
   "metadata": {},
   "outputs": [],
   "source": [
    "def experiment():\n",
    "    msg = \"Hello from experiment\"\n",
    "    \n",
    "    def A():\n",
    "        print(msg)\n",
    "    \n",
    "    def B():\n",
    "        print(f'{msg} + 1')\n",
    "    \n",
    "    return A, B\n",
    "\n",
    "a,b = experiment()"
   ]
  },
  {
   "cell_type": "code",
   "execution_count": 39,
   "metadata": {},
   "outputs": [
    {
     "name": "stdout",
     "output_type": "stream",
     "text": [
      "Hello from experiment\n"
     ]
    }
   ],
   "source": [
    "a()"
   ]
  },
  {
   "cell_type": "code",
   "execution_count": 40,
   "metadata": {},
   "outputs": [
    {
     "name": "stdout",
     "output_type": "stream",
     "text": [
      "Hello from experiment + 1\n"
     ]
    }
   ],
   "source": [
    "b()"
   ]
  },
  {
   "cell_type": "code",
   "execution_count": 41,
   "metadata": {},
   "outputs": [],
   "source": [
    "c = experiment()"
   ]
  },
  {
   "cell_type": "code",
   "execution_count": 42,
   "metadata": {},
   "outputs": [
    {
     "data": {
      "text/plain": [
       "(<function __main__.experiment.<locals>.A()>,\n",
       " <function __main__.experiment.<locals>.B()>)"
      ]
     },
     "execution_count": 42,
     "metadata": {},
     "output_type": "execute_result"
    }
   ],
   "source": [
    "c"
   ]
  },
  {
   "cell_type": "code",
   "execution_count": 47,
   "metadata": {},
   "outputs": [
    {
     "name": "stdout",
     "output_type": "stream",
     "text": [
      "Hello from experiment\n"
     ]
    }
   ],
   "source": [
    "c[0]()"
   ]
  },
  {
   "cell_type": "code",
   "execution_count": null,
   "metadata": {},
   "outputs": [],
   "source": []
  }
 ],
 "metadata": {
  "kernelspec": {
   "display_name": "Python 3",
   "language": "python",
   "name": "python3"
  },
  "language_info": {
   "codemirror_mode": {
    "name": "ipython",
    "version": 3
   },
   "file_extension": ".py",
   "mimetype": "text/x-python",
   "name": "python",
   "nbconvert_exporter": "python",
   "pygments_lexer": "ipython3",
   "version": "3.7.4"
  }
 },
 "nbformat": 4,
 "nbformat_minor": 2
}
