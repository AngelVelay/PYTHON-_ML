{
 "cells": [
  {
   "cell_type": "markdown",
   "metadata": {},
   "source": [
    "### Manual\n",
    "\n",
    "- Changing Parameters \n",
    "- Choose the model to optimize\n",
    "- search the documentation\n",
    "- identify possible adjustments\n",
    "- test combinations one by one by iterating through lists\n",
    "\n",
    "### GridSearchCV (when we have a lot of time)\n",
    "\n",
    "- Grid optimization\n",
    "- Define one or more metrics that we want to optimize\n",
    "- identify the possible values that the parameters may have\n",
    "- create a parameter dictionary\n",
    "- use cross validation\n",
    "\n",
    "\n",
    "### RandomizedSearchCV (when we don't have much time)\n",
    "\n",
    "- Random optimization\n",
    "- Define one or more metrics that we want to optimize\n",
    "- identify the ranges of values values that can take certain parameters\n",
    "- create a value range dictionary\n",
    "- use cross validation\n",
    "\n",
    "\n",
    "<img src=\"https://miro.medium.com/max/1004/0*yDmmJmvRowl0cSN8.png\">"
   ]
  },
  {
   "cell_type": "code",
   "execution_count": 1,
   "metadata": {},
   "outputs": [],
   "source": [
    "import pandas as pd \n",
    "from sklearn.model_selection import RandomizedSearchCV, GridSearchCV\n",
    "from sklearn.ensemble import RandomForestRegressor\n",
    "from sklearn.svm import SVR"
   ]
  },
  {
   "cell_type": "code",
   "execution_count": 2,
   "metadata": {},
   "outputs": [
    {
     "data": {
      "text/html": [
       "<div>\n",
       "<style scoped>\n",
       "    .dataframe tbody tr th:only-of-type {\n",
       "        vertical-align: middle;\n",
       "    }\n",
       "\n",
       "    .dataframe tbody tr th {\n",
       "        vertical-align: top;\n",
       "    }\n",
       "\n",
       "    .dataframe thead th {\n",
       "        text-align: right;\n",
       "    }\n",
       "</style>\n",
       "<table border=\"1\" class=\"dataframe\">\n",
       "  <thead>\n",
       "    <tr style=\"text-align: right;\">\n",
       "      <th></th>\n",
       "      <th>country</th>\n",
       "      <th>rank</th>\n",
       "      <th>score</th>\n",
       "      <th>high</th>\n",
       "      <th>low</th>\n",
       "      <th>gdp</th>\n",
       "      <th>family</th>\n",
       "      <th>lifexp</th>\n",
       "      <th>freedom</th>\n",
       "      <th>generosity</th>\n",
       "      <th>corruption</th>\n",
       "      <th>dystopia</th>\n",
       "    </tr>\n",
       "  </thead>\n",
       "  <tbody>\n",
       "    <tr>\n",
       "      <td>0</td>\n",
       "      <td>Norway</td>\n",
       "      <td>1</td>\n",
       "      <td>7.537</td>\n",
       "      <td>7.594445</td>\n",
       "      <td>7.479556</td>\n",
       "      <td>1.616463</td>\n",
       "      <td>1.533524</td>\n",
       "      <td>0.796667</td>\n",
       "      <td>0.635423</td>\n",
       "      <td>0.362012</td>\n",
       "      <td>0.315964</td>\n",
       "      <td>2.277027</td>\n",
       "    </tr>\n",
       "    <tr>\n",
       "      <td>1</td>\n",
       "      <td>Denmark</td>\n",
       "      <td>2</td>\n",
       "      <td>7.522</td>\n",
       "      <td>7.581728</td>\n",
       "      <td>7.462272</td>\n",
       "      <td>1.482383</td>\n",
       "      <td>1.551122</td>\n",
       "      <td>0.792566</td>\n",
       "      <td>0.626007</td>\n",
       "      <td>0.355280</td>\n",
       "      <td>0.400770</td>\n",
       "      <td>2.313707</td>\n",
       "    </tr>\n",
       "    <tr>\n",
       "      <td>2</td>\n",
       "      <td>Iceland</td>\n",
       "      <td>3</td>\n",
       "      <td>7.504</td>\n",
       "      <td>7.622030</td>\n",
       "      <td>7.385970</td>\n",
       "      <td>1.480633</td>\n",
       "      <td>1.610574</td>\n",
       "      <td>0.833552</td>\n",
       "      <td>0.627163</td>\n",
       "      <td>0.475540</td>\n",
       "      <td>0.153527</td>\n",
       "      <td>2.322715</td>\n",
       "    </tr>\n",
       "    <tr>\n",
       "      <td>3</td>\n",
       "      <td>Switzerland</td>\n",
       "      <td>4</td>\n",
       "      <td>7.494</td>\n",
       "      <td>7.561772</td>\n",
       "      <td>7.426227</td>\n",
       "      <td>1.564980</td>\n",
       "      <td>1.516912</td>\n",
       "      <td>0.858131</td>\n",
       "      <td>0.620071</td>\n",
       "      <td>0.290549</td>\n",
       "      <td>0.367007</td>\n",
       "      <td>2.276716</td>\n",
       "    </tr>\n",
       "    <tr>\n",
       "      <td>4</td>\n",
       "      <td>Finland</td>\n",
       "      <td>5</td>\n",
       "      <td>7.469</td>\n",
       "      <td>7.527542</td>\n",
       "      <td>7.410458</td>\n",
       "      <td>1.443572</td>\n",
       "      <td>1.540247</td>\n",
       "      <td>0.809158</td>\n",
       "      <td>0.617951</td>\n",
       "      <td>0.245483</td>\n",
       "      <td>0.382612</td>\n",
       "      <td>2.430182</td>\n",
       "    </tr>\n",
       "  </tbody>\n",
       "</table>\n",
       "</div>"
      ],
      "text/plain": [
       "       country  rank  score      high       low       gdp    family    lifexp  \\\n",
       "0       Norway     1  7.537  7.594445  7.479556  1.616463  1.533524  0.796667   \n",
       "1      Denmark     2  7.522  7.581728  7.462272  1.482383  1.551122  0.792566   \n",
       "2      Iceland     3  7.504  7.622030  7.385970  1.480633  1.610574  0.833552   \n",
       "3  Switzerland     4  7.494  7.561772  7.426227  1.564980  1.516912  0.858131   \n",
       "4      Finland     5  7.469  7.527542  7.410458  1.443572  1.540247  0.809158   \n",
       "\n",
       "    freedom  generosity  corruption  dystopia  \n",
       "0  0.635423    0.362012    0.315964  2.277027  \n",
       "1  0.626007    0.355280    0.400770  2.313707  \n",
       "2  0.627163    0.475540    0.153527  2.322715  \n",
       "3  0.620071    0.290549    0.367007  2.276716  \n",
       "4  0.617951    0.245483    0.382612  2.430182  "
      ]
     },
     "execution_count": 2,
     "metadata": {},
     "output_type": "execute_result"
    }
   ],
   "source": [
    "df = pd.read_csv('../Datasets/Week9/world_happiness.csv')\n",
    "df.head()"
   ]
  },
  {
   "cell_type": "code",
   "execution_count": 3,
   "metadata": {},
   "outputs": [
    {
     "name": "stdout",
     "output_type": "stream",
     "text": [
      "<class 'pandas.core.frame.DataFrame'>\n",
      "RangeIndex: 155 entries, 0 to 154\n",
      "Data columns (total 12 columns):\n",
      "country       155 non-null object\n",
      "rank          155 non-null int64\n",
      "score         155 non-null float64\n",
      "high          155 non-null float64\n",
      "low           155 non-null float64\n",
      "gdp           155 non-null float64\n",
      "family        155 non-null float64\n",
      "lifexp        155 non-null float64\n",
      "freedom       155 non-null float64\n",
      "generosity    155 non-null float64\n",
      "corruption    155 non-null float64\n",
      "dystopia      155 non-null float64\n",
      "dtypes: float64(10), int64(1), object(1)\n",
      "memory usage: 14.7+ KB\n"
     ]
    }
   ],
   "source": [
    "df.info()"
   ]
  },
  {
   "cell_type": "code",
   "execution_count": 4,
   "metadata": {},
   "outputs": [
    {
     "name": "stdout",
     "output_type": "stream",
     "text": [
      "RandomForestRegressor(bootstrap=True, criterion='mae', max_depth=11,\n",
      "                      max_features='auto', max_leaf_nodes=None,\n",
      "                      min_impurity_decrease=0.0, min_impurity_split=None,\n",
      "                      min_samples_leaf=1, min_samples_split=2,\n",
      "                      min_weight_fraction_leaf=0.0, n_estimators=9, n_jobs=None,\n",
      "                      oob_score=False, random_state=None, verbose=0,\n",
      "                      warm_start=False)\n",
      "{'n_estimators': 9, 'max_depth': 11, 'criterion': 'mae'}\n",
      "-0.5767009696478449\n",
      "[7.57753926]\n"
     ]
    }
   ],
   "source": [
    "X = df.iloc[:, 3:]\n",
    "y = df.iloc[:, 3]\n",
    "\n",
    "\n",
    "reg = RandomForestRegressor()\n",
    "\n",
    "params = {\n",
    "    'n_estimators': range(4,16),\n",
    "    'criterion': ['mse', 'mae'],\n",
    "    'max_depth': range(2,12)\n",
    "} \n",
    "\n",
    "\n",
    "rand_est = RandomizedSearchCV(reg, params, n_iter=10, cv=3, scoring='neg_mean_squared_error', iid=True).fit(X,y)\n",
    "\n",
    "print(rand_est.best_estimator_)\n",
    "print(rand_est.best_params_)\n",
    "print(rand_est.best_score_)\n",
    "print(rand_est.predict(X.loc[[0]]))"
   ]
  },
  {
   "cell_type": "code",
   "execution_count": 5,
   "metadata": {
    "scrolled": true
   },
   "outputs": [
    {
     "name": "stdout",
     "output_type": "stream",
     "text": [
      "RandomForestRegressor(bootstrap=True, criterion='mse', max_depth=6,\n",
      "                      max_features='auto', max_leaf_nodes=None,\n",
      "                      min_impurity_decrease=0.0, min_impurity_split=None,\n",
      "                      min_samples_leaf=1, min_samples_split=2,\n",
      "                      min_weight_fraction_leaf=0.0, n_estimators=8, n_jobs=None,\n",
      "                      oob_score=False, random_state=None, verbose=0,\n",
      "                      warm_start=False)\n",
      "{'criterion': 'mse', 'max_depth': 6, 'n_estimators': 8}\n",
      "-0.5807896341214042\n",
      "[7.59484835]\n"
     ]
    }
   ],
   "source": [
    "reg = RandomForestRegressor()\n",
    "\n",
    "params = {\n",
    "    'n_estimators': [4,8,16],\n",
    "    'criterion': ['mse', 'mae'],\n",
    "    'max_depth':[2,3,4,6,8]\n",
    "} \n",
    "\n",
    "\n",
    "grid_est = GridSearchCV(reg, params, cv=3, scoring='neg_mean_squared_error',iid=True).fit(X,y)\n",
    "\n",
    "print(grid_est.best_estimator_)\n",
    "print(grid_est.best_params_)\n",
    "print(grid_est.best_score_)\n",
    "print(grid_est.predict(X.loc[[0]]))"
   ]
  },
  {
   "cell_type": "code",
   "execution_count": 6,
   "metadata": {},
   "outputs": [
    {
     "name": "stdout",
     "output_type": "stream",
     "text": [
      "SVR(C=1, cache_size=200, coef0=0.0, degree=3, epsilon=0.1, gamma='scale',\n",
      "    kernel='linear', max_iter=-1, shrinking=True, tol=0.001, verbose=False)\n",
      "{'C': 1, 'epsilon': 0.1, 'gamma': 'scale', 'kernel': 'linear'}\n",
      "-0.006498826474663803\n",
      "[7.60467064]\n"
     ]
    }
   ],
   "source": [
    "reg = SVR()\n",
    "\n",
    "params = { \n",
    "    'gamma': ['scale', 'auto'],\n",
    "    'kernel': ['linear', 'rbf'],\n",
    "    'C': [1, 1.1],\n",
    "    'epsilon': [0.1, 0.5]\n",
    "} \n",
    "\n",
    "\n",
    "grid_est = GridSearchCV(reg, params, cv=3, scoring='neg_mean_squared_error',iid=True).fit(X,y)\n",
    "\n",
    "print(grid_est.best_estimator_)\n",
    "print(grid_est.best_params_)\n",
    "print(grid_est.best_score_)\n",
    "print(grid_est.predict(X.loc[[0]]))"
   ]
  },
  {
   "cell_type": "code",
   "execution_count": 7,
   "metadata": {},
   "outputs": [
    {
     "data": {
      "text/plain": [
       "0.9974924787913797"
      ]
     },
     "execution_count": 7,
     "metadata": {},
     "output_type": "execute_result"
    }
   ],
   "source": [
    "from sklearn.metrics import r2_score\n",
    "svr = SVR(C= 1, epsilon=0.1, gamma='scale', kernel='linear').fit(X,y)\n",
    "y_pred=svr.predict(X)\n",
    "r2_score(y_pred,y)"
   ]
  },
  {
   "cell_type": "code",
   "execution_count": null,
   "metadata": {},
   "outputs": [],
   "source": []
  }
 ],
 "metadata": {
  "kernelspec": {
   "display_name": "Python 3",
   "language": "python",
   "name": "python3"
  },
  "language_info": {
   "codemirror_mode": {
    "name": "ipython",
    "version": 3
   },
   "file_extension": ".py",
   "mimetype": "text/x-python",
   "name": "python",
   "nbconvert_exporter": "python",
   "pygments_lexer": "ipython3",
   "version": "3.7.4"
  }
 },
 "nbformat": 4,
 "nbformat_minor": 2
}
