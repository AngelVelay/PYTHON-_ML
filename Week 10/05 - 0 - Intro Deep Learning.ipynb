{
 "cells": [
  {
   "cell_type": "markdown",
   "metadata": {},
   "source": [
    "# Deep Learning"
   ]
  },
  {
   "cell_type": "markdown",
   "metadata": {},
   "source": [
    "<img src=\"https://hardzone.es/app/uploads-hardzone.es/2020/03/IA-1.jpg\">"
   ]
  },
  {
   "cell_type": "markdown",
   "metadata": {},
   "source": [
    "## How a neuron works\n",
    "\n",
    "<img width=600 src=\"https://upload.wikimedia.org/wikipedia/commons/thumb/1/10/Blausen_0657_MultipolarNeuron.png/1200px-Blausen_0657_MultipolarNeuron.png\">\n",
    "\n",
    "<img src=\"https://thumbs.gfycat.com/BlandGlamorousFrenchbulldog-small.gif\">\n",
    "\n"
   ]
  },
  {
   "cell_type": "code",
   "execution_count": 1,
   "metadata": {},
   "outputs": [
    {
     "data": {
      "text/html": [
       "\n",
       "        <iframe\n",
       "            width=\"560\"\n",
       "            height=\"315\"\n",
       "            src=\"https://www.youtube.com/embed/6qS83wD29PY\"\n",
       "            frameborder=\"0\"\n",
       "            allowfullscreen\n",
       "        ></iframe>\n",
       "        "
      ],
      "text/plain": [
       "<IPython.lib.display.IFrame at 0x2086e75a4c8>"
      ]
     },
     "execution_count": 1,
     "metadata": {},
     "output_type": "execute_result"
    }
   ],
   "source": [
    "from IPython.display import IFrame\n",
    "IFrame('https://www.youtube.com/embed/6qS83wD29PY', width=\"560\", height=\"315\")"
   ]
  },
  {
   "cell_type": "markdown",
   "metadata": {},
   "source": [
    "## What is Deep Learning\n",
    "\n",
    "It is a subcategory of ML that creates different levels of abstraction that represents the data, we can use it for:\n",
    "- Music / Sounds\n",
    "- Images\n",
    "- Find Patterns"
   ]
  },
  {
   "cell_type": "markdown",
   "metadata": {},
   "source": [
    "## How it works\n",
    "\n",
    "<img width=\"800\" src=\"https://i1.wp.com/puentesdigitales.com/wp-content/uploads/2017/11/deep-neural-network-what-is-deep-learning-edureka.png?resize=1540%2C789&ssl=1\" >"
   ]
  },
  {
   "cell_type": "markdown",
   "metadata": {},
   "source": [
    "## Types\n",
    "\n",
    "- <h3>Convolutional</h3>\n",
    "they operate by means of a mathematical function called convolution. They are powerful for the identification of patterns and characteristics in image recognition processes.\n",
    "<img width=600 src=\"https://cdn-images-1.medium.com/fit/t/1600/480/1*3BRLw4lsANPEfGgimG3YVQ.png\">\n",
    "\n",
    "- <h3>Recurrent</h3>\n",
    "These neurons can interpret data and their context in a sequential way, this allows processing natural language to build chatbots or to analyze sentiments in texts.\n",
    "<img width=600 src=\"https://hackernoon.com/hn-images/1*6xj691fPWf3S-mWUCbxSJg.jpeg\">\n",
    "\n",
    "-<h3>Generative</h3>\n",
    "They help us generate artificial data that mimic real data, one of its most popular uses is the generation of artificial images that look real (DeepFakes)\n",
    "<img width=600 src=\"https://image.slidesharecdn.com/gan-170813004356/95/-10-638.jpg?cb=1502585228\">"
   ]
  },
  {
   "cell_type": "markdown",
   "metadata": {},
   "source": [
    "## Perceptron\n",
    "[Help Link (Spanish)](https://www.youtube.com/watch?v=ijkTVB_EOzQ)\n",
    "<img src=\"https://upload.wikimedia.org/wikipedia/commons/thumb/b/b0/Perceptr%C3%B3n_5_unidades.svg/1200px-Perceptr%C3%B3n_5_unidades.svg.png\">"
   ]
  },
  {
   "cell_type": "code",
   "execution_count": 2,
   "metadata": {},
   "outputs": [],
   "source": [
    "import pandas as pd \n",
    "import matplotlib.pyplot as plt \n",
    "from sklearn.datasets import load_iris\n",
    "from sklearn.linear_model import Perceptron\n",
    "%matplotlib inline"
   ]
  },
  {
   "cell_type": "markdown",
   "metadata": {},
   "source": [
    "- Setosa = 0\n",
    "- Versicolor = 1\n",
    "- Virginica = 2\n",
    "\n",
    "<img src=\"https://thegoodpython.com/assets/images/iris-species.png\">"
   ]
  },
  {
   "cell_type": "code",
   "execution_count": 4,
   "metadata": {},
   "outputs": [],
   "source": [
    "iris = load_iris()\n",
    "\n",
    "X = iris.data[:, (2,3)]\n",
    "y = iris.target"
   ]
  },
  {
   "cell_type": "code",
   "execution_count": 5,
   "metadata": {},
   "outputs": [
    {
     "data": {
      "text/plain": [
       "<matplotlib.collections.PathCollection at 0x2080be65b48>"
      ]
     },
     "execution_count": 5,
     "metadata": {},
     "output_type": "execute_result"
    },
    {
     "data": {
      "image/png": "[encoded data removed]",
      "text/plain": [
       "<Figure size 432x288 with 1 Axes>"
      ]
     },
     "metadata": {
      "needs_background": "light"
     },
     "output_type": "display_data"
    }
   ],
   "source": [
    "plt.scatter(X[:, 0], X[:, 1], c=y)"
   ]
  },
  {
   "cell_type": "code",
   "execution_count": 6,
   "metadata": {},
   "outputs": [
    {
     "data": {
      "text/plain": [
       "array([2])"
      ]
     },
     "execution_count": 6,
     "metadata": {},
     "output_type": "execute_result"
    }
   ],
   "source": [
    "perc = Perceptron()\n",
    "\n",
    "perc.fit(X,y)\n",
    "y_pred = perc.predict([[5.2, 2]])\n",
    "y_pred"
   ]
  },
  {
   "cell_type": "code",
   "execution_count": 7,
   "metadata": {},
   "outputs": [
    {
     "data": {
      "text/plain": [
       "array([0])"
      ]
     },
     "execution_count": 7,
     "metadata": {},
     "output_type": "execute_result"
    }
   ],
   "source": [
    "y_pred2 = perc.predict([[1.4, 0.2]])\n",
    "y_pred2"
   ]
  },
  {
   "cell_type": "markdown",
   "metadata": {},
   "source": [
    "## Multi-layer Perceptron\n",
    "<img src=\"https://www.allaboutcircuits.com/uploads/articles/an-introduction-to-training-theory-for-neural-networks_rk_aac_image2.jpg\">"
   ]
  },
  {
   "cell_type": "code",
   "execution_count": 8,
   "metadata": {},
   "outputs": [],
   "source": [
    "from sklearn.neural_network import MLPClassifier\n",
    "iris = load_iris()\n",
    "\n",
    "X = iris.data\n",
    "y = iris.target"
   ]
  },
  {
   "cell_type": "code",
   "execution_count": 9,
   "metadata": {},
   "outputs": [
    {
     "data": {
      "text/plain": [
       "MLPClassifier(activation='relu', alpha=0.0001, batch_size='auto', beta_1=0.9,\n",
       "              beta_2=0.999, early_stopping=False, epsilon=1e-08,\n",
       "              hidden_layer_sizes=(2, 5), learning_rate='constant',\n",
       "              learning_rate_init=0.001, max_iter=200, momentum=0.9,\n",
       "              n_iter_no_change=10, nesterovs_momentum=True, power_t=0.5,\n",
       "              random_state=None, shuffle=True, solver='lbfgs', tol=0.0001,\n",
       "              validation_fraction=0.1, verbose=False, warm_start=False)"
      ]
     },
     "execution_count": 9,
     "metadata": {},
     "output_type": "execute_result"
    }
   ],
   "source": [
    "MLP = MLPClassifier(solver='lbfgs', hidden_layer_sizes=(2,5))\n",
    "\n",
    "MLP.fit(X,y)"
   ]
  },
  {
   "cell_type": "code",
   "execution_count": 10,
   "metadata": {},
   "outputs": [
    {
     "data": {
      "text/plain": [
       "array([0, 0])"
      ]
     },
     "execution_count": 10,
     "metadata": {},
     "output_type": "execute_result"
    }
   ],
   "source": [
    "y_pred = MLP.predict([[5.1, 3.5, 1.4, 0.2],\n",
    "                      [4.9, 3. , 1.4, 0.2]])\n",
    "y_pred"
   ]
  },
  {
   "cell_type": "markdown",
   "metadata": {},
   "source": [
    "## Boston Dataset\n",
    "|Variables|\tDescription|\n",
    "|:----|:---:|\n",
    "|CRIM|\tper capita crime rate by town|\n",
    "|ZN|\tproportion of residential land zoned for lots over 25,000 sq.ft.|\n",
    "|INDUS|\tproportion of non-retail business acres per town|\n",
    "|CHAS|\tCharles River dummy variable (= 1 if tract bounds river; 0 otherwise)|\n",
    "|NOX|\tnitric oxides concentration (parts per 10 million)|\n",
    "|RM|\taverage number of rooms per dwelling|\n",
    "|AGE|\tproportion of owner-occupied units built prior to 1940|\n",
    "|DIS|\tweighted distances to five Boston employment centres|\n",
    "|RAD|\tindex of accessibility to radial highways|\n",
    "|TAX|\tfull-value property-tax rate per 10,000 (Dollar)|\n",
    "|PTRATIO|\tpupil-teacher ratio by town|\n",
    "|B|\t1000(Bk - 0.63)^2 where Bk is the proportion of blacks by town|\n",
    "|LSTAT| percentage lower status of the population|\n",
    "|MEDV|\tMedian value of owner-occupied homes in 1000's (Dollar)|\n"
   ]
  },
  {
   "cell_type": "code",
   "execution_count": 11,
   "metadata": {},
   "outputs": [
    {
     "name": "stderr",
     "output_type": "stream",
     "text": [
      "Using TensorFlow backend.\n"
     ]
    }
   ],
   "source": [
    "# conda install keras\n",
    "\n",
    "from keras.datasets import boston_housing\n",
    "\n",
    "(x_train, y_train), (x_test,y_test) = boston_housing.load_data(test_split=0.2, seed=10)"
   ]
  },
  {
   "cell_type": "code",
   "execution_count": 12,
   "metadata": {},
   "outputs": [
    {
     "data": {
      "text/plain": [
       "((404, 13), (102, 13))"
      ]
     },
     "execution_count": 12,
     "metadata": {},
     "output_type": "execute_result"
    }
   ],
   "source": [
    "x_train.shape, x_test.shape"
   ]
  },
  {
   "cell_type": "code",
   "execution_count": 13,
   "metadata": {},
   "outputs": [
    {
     "data": {
      "text/plain": [
       "((404,), (102,))"
      ]
     },
     "execution_count": 13,
     "metadata": {},
     "output_type": "execute_result"
    }
   ],
   "source": [
    "y_train.shape, y_test.shape"
   ]
  },
  {
   "cell_type": "code",
   "execution_count": 14,
   "metadata": {},
   "outputs": [],
   "source": [
    "from keras.models import Sequential\n",
    "from keras.layers import Dense, Activation"
   ]
  },
  {
   "cell_type": "code",
   "execution_count": 15,
   "metadata": {},
   "outputs": [],
   "source": [
    "model = Sequential()\n",
    "\n",
    "# Create our model\n",
    "model.add(Dense(13, input_dim=13, kernel_initializer='normal', activation='relu'))\n",
    "\n",
    "# Adding layers\n",
    "# 6 inputs / neurons\n",
    "model.add(Dense(6, kernel_initializer='normal', activation='relu'))\n",
    "\n",
    "# Adding more layers\n",
    "# 4 inputs / neurons\n",
    "model.add(Dense(4, kernel_initializer='normal', activation='relu'))\n",
    "\n",
    "# Adding layers\n",
    "# 1 output / neurons\n",
    "model.add(Dense(1, kernel_initializer='normal'))"
   ]
  },
  {
   "cell_type": "code",
   "execution_count": 16,
   "metadata": {},
   "outputs": [],
   "source": [
    "model.compile(loss='mean_squared_error', optimizer='adam', metrics=['mean_absolute_percentage_error'])"
   ]
  },
  {
   "cell_type": "code",
   "execution_count": 17,
   "metadata": {},
   "outputs": [
    {
     "name": "stdout",
     "output_type": "stream",
     "text": [
      "Model: \"sequential_1\"\n",
      "_________________________________________________________________\n",
      "Layer (type)                 Output Shape              Param #   \n",
      "=================================================================\n",
      "dense_1 (Dense)              (None, 13)                182       \n",
      "_________________________________________________________________\n",
      "dense_2 (Dense)              (None, 6)                 84        \n",
      "_________________________________________________________________\n",
      "dense_3 (Dense)              (None, 4)                 28        \n",
      "_________________________________________________________________\n",
      "dense_4 (Dense)              (None, 1)                 5         \n",
      "=================================================================\n",
      "Total params: 299\n",
      "Trainable params: 299\n",
      "Non-trainable params: 0\n",
      "_________________________________________________________________\n",
      "None\n"
     ]
    }
   ],
   "source": [
    "print(model.summary())"
   ]
  },
  {
   "cell_type": "code",
   "execution_count": 18,
   "metadata": {},
   "outputs": [
    {
     "data": {
      "image/png": "[encoded data removed]",
      "text/plain": [
       "<IPython.core.display.Image object>"
      ]
     },
     "execution_count": 18,
     "metadata": {},
     "output_type": "execute_result"
    }
   ],
   "source": [
    "from keras.utils import plot_model\n",
    "\n",
    "plot_model(model, to_file='boston.png', show_shapes=True)"
   ]
  },
  {
   "cell_type": "code",
   "execution_count": 19,
   "metadata": {},
   "outputs": [],
   "source": [
    "x_val = x_train[300:,]\n",
    "y_val = y_train[300:,]"
   ]
  },
  {
   "cell_type": "code",
   "execution_count": 20,
   "metadata": {},
   "outputs": [
    {
     "name": "stdout",
     "output_type": "stream",
     "text": [
      "Train on 404 samples, validate on 104 samples\n",
      "Epoch 1/5\n",
      "404/404 [==============================] - 0s 1ms/step - loss: 588.8676 - mean_absolute_percentage_error: 99.7815 - val_loss: 533.4466 - val_mean_absolute_percentage_error: 99.4716\n",
      "Epoch 2/5\n",
      "404/404 [==============================] - 0s 39us/step - loss: 582.5670 - mean_absolute_percentage_error: 98.9433 - val_loss: 522.3829 - val_mean_absolute_percentage_error: 97.9152\n",
      "Epoch 3/5\n",
      "404/404 [==============================] - 0s 35us/step - loss: 562.3693 - mean_absolute_percentage_error: 96.3370 - val_loss: 489.5104 - val_mean_absolute_percentage_error: 93.1309\n",
      "Epoch 4/5\n",
      "404/404 [==============================] - 0s 35us/step - loss: 508.4032 - mean_absolute_percentage_error: 88.9144 - val_loss: 409.2877 - val_mean_absolute_percentage_error: 80.3747\n",
      "Epoch 5/5\n",
      "404/404 [==============================] - 0s 39us/step - loss: 390.2499 - mean_absolute_percentage_error: 71.1978 - val_loss: 258.7130 - val_mean_absolute_percentage_error: 56.2854\n"
     ]
    },
    {
     "data": {
      "text/plain": [
       "<keras.callbacks.callbacks.History at 0x20812238788>"
      ]
     },
     "execution_count": 20,
     "metadata": {},
     "output_type": "execute_result"
    }
   ],
   "source": [
    "model.fit(x_train, y_train, batch_size=32, epochs=5, validation_data=(x_val,y_val))"
   ]
  },
  {
   "cell_type": "markdown",
   "metadata": {},
   "source": [
    " Something went wrong - > 99.9 % error ..."
   ]
  },
  {
   "cell_type": "code",
   "execution_count": 21,
   "metadata": {},
   "outputs": [
    {
     "name": "stdout",
     "output_type": "stream",
     "text": [
      "Train on 404 samples, validate on 104 samples\n",
      "Epoch 1/100\n",
      "404/404 [==============================] - 0s 35us/step - loss: 217.9066 - mean_absolute_percentage_error: 49.6321 - val_loss: 130.7295 - val_mean_absolute_percentage_error: 45.3200\n",
      "Epoch 2/100\n",
      "404/404 [==============================] - 0s 35us/step - loss: 141.7989 - mean_absolute_percentage_error: 51.9224 - val_loss: 138.4791 - val_mean_absolute_percentage_error: 56.9280\n",
      "Epoch 3/100\n",
      "404/404 [==============================] - 0s 40us/step - loss: 132.3770 - mean_absolute_percentage_error: 50.1653 - val_loss: 115.5990 - val_mean_absolute_percentage_error: 45.8537\n",
      "Epoch 4/100\n",
      "404/404 [==============================] - 0s 35us/step - loss: 122.5186 - mean_absolute_percentage_error: 43.7871 - val_loss: 108.5355 - val_mean_absolute_percentage_error: 43.3825\n",
      "Epoch 5/100\n",
      "404/404 [==============================] - 0s 40us/step - loss: 114.5564 - mean_absolute_percentage_error: 42.9547 - val_loss: 103.3602 - val_mean_absolute_percentage_error: 43.4976\n",
      "Epoch 6/100\n",
      "404/404 [==============================] - 0s 35us/step - loss: 109.7072 - mean_absolute_percentage_error: 43.6947 - val_loss: 98.2632 - val_mean_absolute_percentage_error: 42.7678\n",
      "Epoch 7/100\n",
      "404/404 [==============================] - 0s 37us/step - loss: 101.9028 - mean_absolute_percentage_error: 39.2971 - val_loss: 91.4336 - val_mean_absolute_percentage_error: 37.9709\n",
      "Epoch 8/100\n",
      "404/404 [==============================] - 0s 44us/step - loss: 96.4990 - mean_absolute_percentage_error: 37.5197 - val_loss: 87.6458 - val_mean_absolute_percentage_error: 39.4679\n",
      "Epoch 9/100\n",
      "404/404 [==============================] - 0s 38us/step - loss: 91.1100 - mean_absolute_percentage_error: 38.2015 - val_loss: 83.2826 - val_mean_absolute_percentage_error: 38.5659\n",
      "Epoch 10/100\n",
      "404/404 [==============================] - 0s 40us/step - loss: 86.1361 - mean_absolute_percentage_error: 35.7673 - val_loss: 78.5269 - val_mean_absolute_percentage_error: 36.5324\n",
      "Epoch 11/100\n",
      "404/404 [==============================] - 0s 37us/step - loss: 81.9954 - mean_absolute_percentage_error: 34.0468 - val_loss: 75.8987 - val_mean_absolute_percentage_error: 37.0013\n",
      "Epoch 12/100\n",
      "404/404 [==============================] - 0s 40us/step - loss: 78.5781 - mean_absolute_percentage_error: 35.1760 - val_loss: 73.2982 - val_mean_absolute_percentage_error: 36.5754\n",
      "Epoch 13/100\n",
      "404/404 [==============================] - 0s 35us/step - loss: 75.8484 - mean_absolute_percentage_error: 32.1343 - val_loss: 70.3725 - val_mean_absolute_percentage_error: 34.6160\n",
      "Epoch 14/100\n",
      "404/404 [==============================] - 0s 37us/step - loss: 72.7092 - mean_absolute_percentage_error: 31.7989 - val_loss: 69.2822 - val_mean_absolute_percentage_error: 35.4063\n",
      "Epoch 15/100\n",
      "404/404 [==============================] - 0s 39us/step - loss: 70.9548 - mean_absolute_percentage_error: 32.4404 - val_loss: 68.1519 - val_mean_absolute_percentage_error: 35.3250\n",
      "Epoch 16/100\n",
      "404/404 [==============================] - 0s 37us/step - loss: 69.3127 - mean_absolute_percentage_error: 31.7063 - val_loss: 66.5051 - val_mean_absolute_percentage_error: 34.0181\n",
      "Epoch 17/100\n",
      "404/404 [==============================] - 0s 44us/step - loss: 68.4214 - mean_absolute_percentage_error: 29.5503 - val_loss: 65.4524 - val_mean_absolute_percentage_error: 33.2430\n",
      "Epoch 18/100\n",
      "404/404 [==============================] - 0s 32us/step - loss: 67.1010 - mean_absolute_percentage_error: 30.4802 - val_loss: 65.8284 - val_mean_absolute_percentage_error: 34.9769\n",
      "Epoch 19/100\n",
      "404/404 [==============================] - 0s 37us/step - loss: 66.2893 - mean_absolute_percentage_error: 31.1260 - val_loss: 64.3331 - val_mean_absolute_percentage_error: 33.5572\n",
      "Epoch 20/100\n",
      "404/404 [==============================] - 0s 32us/step - loss: 65.4538 - mean_absolute_percentage_error: 29.2528 - val_loss: 63.6237 - val_mean_absolute_percentage_error: 32.8413\n",
      "Epoch 21/100\n",
      "404/404 [==============================] - 0s 44us/step - loss: 64.9403 - mean_absolute_percentage_error: 29.4028 - val_loss: 64.0204 - val_mean_absolute_percentage_error: 34.3475\n",
      "Epoch 22/100\n",
      "404/404 [==============================] - 0s 39us/step - loss: 64.4293 - mean_absolute_percentage_error: 29.4133 - val_loss: 62.8191 - val_mean_absolute_percentage_error: 33.0094\n",
      "Epoch 23/100\n",
      "404/404 [==============================] - 0s 35us/step - loss: 63.7251 - mean_absolute_percentage_error: 28.8600 - val_loss: 62.7395 - val_mean_absolute_percentage_error: 33.5293\n",
      "Epoch 24/100\n",
      "404/404 [==============================] - 0s 35us/step - loss: 63.5553 - mean_absolute_percentage_error: 29.6594 - val_loss: 62.0401 - val_mean_absolute_percentage_error: 33.0055\n",
      "Epoch 25/100\n",
      "404/404 [==============================] - 0s 35us/step - loss: 62.9075 - mean_absolute_percentage_error: 28.1803 - val_loss: 61.5414 - val_mean_absolute_percentage_error: 32.6481\n",
      "Epoch 26/100\n",
      "404/404 [==============================] - 0s 39us/step - loss: 62.5659 - mean_absolute_percentage_error: 28.7965 - val_loss: 61.8096 - val_mean_absolute_percentage_error: 33.5264\n",
      "Epoch 27/100\n",
      "404/404 [==============================] - 0s 39us/step - loss: 61.8775 - mean_absolute_percentage_error: 28.6285 - val_loss: 60.4482 - val_mean_absolute_percentage_error: 31.6130\n",
      "Epoch 28/100\n",
      "404/404 [==============================] - 0s 32us/step - loss: 62.2160 - mean_absolute_percentage_error: 27.2078 - val_loss: 60.9973 - val_mean_absolute_percentage_error: 33.0994\n",
      "Epoch 29/100\n",
      "404/404 [==============================] - 0s 37us/step - loss: 61.4571 - mean_absolute_percentage_error: 28.6479 - val_loss: 60.1190 - val_mean_absolute_percentage_error: 32.2532\n",
      "Epoch 30/100\n",
      "404/404 [==============================] - 0s 39us/step - loss: 61.2611 - mean_absolute_percentage_error: 27.6561 - val_loss: 59.6140 - val_mean_absolute_percentage_error: 31.7807\n",
      "Epoch 31/100\n",
      "404/404 [==============================] - 0s 39us/step - loss: 60.8024 - mean_absolute_percentage_error: 27.9466 - val_loss: 59.5733 - val_mean_absolute_percentage_error: 32.1481\n",
      "Epoch 32/100\n",
      "404/404 [==============================] - 0s 50us/step - loss: 60.4785 - mean_absolute_percentage_error: 27.8876 - val_loss: 58.8330 - val_mean_absolute_percentage_error: 31.2745\n",
      "Epoch 33/100\n",
      "404/404 [==============================] - 0s 37us/step - loss: 60.4139 - mean_absolute_percentage_error: 26.9497 - val_loss: 58.9727 - val_mean_absolute_percentage_error: 31.9856\n",
      "Epoch 34/100\n",
      "404/404 [==============================] - 0s 47us/step - loss: 59.9290 - mean_absolute_percentage_error: 28.0288 - val_loss: 58.7464 - val_mean_absolute_percentage_error: 31.9783\n",
      "Epoch 35/100\n",
      "404/404 [==============================] - 0s 35us/step - loss: 59.7730 - mean_absolute_percentage_error: 27.6213 - val_loss: 58.2839 - val_mean_absolute_percentage_error: 31.6147\n",
      "Epoch 36/100\n",
      "404/404 [==============================] - 0s 37us/step - loss: 59.6618 - mean_absolute_percentage_error: 27.5506 - val_loss: 57.8784 - val_mean_absolute_percentage_error: 31.3002\n",
      "Epoch 37/100\n",
      "404/404 [==============================] - 0s 37us/step - loss: 59.5777 - mean_absolute_percentage_error: 28.0654 - val_loss: 57.5363 - val_mean_absolute_percentage_error: 31.0980\n",
      "Epoch 38/100\n",
      "404/404 [==============================] - 0s 32us/step - loss: 59.2976 - mean_absolute_percentage_error: 25.9935 - val_loss: 57.0683 - val_mean_absolute_percentage_error: 30.4197\n",
      "Epoch 39/100\n",
      "404/404 [==============================] - 0s 44us/step - loss: 58.6035 - mean_absolute_percentage_error: 26.7471 - val_loss: 57.2987 - val_mean_absolute_percentage_error: 31.4984\n",
      "Epoch 40/100\n",
      "404/404 [==============================] - 0s 37us/step - loss: 58.6286 - mean_absolute_percentage_error: 28.4002 - val_loss: 57.2689 - val_mean_absolute_percentage_error: 31.7458\n",
      "Epoch 41/100\n",
      "404/404 [==============================] - ETA: 0s - loss: 56.0250 - mean_absolute_percentage_error: 28.19 - 0s 35us/step - loss: 58.1693 - mean_absolute_percentage_error: 26.9137 - val_loss: 56.3060 - val_mean_absolute_percentage_error: 30.4557\n",
      "Epoch 42/100\n",
      "404/404 [==============================] - 0s 37us/step - loss: 57.9349 - mean_absolute_percentage_error: 26.8822 - val_loss: 56.7144 - val_mean_absolute_percentage_error: 31.5497\n"
     ]
    },
    {
     "name": "stdout",
     "output_type": "stream",
     "text": [
      "Epoch 43/100\n",
      "404/404 [==============================] - 0s 30us/step - loss: 58.1800 - mean_absolute_percentage_error: 26.6416 - val_loss: 56.2249 - val_mean_absolute_percentage_error: 31.1422\n",
      "Epoch 44/100\n",
      "404/404 [==============================] - 0s 42us/step - loss: 57.5871 - mean_absolute_percentage_error: 26.7791 - val_loss: 55.6347 - val_mean_absolute_percentage_error: 30.5086\n",
      "Epoch 45/100\n",
      "404/404 [==============================] - 0s 35us/step - loss: 57.2147 - mean_absolute_percentage_error: 26.5771 - val_loss: 56.1086 - val_mean_absolute_percentage_error: 31.5350\n",
      "Epoch 46/100\n",
      "404/404 [==============================] - 0s 32us/step - loss: 57.3846 - mean_absolute_percentage_error: 26.6322 - val_loss: 54.9379 - val_mean_absolute_percentage_error: 29.8865\n",
      "Epoch 47/100\n",
      "404/404 [==============================] - 0s 35us/step - loss: 57.1483 - mean_absolute_percentage_error: 27.1938 - val_loss: 54.8436 - val_mean_absolute_percentage_error: 30.3745\n",
      "Epoch 48/100\n",
      "404/404 [==============================] - 0s 37us/step - loss: 56.3675 - mean_absolute_percentage_error: 26.6952 - val_loss: 54.6970 - val_mean_absolute_percentage_error: 30.5454\n",
      "Epoch 49/100\n",
      "404/404 [==============================] - 0s 42us/step - loss: 56.0674 - mean_absolute_percentage_error: 26.5921 - val_loss: 54.0485 - val_mean_absolute_percentage_error: 29.7033\n",
      "Epoch 50/100\n",
      "404/404 [==============================] - 0s 37us/step - loss: 55.9498 - mean_absolute_percentage_error: 25.5931 - val_loss: 54.0062 - val_mean_absolute_percentage_error: 30.1672\n",
      "Epoch 51/100\n",
      "404/404 [==============================] - 0s 37us/step - loss: 55.6377 - mean_absolute_percentage_error: 26.6387 - val_loss: 53.9084 - val_mean_absolute_percentage_error: 30.3883\n",
      "Epoch 52/100\n",
      "404/404 [==============================] - 0s 32us/step - loss: 55.8477 - mean_absolute_percentage_error: 27.0543 - val_loss: 53.1238 - val_mean_absolute_percentage_error: 29.0267\n",
      "Epoch 53/100\n",
      "404/404 [==============================] - 0s 42us/step - loss: 55.3338 - mean_absolute_percentage_error: 25.2804 - val_loss: 53.5707 - val_mean_absolute_percentage_error: 30.5284\n",
      "Epoch 54/100\n",
      "404/404 [==============================] - 0s 32us/step - loss: 54.8250 - mean_absolute_percentage_error: 26.6034 - val_loss: 53.1701 - val_mean_absolute_percentage_error: 30.1864\n",
      "Epoch 55/100\n",
      "404/404 [==============================] - 0s 30us/step - loss: 54.5472 - mean_absolute_percentage_error: 25.7685 - val_loss: 52.7602 - val_mean_absolute_percentage_error: 29.8043\n",
      "Epoch 56/100\n",
      "404/404 [==============================] - 0s 37us/step - loss: 54.1926 - mean_absolute_percentage_error: 25.4695 - val_loss: 52.4444 - val_mean_absolute_percentage_error: 29.7052\n",
      "Epoch 57/100\n",
      "404/404 [==============================] - 0s 32us/step - loss: 54.1316 - mean_absolute_percentage_error: 25.9181 - val_loss: 52.2224 - val_mean_absolute_percentage_error: 29.7531\n",
      "Epoch 58/100\n",
      "404/404 [==============================] - 0s 44us/step - loss: 53.7801 - mean_absolute_percentage_error: 25.8213 - val_loss: 52.5919 - val_mean_absolute_percentage_error: 30.6129\n",
      "Epoch 59/100\n",
      "404/404 [==============================] - 0s 35us/step - loss: 54.6265 - mean_absolute_percentage_error: 25.5549 - val_loss: 51.1306 - val_mean_absolute_percentage_error: 28.1823\n",
      "Epoch 60/100\n",
      "404/404 [==============================] - 0s 32us/step - loss: 53.7539 - mean_absolute_percentage_error: 26.9194 - val_loss: 51.8021 - val_mean_absolute_percentage_error: 30.1669\n",
      "Epoch 61/100\n",
      "404/404 [==============================] - 0s 35us/step - loss: 52.8805 - mean_absolute_percentage_error: 25.2961 - val_loss: 50.7522 - val_mean_absolute_percentage_error: 28.8177\n",
      "Epoch 62/100\n",
      "404/404 [==============================] - 0s 35us/step - loss: 52.5154 - mean_absolute_percentage_error: 24.9721 - val_loss: 50.7388 - val_mean_absolute_percentage_error: 29.3318\n",
      "Epoch 63/100\n",
      "404/404 [==============================] - 0s 54us/step - loss: 52.4170 - mean_absolute_percentage_error: 26.2188 - val_loss: 50.1476 - val_mean_absolute_percentage_error: 28.7157\n",
      "Epoch 64/100\n",
      "404/404 [==============================] - 0s 39us/step - loss: 52.4897 - mean_absolute_percentage_error: 23.9837 - val_loss: 50.1828 - val_mean_absolute_percentage_error: 29.2013\n",
      "Epoch 65/100\n",
      "404/404 [==============================] - 0s 37us/step - loss: 51.7683 - mean_absolute_percentage_error: 26.3182 - val_loss: 49.7911 - val_mean_absolute_percentage_error: 29.0476\n",
      "Epoch 66/100\n",
      "404/404 [==============================] - 0s 32us/step - loss: 51.4087 - mean_absolute_percentage_error: 24.3033 - val_loss: 49.0541 - val_mean_absolute_percentage_error: 27.8083\n",
      "Epoch 67/100\n",
      "404/404 [==============================] - 0s 42us/step - loss: 51.4629 - mean_absolute_percentage_error: 25.1327 - val_loss: 48.9545 - val_mean_absolute_percentage_error: 28.1884\n",
      "Epoch 68/100\n",
      "404/404 [==============================] - 0s 35us/step - loss: 50.6151 - mean_absolute_percentage_error: 24.7101 - val_loss: 48.7936 - val_mean_absolute_percentage_error: 28.5272\n",
      "Epoch 69/100\n",
      "404/404 [==============================] - 0s 32us/step - loss: 50.3680 - mean_absolute_percentage_error: 24.7834 - val_loss: 48.6478 - val_mean_absolute_percentage_error: 28.7817\n",
      "Epoch 70/100\n",
      "404/404 [==============================] - 0s 37us/step - loss: 50.0520 - mean_absolute_percentage_error: 24.8244 - val_loss: 48.3428 - val_mean_absolute_percentage_error: 28.5835\n",
      "Epoch 71/100\n",
      "404/404 [==============================] - 0s 37us/step - loss: 49.6886 - mean_absolute_percentage_error: 24.4349 - val_loss: 47.8412 - val_mean_absolute_percentage_error: 28.2734\n",
      "Epoch 72/100\n",
      "404/404 [==============================] - 0s 37us/step - loss: 49.4532 - mean_absolute_percentage_error: 24.0785 - val_loss: 47.4191 - val_mean_absolute_percentage_error: 28.0542\n",
      "Epoch 73/100\n",
      "404/404 [==============================] - 0s 37us/step - loss: 49.2866 - mean_absolute_percentage_error: 25.0334 - val_loss: 46.8570 - val_mean_absolute_percentage_error: 27.3973\n",
      "Epoch 74/100\n",
      "404/404 [==============================] - 0s 32us/step - loss: 48.9083 - mean_absolute_percentage_error: 23.9986 - val_loss: 46.7970 - val_mean_absolute_percentage_error: 28.0120\n",
      "Epoch 75/100\n",
      "404/404 [==============================] - 0s 37us/step - loss: 48.5412 - mean_absolute_percentage_error: 23.7465 - val_loss: 46.4203 - val_mean_absolute_percentage_error: 27.8557\n",
      "Epoch 76/100\n",
      "404/404 [==============================] - 0s 42us/step - loss: 48.4655 - mean_absolute_percentage_error: 24.3512 - val_loss: 45.6106 - val_mean_absolute_percentage_error: 26.2525\n",
      "Epoch 77/100\n",
      "404/404 [==============================] - 0s 37us/step - loss: 47.8002 - mean_absolute_percentage_error: 23.6002 - val_loss: 45.7795 - val_mean_absolute_percentage_error: 27.7619\n",
      "Epoch 78/100\n",
      "404/404 [==============================] - 0s 35us/step - loss: 47.2289 - mean_absolute_percentage_error: 23.9537 - val_loss: 45.1105 - val_mean_absolute_percentage_error: 27.0718\n",
      "Epoch 79/100\n",
      "404/404 [==============================] - 0s 35us/step - loss: 46.9255 - mean_absolute_percentage_error: 23.2242 - val_loss: 44.8457 - val_mean_absolute_percentage_error: 27.1977\n",
      "Epoch 80/100\n",
      "404/404 [==============================] - 0s 37us/step - loss: 46.8920 - mean_absolute_percentage_error: 24.6237 - val_loss: 44.0130 - val_mean_absolute_percentage_error: 25.9677\n",
      "Epoch 81/100\n",
      "404/404 [==============================] - 0s 42us/step - loss: 46.2024 - mean_absolute_percentage_error: 23.0544 - val_loss: 44.0529 - val_mean_absolute_percentage_error: 26.9997\n",
      "Epoch 82/100\n",
      "404/404 [==============================] - 0s 32us/step - loss: 45.7148 - mean_absolute_percentage_error: 23.2672 - val_loss: 43.5265 - val_mean_absolute_percentage_error: 26.4770\n",
      "Epoch 83/100\n",
      "404/404 [==============================] - 0s 37us/step - loss: 45.2512 - mean_absolute_percentage_error: 23.2185 - val_loss: 42.9722 - val_mean_absolute_percentage_error: 26.1766\n",
      "Epoch 84/100\n",
      "404/404 [==============================] - 0s 37us/step - loss: 45.5183 - mean_absolute_percentage_error: 22.3110 - val_loss: 43.3188 - val_mean_absolute_percentage_error: 27.2651\n",
      "Epoch 85/100\n"
     ]
    },
    {
     "name": "stdout",
     "output_type": "stream",
     "text": [
      "404/404 [==============================] - 0s 30us/step - loss: 44.8052 - mean_absolute_percentage_error: 23.4452 - val_loss: 41.9289 - val_mean_absolute_percentage_error: 25.3161\n",
      "Epoch 86/100\n",
      "404/404 [==============================] - 0s 42us/step - loss: 44.1776 - mean_absolute_percentage_error: 22.2022 - val_loss: 42.7271 - val_mean_absolute_percentage_error: 27.2381\n",
      "Epoch 87/100\n",
      "404/404 [==============================] - 0s 35us/step - loss: 43.7452 - mean_absolute_percentage_error: 22.6824 - val_loss: 41.2719 - val_mean_absolute_percentage_error: 25.5981\n",
      "Epoch 88/100\n",
      "404/404 [==============================] - 0s 30us/step - loss: 43.2731 - mean_absolute_percentage_error: 22.6796 - val_loss: 40.9462 - val_mean_absolute_percentage_error: 25.6386\n",
      "Epoch 89/100\n",
      "404/404 [==============================] - 0s 37us/step - loss: 42.6865 - mean_absolute_percentage_error: 21.7485 - val_loss: 40.3645 - val_mean_absolute_percentage_error: 25.2795\n",
      "Epoch 90/100\n",
      "404/404 [==============================] - 0s 30us/step - loss: 42.3581 - mean_absolute_percentage_error: 22.1996 - val_loss: 39.9305 - val_mean_absolute_percentage_error: 25.3576\n",
      "Epoch 91/100\n",
      "404/404 [==============================] - 0s 42us/step - loss: 42.2917 - mean_absolute_percentage_error: 23.2559 - val_loss: 39.0758 - val_mean_absolute_percentage_error: 23.7736\n",
      "Epoch 92/100\n",
      "404/404 [==============================] - 0s 32us/step - loss: 42.6042 - mean_absolute_percentage_error: 21.0007 - val_loss: 40.0437 - val_mean_absolute_percentage_error: 26.3631\n",
      "Epoch 93/100\n",
      "404/404 [==============================] - 0s 32us/step - loss: 40.8956 - mean_absolute_percentage_error: 22.7155 - val_loss: 38.0315 - val_mean_absolute_percentage_error: 23.3558\n",
      "Epoch 94/100\n",
      "404/404 [==============================] - 0s 40us/step - loss: 41.0842 - mean_absolute_percentage_error: 20.3191 - val_loss: 38.7430 - val_mean_absolute_percentage_error: 25.6626\n",
      "Epoch 95/100\n",
      "404/404 [==============================] - 0s 35us/step - loss: 40.4186 - mean_absolute_percentage_error: 22.1425 - val_loss: 36.8882 - val_mean_absolute_percentage_error: 23.2325\n",
      "Epoch 96/100\n",
      "404/404 [==============================] - 0s 48us/step - loss: 39.6501 - mean_absolute_percentage_error: 21.3115 - val_loss: 37.8942 - val_mean_absolute_percentage_error: 25.4897\n",
      "Epoch 97/100\n",
      "404/404 [==============================] - 0s 35us/step - loss: 40.2552 - mean_absolute_percentage_error: 20.3899 - val_loss: 36.9093 - val_mean_absolute_percentage_error: 24.6785\n",
      "Epoch 98/100\n",
      "404/404 [==============================] - 0s 30us/step - loss: 39.7286 - mean_absolute_percentage_error: 22.9491 - val_loss: 35.7603 - val_mean_absolute_percentage_error: 21.7901\n",
      "Epoch 99/100\n",
      "404/404 [==============================] - 0s 37us/step - loss: 38.6729 - mean_absolute_percentage_error: 20.5477 - val_loss: 35.6621 - val_mean_absolute_percentage_error: 23.9875\n",
      "Epoch 100/100\n",
      "404/404 [==============================] - 0s 30us/step - loss: 37.6850 - mean_absolute_percentage_error: 20.4862 - val_loss: 35.2533 - val_mean_absolute_percentage_error: 23.9483\n"
     ]
    },
    {
     "data": {
      "text/plain": [
       "<keras.callbacks.callbacks.History at 0x20813647208>"
      ]
     },
     "execution_count": 21,
     "metadata": {},
     "output_type": "execute_result"
    }
   ],
   "source": [
    "model.fit(x_train, y_train, batch_size=32, epochs=100, validation_data=(x_val,y_val))"
   ]
  },
  {
   "cell_type": "markdown",
   "metadata": {},
   "source": [
    "Much better ! 23.8% Error"
   ]
  },
  {
   "cell_type": "code",
   "execution_count": 22,
   "metadata": {},
   "outputs": [
    {
     "name": "stdout",
     "output_type": "stream",
     "text": [
      "102/102 [==============================] - 0s 29us/step\n"
     ]
    }
   ],
   "source": [
    "result = model.evaluate(x_test, y_test)"
   ]
  },
  {
   "cell_type": "code",
   "execution_count": 23,
   "metadata": {},
   "outputs": [
    {
     "data": {
      "text/plain": [
       "[36.03535491344976, 18.64086151123047]"
      ]
     },
     "execution_count": 23,
     "metadata": {},
     "output_type": "execute_result"
    }
   ],
   "source": [
    "result"
   ]
  },
  {
   "cell_type": "markdown",
   "metadata": {},
   "source": [
    "20.3 % Error "
   ]
  },
  {
   "cell_type": "code",
   "execution_count": 24,
   "metadata": {},
   "outputs": [],
   "source": [
    "hist = model.fit(x_train, y_train, batch_size=32, epochs=200, validation_data=(x_val,y_val), verbose=0)"
   ]
  },
  {
   "cell_type": "code",
   "execution_count": 25,
   "metadata": {},
   "outputs": [
    {
     "data": {
      "text/plain": [
       "[<matplotlib.lines.Line2D at 0x208138c7d48>]"
      ]
     },
     "execution_count": 25,
     "metadata": {},
     "output_type": "execute_result"
    },
    {
     "data": {
      "image/png": "[encoded data removed]",
      "text/plain": [
       "<Figure size 432x288 with 1 Axes>"
      ]
     },
     "metadata": {
      "needs_background": "light"
     },
     "output_type": "display_data"
    }
   ],
   "source": [
    "plt.plot(hist.history['mean_absolute_percentage_error'])\n",
    "plt.plot(hist.history['val_mean_absolute_percentage_error'])"
   ]
  },
  {
   "cell_type": "code",
   "execution_count": 26,
   "metadata": {},
   "outputs": [
    {
     "data": {
      "text/plain": [
       "[<matplotlib.lines.Line2D at 0x20813943b08>]"
      ]
     },
     "execution_count": 26,
     "metadata": {},
     "output_type": "execute_result"
    },
    {
     "data": {
      "image/png": "[encoded data removed]",
      "text/plain": [
       "<Figure size 432x288 with 1 Axes>"
      ]
     },
     "metadata": {
      "needs_background": "light"
     },
     "output_type": "display_data"
    }
   ],
   "source": [
    "plt.plot(hist.history['loss'])\n",
    "plt.plot(hist.history['val_loss'])"
   ]
  },
  {
   "cell_type": "code",
   "execution_count": 27,
   "metadata": {},
   "outputs": [],
   "source": [
    "## Other set up\n",
    "model = Sequential()\n",
    "\n",
    "# Create our model\n",
    "model.add(Dense(13, input_dim=13, kernel_initializer='normal', activation='relu'))\n",
    "\n",
    "# Adding layers\n",
    "# 9 inputs / neurons\n",
    "model.add(Dense(9, kernel_initializer='normal', activation='relu'))\n",
    "\n",
    "# Adding more layers\n",
    "# 6 inputs / neurons\n",
    "model.add(Dense(6, kernel_initializer='normal', activation='relu'))\n",
    "\n",
    "# Adding more layers\n",
    "# 3 inputs / neurons\n",
    "model.add(Dense(3, kernel_initializer='normal', activation='relu'))\n",
    "\n",
    "# Adding layers\n",
    "# 1 output / neurons\n",
    "model.add(Dense(1, kernel_initializer='normal'))"
   ]
  },
  {
   "cell_type": "code",
   "execution_count": 28,
   "metadata": {},
   "outputs": [],
   "source": [
    "model.compile(loss='mean_squared_error', optimizer='adam', metrics=['mean_absolute_percentage_error'])"
   ]
  },
  {
   "cell_type": "code",
   "execution_count": 29,
   "metadata": {},
   "outputs": [
    {
     "data": {
      "image/png": "[encoded data removed]",
      "text/plain": [
       "<IPython.core.display.Image object>"
      ]
     },
     "execution_count": 29,
     "metadata": {},
     "output_type": "execute_result"
    }
   ],
   "source": [
    "from keras.utils import plot_model\n",
    "\n",
    "plot_model(model, to_file='boston2.png', show_shapes=True)"
   ]
  },
  {
   "cell_type": "code",
   "execution_count": 30,
   "metadata": {},
   "outputs": [
    {
     "name": "stdout",
     "output_type": "stream",
     "text": [
      "Train on 404 samples, validate on 104 samples\n",
      "Epoch 1/281\n",
      "404/404 [==============================] - 0s 957us/step - loss: 590.5054 - mean_absolute_percentage_error: 99.9844 - val_loss: 536.8993 - val_mean_absolute_percentage_error: 99.9572\n",
      "Epoch 2/281\n",
      "404/404 [==============================] - 0s 20us/step - loss: 590.1367 - mean_absolute_percentage_error: 99.9400 - val_loss: 536.4857 - val_mean_absolute_percentage_error: 99.9035\n",
      "Epoch 3/281\n",
      "404/404 [==============================] - 0s 22us/step - loss: 589.6374 - mean_absolute_percentage_error: 99.8801 - val_loss: 535.8177 - val_mean_absolute_percentage_error: 99.8167\n",
      "Epoch 4/281\n",
      "404/404 [==============================] - 0s 22us/step - loss: 588.7075 - mean_absolute_percentage_error: 99.7640 - val_loss: 534.5175 - val_mean_absolute_percentage_error: 99.6366\n",
      "Epoch 5/281\n",
      "404/404 [==============================] - 0s 25us/step - loss: 586.9871 - mean_absolute_percentage_error: 99.5416 - val_loss: 532.1509 - val_mean_absolute_percentage_error: 99.3054\n",
      "Epoch 6/281\n",
      "404/404 [==============================] - 0s 30us/step - loss: 583.7599 - mean_absolute_percentage_error: 99.1304 - val_loss: 527.7934 - val_mean_absolute_percentage_error: 98.6901\n",
      "Epoch 7/281\n",
      "404/404 [==============================] - 0s 22us/step - loss: 577.9410 - mean_absolute_percentage_error: 98.3650 - val_loss: 519.8047 - val_mean_absolute_percentage_error: 97.5500\n",
      "Epoch 8/281\n",
      "404/404 [==============================] - 0s 22us/step - loss: 567.4093 - mean_absolute_percentage_error: 96.9472 - val_loss: 505.5848 - val_mean_absolute_percentage_error: 95.4885\n",
      "Epoch 9/281\n",
      "404/404 [==============================] - 0s 20us/step - loss: 548.7273 - mean_absolute_percentage_error: 94.4509 - val_loss: 481.5288 - val_mean_absolute_percentage_error: 91.9087\n",
      "Epoch 10/281\n",
      "404/404 [==============================] - 0s 22us/step - loss: 518.0796 - mean_absolute_percentage_error: 90.1618 - val_loss: 443.0357 - val_mean_absolute_percentage_error: 85.9158\n",
      "Epoch 11/281\n",
      "404/404 [==============================] - 0s 22us/step - loss: 470.1959 - mean_absolute_percentage_error: 83.0738 - val_loss: 385.9195 - val_mean_absolute_percentage_error: 76.6633\n",
      "Epoch 12/281\n",
      "404/404 [==============================] - 0s 22us/step - loss: 401.0183 - mean_absolute_percentage_error: 72.6645 - val_loss: 309.2509 - val_mean_absolute_percentage_error: 64.3172\n",
      "Epoch 13/281\n",
      "404/404 [==============================] - 0s 25us/step - loss: 312.1883 - mean_absolute_percentage_error: 59.6744 - val_loss: 221.5259 - val_mean_absolute_percentage_error: 50.8777\n",
      "Epoch 14/281\n",
      "404/404 [==============================] - 0s 25us/step - loss: 219.5301 - mean_absolute_percentage_error: 49.5050 - val_loss: 149.1866 - val_mean_absolute_percentage_error: 43.6476\n",
      "Epoch 15/281\n",
      "404/404 [==============================] - 0s 27us/step - loss: 153.3746 - mean_absolute_percentage_error: 46.9779 - val_loss: 129.1622 - val_mean_absolute_percentage_error: 50.3335\n",
      "Epoch 16/281\n",
      "404/404 [==============================] - 0s 22us/step - loss: 142.2584 - mean_absolute_percentage_error: 52.8330 - val_loss: 141.6394 - val_mean_absolute_percentage_error: 57.6937\n",
      "Epoch 17/281\n",
      "404/404 [==============================] - 0s 22us/step - loss: 144.0325 - mean_absolute_percentage_error: 55.1536 - val_loss: 132.5652 - val_mean_absolute_percentage_error: 54.2983\n",
      "Epoch 18/281\n",
      "404/404 [==============================] - 0s 17us/step - loss: 134.0910 - mean_absolute_percentage_error: 50.4464 - val_loss: 122.1026 - val_mean_absolute_percentage_error: 48.5950\n",
      "Epoch 19/281\n",
      "404/404 [==============================] - 0s 22us/step - loss: 130.6981 - mean_absolute_percentage_error: 46.8681 - val_loss: 118.7558 - val_mean_absolute_percentage_error: 45.6418\n",
      "Epoch 20/281\n",
      "404/404 [==============================] - 0s 27us/step - loss: 128.9111 - mean_absolute_percentage_error: 45.3216 - val_loss: 116.4569 - val_mean_absolute_percentage_error: 45.2934\n",
      "Epoch 21/281\n",
      "404/404 [==============================] - 0s 27us/step - loss: 125.9434 - mean_absolute_percentage_error: 45.2586 - val_loss: 114.5907 - val_mean_absolute_percentage_error: 45.8662\n",
      "Epoch 22/281\n",
      "404/404 [==============================] - 0s 25us/step - loss: 122.6826 - mean_absolute_percentage_error: 45.5060 - val_loss: 113.4884 - val_mean_absolute_percentage_error: 46.6457\n",
      "Epoch 23/281\n",
      "404/404 [==============================] - 0s 20us/step - loss: 120.7041 - mean_absolute_percentage_error: 45.8885 - val_loss: 112.0156 - val_mean_absolute_percentage_error: 46.6921\n",
      "Epoch 24/281\n",
      "404/404 [==============================] - 0s 22us/step - loss: 118.4169 - mean_absolute_percentage_error: 45.4961 - val_loss: 109.6508 - val_mean_absolute_percentage_error: 45.8806\n",
      "Epoch 25/281\n",
      "404/404 [==============================] - 0s 22us/step - loss: 115.9977 - mean_absolute_percentage_error: 44.6165 - val_loss: 107.2086 - val_mean_absolute_percentage_error: 44.8981\n",
      "Epoch 26/281\n",
      "404/404 [==============================] - 0s 25us/step - loss: 113.7729 - mean_absolute_percentage_error: 43.8012 - val_loss: 104.9972 - val_mean_absolute_percentage_error: 44.0959\n",
      "Epoch 27/281\n",
      "404/404 [==============================] - 0s 27us/step - loss: 111.5861 - mean_absolute_percentage_error: 43.2131 - val_loss: 103.2001 - val_mean_absolute_percentage_error: 43.7157\n",
      "Epoch 28/281\n",
      "404/404 [==============================] - 0s 27us/step - loss: 109.3984 - mean_absolute_percentage_error: 42.5296 - val_loss: 101.0715 - val_mean_absolute_percentage_error: 42.9073\n",
      "Epoch 29/281\n",
      "404/404 [==============================] - 0s 22us/step - loss: 107.2985 - mean_absolute_percentage_error: 41.9093 - val_loss: 99.3255 - val_mean_absolute_percentage_error: 42.5056\n",
      "Epoch 30/281\n",
      "404/404 [==============================] - 0s 22us/step - loss: 105.3125 - mean_absolute_percentage_error: 41.4191 - val_loss: 97.5366 - val_mean_absolute_percentage_error: 42.0562\n",
      "Epoch 31/281\n",
      "404/404 [==============================] - 0s 25us/step - loss: 103.3162 - mean_absolute_percentage_error: 40.6381 - val_loss: 95.3514 - val_mean_absolute_percentage_error: 40.7985\n",
      "Epoch 32/281\n",
      "404/404 [==============================] - 0s 25us/step - loss: 101.4350 - mean_absolute_percentage_error: 39.5255 - val_loss: 93.5064 - val_mean_absolute_percentage_error: 39.8649\n",
      "Epoch 33/281\n",
      "404/404 [==============================] - 0s 20us/step - loss: 99.5752 - mean_absolute_percentage_error: 38.9586 - val_loss: 92.1024 - val_mean_absolute_percentage_error: 39.9780\n",
      "Epoch 34/281\n",
      "404/404 [==============================] - 0s 27us/step - loss: 97.6178 - mean_absolute_percentage_error: 38.9077 - val_loss: 90.6986 - val_mean_absolute_percentage_error: 39.9654\n",
      "Epoch 35/281\n",
      "404/404 [==============================] - 0s 25us/step - loss: 95.7815 - mean_absolute_percentage_error: 38.7045 - val_loss: 89.2971 - val_mean_absolute_percentage_error: 39.8406\n",
      "Epoch 36/281\n",
      "404/404 [==============================] - 0s 25us/step - loss: 94.0974 - mean_absolute_percentage_error: 38.5819 - val_loss: 87.9201 - val_mean_absolute_percentage_error: 39.6791\n",
      "Epoch 37/281\n",
      "404/404 [==============================] - 0s 27us/step - loss: 92.3911 - mean_absolute_percentage_error: 38.0900 - val_loss: 86.3160 - val_mean_absolute_percentage_error: 39.1664\n",
      "Epoch 38/281\n",
      "404/404 [==============================] - 0s 22us/step - loss: 90.7797 - mean_absolute_percentage_error: 37.1396 - val_loss: 84.5834 - val_mean_absolute_percentage_error: 38.1687\n",
      "Epoch 39/281\n",
      "404/404 [==============================] - 0s 20us/step - loss: 89.6223 - mean_absolute_percentage_error: 35.9625 - val_loss: 83.1232 - val_mean_absolute_percentage_error: 37.1481\n",
      "Epoch 40/281\n",
      "404/404 [==============================] - 0s 22us/step - loss: 87.9254 - mean_absolute_percentage_error: 35.5062 - val_loss: 82.1896 - val_mean_absolute_percentage_error: 37.7097\n",
      "Epoch 41/281\n",
      "404/404 [==============================] - 0s 30us/step - loss: 86.1476 - mean_absolute_percentage_error: 36.2253 - val_loss: 82.2067 - val_mean_absolute_percentage_error: 39.2826\n",
      "Epoch 42/281\n",
      "404/404 [==============================] - 0s 20us/step - loss: 85.6777 - mean_absolute_percentage_error: 37.5736 - val_loss: 81.8995 - val_mean_absolute_percentage_error: 39.8352\n"
     ]
    },
    {
     "name": "stdout",
     "output_type": "stream",
     "text": [
      "Epoch 43/281\n",
      "404/404 [==============================] - 0s 22us/step - loss: 84.1218 - mean_absolute_percentage_error: 36.8770 - val_loss: 79.7321 - val_mean_absolute_percentage_error: 38.1830\n",
      "Epoch 44/281\n",
      "404/404 [==============================] - 0s 20us/step - loss: 82.6383 - mean_absolute_percentage_error: 35.3054 - val_loss: 78.3434 - val_mean_absolute_percentage_error: 36.9814\n",
      "Epoch 45/281\n",
      "404/404 [==============================] - 0s 22us/step - loss: 81.6977 - mean_absolute_percentage_error: 34.3048 - val_loss: 77.4727 - val_mean_absolute_percentage_error: 36.4214\n",
      "Epoch 46/281\n",
      "404/404 [==============================] - 0s 22us/step - loss: 81.1604 - mean_absolute_percentage_error: 33.7680 - val_loss: 76.8414 - val_mean_absolute_percentage_error: 36.4460\n",
      "Epoch 47/281\n",
      "404/404 [==============================] - 0s 20us/step - loss: 79.9158 - mean_absolute_percentage_error: 33.8658 - val_loss: 76.5388 - val_mean_absolute_percentage_error: 37.2401\n",
      "Epoch 48/281\n",
      "404/404 [==============================] - 0s 32us/step - loss: 79.1904 - mean_absolute_percentage_error: 34.9009 - val_loss: 76.7346 - val_mean_absolute_percentage_error: 38.3368\n",
      "Epoch 49/281\n",
      "404/404 [==============================] - 0s 20us/step - loss: 78.4141 - mean_absolute_percentage_error: 34.6740 - val_loss: 75.5329 - val_mean_absolute_percentage_error: 37.3861\n",
      "Epoch 50/281\n",
      "404/404 [==============================] - 0s 25us/step - loss: 77.4384 - mean_absolute_percentage_error: 34.2838 - val_loss: 75.1537 - val_mean_absolute_percentage_error: 37.6356\n",
      "Epoch 51/281\n",
      "404/404 [==============================] - 0s 22us/step - loss: 76.8437 - mean_absolute_percentage_error: 34.0427 - val_loss: 74.4033 - val_mean_absolute_percentage_error: 37.2409\n",
      "Epoch 52/281\n",
      "404/404 [==============================] - 0s 25us/step - loss: 75.9736 - mean_absolute_percentage_error: 34.2901 - val_loss: 74.4707 - val_mean_absolute_percentage_error: 38.0505\n",
      "Epoch 53/281\n",
      "404/404 [==============================] - 0s 22us/step - loss: 75.4700 - mean_absolute_percentage_error: 34.7958 - val_loss: 73.8998 - val_mean_absolute_percentage_error: 37.9534\n",
      "Epoch 54/281\n",
      "404/404 [==============================] - 0s 25us/step - loss: 74.6628 - mean_absolute_percentage_error: 34.0576 - val_loss: 72.8665 - val_mean_absolute_percentage_error: 37.0425\n",
      "Epoch 55/281\n",
      "404/404 [==============================] - 0s 30us/step - loss: 74.0199 - mean_absolute_percentage_error: 33.5093 - val_loss: 72.2015 - val_mean_absolute_percentage_error: 36.5606\n",
      "Epoch 56/281\n",
      "404/404 [==============================] - 0s 17us/step - loss: 73.4861 - mean_absolute_percentage_error: 33.1076 - val_loss: 71.8552 - val_mean_absolute_percentage_error: 36.7529\n",
      "Epoch 57/281\n",
      "404/404 [==============================] - 0s 22us/step - loss: 72.9604 - mean_absolute_percentage_error: 33.5289 - val_loss: 71.7362 - val_mean_absolute_percentage_error: 37.2385\n",
      "Epoch 58/281\n",
      "404/404 [==============================] - 0s 25us/step - loss: 72.4170 - mean_absolute_percentage_error: 33.5710 - val_loss: 71.1642 - val_mean_absolute_percentage_error: 36.9041\n",
      "Epoch 59/281\n",
      "404/404 [==============================] - 0s 25us/step - loss: 71.8136 - mean_absolute_percentage_error: 32.9552 - val_loss: 70.4183 - val_mean_absolute_percentage_error: 36.1292\n",
      "Epoch 60/281\n",
      "404/404 [==============================] - 0s 20us/step - loss: 71.5208 - mean_absolute_percentage_error: 32.8860 - val_loss: 70.3469 - val_mean_absolute_percentage_error: 36.7542\n",
      "Epoch 61/281\n",
      "404/404 [==============================] - 0s 27us/step - loss: 70.8303 - mean_absolute_percentage_error: 32.8146 - val_loss: 69.6242 - val_mean_absolute_percentage_error: 36.0403\n",
      "Epoch 62/281\n",
      "404/404 [==============================] - 0s 25us/step - loss: 70.4909 - mean_absolute_percentage_error: 32.4947 - val_loss: 69.2151 - val_mean_absolute_percentage_error: 35.8995\n",
      "Epoch 63/281\n",
      "404/404 [==============================] - 0s 20us/step - loss: 70.0554 - mean_absolute_percentage_error: 31.5759 - val_loss: 68.5275 - val_mean_absolute_percentage_error: 34.8858\n",
      "Epoch 64/281\n",
      "404/404 [==============================] - 0s 22us/step - loss: 69.4753 - mean_absolute_percentage_error: 31.3716 - val_loss: 68.4289 - val_mean_absolute_percentage_error: 35.7130\n",
      "Epoch 65/281\n",
      "404/404 [==============================] - 0s 25us/step - loss: 69.1000 - mean_absolute_percentage_error: 32.4454 - val_loss: 68.7992 - val_mean_absolute_percentage_error: 36.7544\n",
      "Epoch 66/281\n",
      "404/404 [==============================] - 0s 22us/step - loss: 68.7286 - mean_absolute_percentage_error: 32.6008 - val_loss: 67.9663 - val_mean_absolute_percentage_error: 36.0303\n",
      "Epoch 67/281\n",
      "404/404 [==============================] - 0s 22us/step - loss: 68.0683 - mean_absolute_percentage_error: 31.8615 - val_loss: 67.3133 - val_mean_absolute_percentage_error: 35.4304\n",
      "Epoch 68/281\n",
      "404/404 [==============================] - 0s 25us/step - loss: 67.6898 - mean_absolute_percentage_error: 31.0599 - val_loss: 66.7067 - val_mean_absolute_percentage_error: 34.7912\n",
      "Epoch 69/281\n",
      "404/404 [==============================] - 0s 27us/step - loss: 67.7072 - mean_absolute_percentage_error: 31.5760 - val_loss: 67.0626 - val_mean_absolute_percentage_error: 35.9085\n",
      "Epoch 70/281\n",
      "404/404 [==============================] - 0s 17us/step - loss: 66.9633 - mean_absolute_percentage_error: 31.0240 - val_loss: 65.9445 - val_mean_absolute_percentage_error: 34.4157\n",
      "Epoch 71/281\n",
      "404/404 [==============================] - 0s 25us/step - loss: 66.4399 - mean_absolute_percentage_error: 30.3391 - val_loss: 65.7260 - val_mean_absolute_percentage_error: 34.6845\n",
      "Epoch 72/281\n",
      "404/404 [==============================] - 0s 20us/step - loss: 66.0977 - mean_absolute_percentage_error: 30.7149 - val_loss: 65.5234 - val_mean_absolute_percentage_error: 34.8640\n",
      "Epoch 73/281\n",
      "404/404 [==============================] - 0s 25us/step - loss: 65.6018 - mean_absolute_percentage_error: 30.4060 - val_loss: 64.9380 - val_mean_absolute_percentage_error: 34.2572\n",
      "Epoch 74/281\n",
      "404/404 [==============================] - 0s 22us/step - loss: 65.2585 - mean_absolute_percentage_error: 29.9466 - val_loss: 64.5671 - val_mean_absolute_percentage_error: 34.0755\n",
      "Epoch 75/281\n",
      "404/404 [==============================] - 0s 20us/step - loss: 65.1604 - mean_absolute_percentage_error: 30.1879 - val_loss: 64.5077 - val_mean_absolute_percentage_error: 34.4973\n",
      "Epoch 76/281\n",
      "404/404 [==============================] - 0s 35us/step - loss: 64.6832 - mean_absolute_percentage_error: 29.7666 - val_loss: 63.7944 - val_mean_absolute_percentage_error: 33.6401\n",
      "Epoch 77/281\n",
      "404/404 [==============================] - 0s 20us/step - loss: 64.3465 - mean_absolute_percentage_error: 29.7029 - val_loss: 63.7918 - val_mean_absolute_percentage_error: 34.1473\n",
      "Epoch 78/281\n",
      "404/404 [==============================] - 0s 25us/step - loss: 64.0560 - mean_absolute_percentage_error: 29.9647 - val_loss: 63.4290 - val_mean_absolute_percentage_error: 33.9724\n",
      "Epoch 79/281\n",
      "404/404 [==============================] - 0s 17us/step - loss: 63.8056 - mean_absolute_percentage_error: 29.3912 - val_loss: 62.8463 - val_mean_absolute_percentage_error: 33.3230\n",
      "Epoch 80/281\n",
      "404/404 [==============================] - 0s 25us/step - loss: 63.4991 - mean_absolute_percentage_error: 28.9939 - val_loss: 62.5880 - val_mean_absolute_percentage_error: 33.2709\n",
      "Epoch 81/281\n",
      "404/404 [==============================] - ETA: 0s - loss: 42.7905 - mean_absolute_percentage_error: 25.67 - 0s 22us/step - loss: 63.2854 - mean_absolute_percentage_error: 28.8758 - val_loss: 62.3076 - val_mean_absolute_percentage_error: 33.1226\n",
      "Epoch 82/281\n",
      "404/404 [==============================] - 0s 18us/step - loss: 63.1088 - mean_absolute_percentage_error: 29.4783 - val_loss: 62.5822 - val_mean_absolute_percentage_error: 33.7958\n",
      "Epoch 83/281\n",
      "404/404 [==============================] - 0s 27us/step - loss: 63.1059 - mean_absolute_percentage_error: 29.2280 - val_loss: 61.8534 - val_mean_absolute_percentage_error: 32.9128\n",
      "Epoch 84/281\n",
      "404/404 [==============================] - 0s 20us/step - loss: 62.8036 - mean_absolute_percentage_error: 29.4662 - val_loss: 62.3817 - val_mean_absolute_percentage_error: 33.8544\n",
      "Epoch 85/281\n"
     ]
    },
    {
     "name": "stdout",
     "output_type": "stream",
     "text": [
      "404/404 [==============================] - 0s 22us/step - loss: 62.7552 - mean_absolute_percentage_error: 29.3924 - val_loss: 61.4195 - val_mean_absolute_percentage_error: 32.6816\n",
      "Epoch 86/281\n",
      "404/404 [==============================] - 0s 20us/step - loss: 62.5183 - mean_absolute_percentage_error: 28.8220 - val_loss: 61.2650 - val_mean_absolute_percentage_error: 32.7139\n",
      "Epoch 87/281\n",
      "404/404 [==============================] - 0s 20us/step - loss: 62.3439 - mean_absolute_percentage_error: 28.5931 - val_loss: 61.1025 - val_mean_absolute_percentage_error: 32.6684\n",
      "Epoch 88/281\n",
      "404/404 [==============================] - 0s 20us/step - loss: 62.0914 - mean_absolute_percentage_error: 29.1579 - val_loss: 61.5228 - val_mean_absolute_percentage_error: 33.4330\n",
      "Epoch 89/281\n",
      "404/404 [==============================] - 0s 20us/step - loss: 62.1402 - mean_absolute_percentage_error: 29.1492 - val_loss: 60.8670 - val_mean_absolute_percentage_error: 32.7037\n",
      "Epoch 90/281\n",
      "404/404 [==============================] - 0s 17us/step - loss: 61.8577 - mean_absolute_percentage_error: 28.8223 - val_loss: 60.8182 - val_mean_absolute_percentage_error: 32.8398\n",
      "Epoch 91/281\n",
      "404/404 [==============================] - 0s 32us/step - loss: 61.8737 - mean_absolute_percentage_error: 29.2588 - val_loss: 60.9004 - val_mean_absolute_percentage_error: 33.1246\n",
      "Epoch 92/281\n",
      "404/404 [==============================] - 0s 17us/step - loss: 61.6973 - mean_absolute_percentage_error: 28.8675 - val_loss: 60.3100 - val_mean_absolute_percentage_error: 32.4598\n",
      "Epoch 93/281\n",
      "404/404 [==============================] - 0s 25us/step - loss: 61.6997 - mean_absolute_percentage_error: 29.0573 - val_loss: 60.4555 - val_mean_absolute_percentage_error: 32.8898\n",
      "Epoch 94/281\n",
      "404/404 [==============================] - 0s 20us/step - loss: 61.2762 - mean_absolute_percentage_error: 28.6111 - val_loss: 59.7927 - val_mean_absolute_percentage_error: 31.8874\n",
      "Epoch 95/281\n",
      "404/404 [==============================] - 0s 22us/step - loss: 61.3110 - mean_absolute_percentage_error: 27.7781 - val_loss: 59.6504 - val_mean_absolute_percentage_error: 31.8180\n",
      "Epoch 96/281\n",
      "404/404 [==============================] - 0s 22us/step - loss: 61.1170 - mean_absolute_percentage_error: 28.1040 - val_loss: 59.8109 - val_mean_absolute_percentage_error: 32.4263\n",
      "Epoch 97/281\n",
      "404/404 [==============================] - 0s 20us/step - loss: 60.8834 - mean_absolute_percentage_error: 29.0875 - val_loss: 60.5657 - val_mean_absolute_percentage_error: 33.4407\n",
      "Epoch 98/281\n",
      "404/404 [==============================] - 0s 25us/step - loss: 60.9719 - mean_absolute_percentage_error: 29.3354 - val_loss: 59.5828 - val_mean_absolute_percentage_error: 32.5103\n",
      "Epoch 99/281\n",
      "404/404 [==============================] - 0s 25us/step - loss: 60.9263 - mean_absolute_percentage_error: 27.9505 - val_loss: 58.9246 - val_mean_absolute_percentage_error: 31.0229\n",
      "Epoch 100/281\n",
      "404/404 [==============================] - 0s 20us/step - loss: 60.7833 - mean_absolute_percentage_error: 27.3544 - val_loss: 58.8671 - val_mean_absolute_percentage_error: 31.6431\n",
      "Epoch 101/281\n",
      "404/404 [==============================] - 0s 25us/step - loss: 60.4081 - mean_absolute_percentage_error: 28.0096 - val_loss: 58.9935 - val_mean_absolute_percentage_error: 32.1539\n",
      "Epoch 102/281\n",
      "404/404 [==============================] - 0s 20us/step - loss: 60.2404 - mean_absolute_percentage_error: 28.4138 - val_loss: 58.9555 - val_mean_absolute_percentage_error: 32.2626\n",
      "Epoch 103/281\n",
      "404/404 [==============================] - 0s 22us/step - loss: 60.2095 - mean_absolute_percentage_error: 28.2142 - val_loss: 58.5161 - val_mean_absolute_percentage_error: 31.7392\n",
      "Epoch 104/281\n",
      "404/404 [==============================] - 0s 22us/step - loss: 60.0251 - mean_absolute_percentage_error: 27.8400 - val_loss: 58.3315 - val_mean_absolute_percentage_error: 31.6198\n",
      "Epoch 105/281\n",
      "404/404 [==============================] - 0s 25us/step - loss: 60.0229 - mean_absolute_percentage_error: 28.2543 - val_loss: 58.6624 - val_mean_absolute_percentage_error: 32.3006\n",
      "Epoch 106/281\n",
      "404/404 [==============================] - 0s 27us/step - loss: 59.7522 - mean_absolute_percentage_error: 28.3586 - val_loss: 58.2065 - val_mean_absolute_percentage_error: 31.7997\n",
      "Epoch 107/281\n",
      "404/404 [==============================] - 0s 20us/step - loss: 59.6694 - mean_absolute_percentage_error: 27.9768 - val_loss: 57.9688 - val_mean_absolute_percentage_error: 31.5855\n",
      "Epoch 108/281\n",
      "404/404 [==============================] - 0s 27us/step - loss: 59.5754 - mean_absolute_percentage_error: 27.3875 - val_loss: 57.6640 - val_mean_absolute_percentage_error: 31.0450\n",
      "Epoch 109/281\n",
      "404/404 [==============================] - 0s 17us/step - loss: 59.4703 - mean_absolute_percentage_error: 27.1520 - val_loss: 57.6721 - val_mean_absolute_percentage_error: 31.4120\n",
      "Epoch 110/281\n",
      "404/404 [==============================] - 0s 27us/step - loss: 59.5066 - mean_absolute_percentage_error: 28.1575 - val_loss: 58.3738 - val_mean_absolute_percentage_error: 32.5269\n",
      "Epoch 111/281\n",
      "404/404 [==============================] - 0s 17us/step - loss: 59.5106 - mean_absolute_percentage_error: 28.2423 - val_loss: 57.4953 - val_mean_absolute_percentage_error: 31.5478\n",
      "Epoch 112/281\n",
      "404/404 [==============================] - 0s 27us/step - loss: 58.9902 - mean_absolute_percentage_error: 27.8519 - val_loss: 57.5917 - val_mean_absolute_percentage_error: 31.8814\n",
      "Epoch 113/281\n",
      "404/404 [==============================] - 0s 25us/step - loss: 58.8169 - mean_absolute_percentage_error: 28.0929 - val_loss: 57.6515 - val_mean_absolute_percentage_error: 32.1014\n",
      "Epoch 114/281\n",
      "404/404 [==============================] - 0s 17us/step - loss: 58.8448 - mean_absolute_percentage_error: 28.5117 - val_loss: 57.6481 - val_mean_absolute_percentage_error: 32.2337\n",
      "Epoch 115/281\n",
      "404/404 [==============================] - 0s 22us/step - loss: 58.4884 - mean_absolute_percentage_error: 28.0930 - val_loss: 56.7939 - val_mean_absolute_percentage_error: 31.2586\n",
      "Epoch 116/281\n",
      "404/404 [==============================] - 0s 22us/step - loss: 58.4089 - mean_absolute_percentage_error: 27.1630 - val_loss: 56.4605 - val_mean_absolute_percentage_error: 30.7691\n",
      "Epoch 117/281\n",
      "404/404 [==============================] - 0s 25us/step - loss: 58.3771 - mean_absolute_percentage_error: 27.0504 - val_loss: 56.4465 - val_mean_absolute_percentage_error: 31.0750\n",
      "Epoch 118/281\n",
      "404/404 [==============================] - 0s 20us/step - loss: 58.1699 - mean_absolute_percentage_error: 27.6761 - val_loss: 56.7637 - val_mean_absolute_percentage_error: 31.7057\n",
      "Epoch 119/281\n",
      "404/404 [==============================] - 0s 17us/step - loss: 58.0509 - mean_absolute_percentage_error: 27.9735 - val_loss: 56.4498 - val_mean_absolute_percentage_error: 31.4395\n",
      "Epoch 120/281\n",
      "404/404 [==============================] - 0s 30us/step - loss: 57.7989 - mean_absolute_percentage_error: 27.4580 - val_loss: 55.9550 - val_mean_absolute_percentage_error: 30.8583\n",
      "Epoch 121/281\n",
      "404/404 [==============================] - 0s 20us/step - loss: 57.7368 - mean_absolute_percentage_error: 26.9761 - val_loss: 55.7378 - val_mean_absolute_percentage_error: 30.7020\n",
      "Epoch 122/281\n",
      "404/404 [==============================] - 0s 25us/step - loss: 57.6549 - mean_absolute_percentage_error: 27.0646 - val_loss: 55.6990 - val_mean_absolute_percentage_error: 30.9065\n",
      "Epoch 123/281\n",
      "404/404 [==============================] - 0s 22us/step - loss: 57.4750 - mean_absolute_percentage_error: 26.9105 - val_loss: 55.4430 - val_mean_absolute_percentage_error: 30.6857\n",
      "Epoch 124/281\n",
      "404/404 [==============================] - 0s 25us/step - loss: 57.2398 - mean_absolute_percentage_error: 26.9873 - val_loss: 55.4778 - val_mean_absolute_percentage_error: 30.9583\n",
      "Epoch 125/281\n",
      "404/404 [==============================] - 0s 20us/step - loss: 57.1433 - mean_absolute_percentage_error: 27.1276 - val_loss: 55.3834 - val_mean_absolute_percentage_error: 30.9794\n",
      "Epoch 126/281\n",
      "404/404 [==============================] - 0s 20us/step - loss: 57.0984 - mean_absolute_percentage_error: 27.6010 - val_loss: 55.7391 - val_mean_absolute_percentage_error: 31.5384\n",
      "Epoch 127/281\n"
     ]
    },
    {
     "name": "stdout",
     "output_type": "stream",
     "text": [
      "404/404 [==============================] - 0s 30us/step - loss: 57.3571 - mean_absolute_percentage_error: 27.1149 - val_loss: 54.6812 - val_mean_absolute_percentage_error: 30.0402\n",
      "Epoch 128/281\n",
      "404/404 [==============================] - 0s 22us/step - loss: 56.7212 - mean_absolute_percentage_error: 26.6262 - val_loss: 54.8732 - val_mean_absolute_percentage_error: 30.7833\n",
      "Epoch 129/281\n",
      "404/404 [==============================] - 0s 22us/step - loss: 56.5679 - mean_absolute_percentage_error: 27.1882 - val_loss: 54.6999 - val_mean_absolute_percentage_error: 30.7257\n",
      "Epoch 130/281\n",
      "404/404 [==============================] - 0s 22us/step - loss: 56.6433 - mean_absolute_percentage_error: 26.6442 - val_loss: 54.2220 - val_mean_absolute_percentage_error: 30.1162\n",
      "Epoch 131/281\n",
      "404/404 [==============================] - 0s 20us/step - loss: 56.6845 - mean_absolute_percentage_error: 27.1992 - val_loss: 54.4977 - val_mean_absolute_percentage_error: 30.7902\n",
      "Epoch 132/281\n",
      "404/404 [==============================] - 0s 25us/step - loss: 56.4552 - mean_absolute_percentage_error: 26.4462 - val_loss: 53.7738 - val_mean_absolute_percentage_error: 29.4503\n",
      "Epoch 133/281\n",
      "404/404 [==============================] - 0s 20us/step - loss: 56.2033 - mean_absolute_percentage_error: 26.4883 - val_loss: 54.2155 - val_mean_absolute_percentage_error: 30.7032\n",
      "Epoch 134/281\n",
      "404/404 [==============================] - 0s 25us/step - loss: 55.8369 - mean_absolute_percentage_error: 26.9358 - val_loss: 53.7129 - val_mean_absolute_percentage_error: 30.1476\n",
      "Epoch 135/281\n",
      "404/404 [==============================] - 0s 27us/step - loss: 55.6905 - mean_absolute_percentage_error: 26.4749 - val_loss: 53.5389 - val_mean_absolute_percentage_error: 30.0479\n",
      "Epoch 136/281\n",
      "404/404 [==============================] - 0s 25us/step - loss: 55.4848 - mean_absolute_percentage_error: 26.3194 - val_loss: 53.2436 - val_mean_absolute_percentage_error: 29.6922\n",
      "Epoch 137/281\n",
      "404/404 [==============================] - 0s 22us/step - loss: 55.4440 - mean_absolute_percentage_error: 26.0365 - val_loss: 53.1904 - val_mean_absolute_percentage_error: 29.8715\n",
      "Epoch 138/281\n",
      "404/404 [==============================] - 0s 20us/step - loss: 55.2984 - mean_absolute_percentage_error: 26.6006 - val_loss: 53.2473 - val_mean_absolute_percentage_error: 30.2083\n",
      "Epoch 139/281\n",
      "404/404 [==============================] - 0s 22us/step - loss: 55.0986 - mean_absolute_percentage_error: 26.6297 - val_loss: 53.0481 - val_mean_absolute_percentage_error: 30.0661\n",
      "Epoch 140/281\n",
      "404/404 [==============================] - 0s 22us/step - loss: 54.9466 - mean_absolute_percentage_error: 26.6551 - val_loss: 53.0811 - val_mean_absolute_percentage_error: 30.2579\n",
      "Epoch 141/281\n",
      "404/404 [==============================] - 0s 25us/step - loss: 54.9019 - mean_absolute_percentage_error: 26.3412 - val_loss: 52.3903 - val_mean_absolute_percentage_error: 29.3071\n",
      "Epoch 142/281\n",
      "404/404 [==============================] - 0s 25us/step - loss: 54.7393 - mean_absolute_percentage_error: 25.5486 - val_loss: 52.2274 - val_mean_absolute_percentage_error: 29.2492\n",
      "Epoch 143/281\n",
      "404/404 [==============================] - 0s 22us/step - loss: 54.9636 - mean_absolute_percentage_error: 26.7137 - val_loss: 53.3669 - val_mean_absolute_percentage_error: 30.9211\n",
      "Epoch 144/281\n",
      "404/404 [==============================] - 0s 22us/step - loss: 54.4656 - mean_absolute_percentage_error: 26.7735 - val_loss: 51.9761 - val_mean_absolute_percentage_error: 29.3697\n",
      "Epoch 145/281\n",
      "404/404 [==============================] - 0s 17us/step - loss: 54.1488 - mean_absolute_percentage_error: 25.5453 - val_loss: 51.6324 - val_mean_absolute_percentage_error: 28.8803\n",
      "Epoch 146/281\n",
      "404/404 [==============================] - 0s 22us/step - loss: 54.0548 - mean_absolute_percentage_error: 25.5343 - val_loss: 51.6642 - val_mean_absolute_percentage_error: 29.3646\n",
      "Epoch 147/281\n",
      "404/404 [==============================] - 0s 22us/step - loss: 53.8616 - mean_absolute_percentage_error: 26.1692 - val_loss: 51.7163 - val_mean_absolute_percentage_error: 29.6354\n",
      "Epoch 148/281\n",
      "404/404 [==============================] - 0s 17us/step - loss: 53.6584 - mean_absolute_percentage_error: 25.6875 - val_loss: 51.1118 - val_mean_absolute_percentage_error: 28.6687\n",
      "Epoch 149/281\n",
      "404/404 [==============================] - 0s 30us/step - loss: 53.6843 - mean_absolute_percentage_error: 25.4599 - val_loss: 51.1496 - val_mean_absolute_percentage_error: 29.1238\n",
      "Epoch 150/281\n",
      "404/404 [==============================] - 0s 20us/step - loss: 53.4181 - mean_absolute_percentage_error: 25.6339 - val_loss: 51.0840 - val_mean_absolute_percentage_error: 29.2612\n",
      "Epoch 151/281\n",
      "404/404 [==============================] - 0s 25us/step - loss: 53.3256 - mean_absolute_percentage_error: 25.3942 - val_loss: 50.6493 - val_mean_absolute_percentage_error: 28.7138\n",
      "Epoch 152/281\n",
      "404/404 [==============================] - 0s 22us/step - loss: 53.0392 - mean_absolute_percentage_error: 25.3277 - val_loss: 50.6611 - val_mean_absolute_percentage_error: 29.0409\n",
      "Epoch 153/281\n",
      "404/404 [==============================] - 0s 20us/step - loss: 52.8860 - mean_absolute_percentage_error: 25.6940 - val_loss: 50.4837 - val_mean_absolute_percentage_error: 28.9813\n",
      "Epoch 154/281\n",
      "404/404 [==============================] - 0s 22us/step - loss: 52.6642 - mean_absolute_percentage_error: 25.4063 - val_loss: 50.0824 - val_mean_absolute_percentage_error: 28.5327\n",
      "Epoch 155/281\n",
      "404/404 [==============================] - 0s 20us/step - loss: 52.5001 - mean_absolute_percentage_error: 25.4361 - val_loss: 50.2291 - val_mean_absolute_percentage_error: 29.0931\n",
      "Epoch 156/281\n",
      "404/404 [==============================] - 0s 25us/step - loss: 52.5223 - mean_absolute_percentage_error: 26.1358 - val_loss: 50.3436 - val_mean_absolute_percentage_error: 29.4444\n",
      "Epoch 157/281\n",
      "404/404 [==============================] - 0s 22us/step - loss: 52.2417 - mean_absolute_percentage_error: 25.9985 - val_loss: 49.5881 - val_mean_absolute_percentage_error: 28.6078\n",
      "Epoch 158/281\n",
      "404/404 [==============================] - 0s 22us/step - loss: 51.9328 - mean_absolute_percentage_error: 25.1001 - val_loss: 49.2078 - val_mean_absolute_percentage_error: 28.0820\n",
      "Epoch 159/281\n",
      "404/404 [==============================] - 0s 22us/step - loss: 52.2006 - mean_absolute_percentage_error: 24.3499 - val_loss: 48.9889 - val_mean_absolute_percentage_error: 27.7568\n",
      "Epoch 160/281\n",
      "404/404 [==============================] - 0s 20us/step - loss: 51.7615 - mean_absolute_percentage_error: 25.0540 - val_loss: 49.4369 - val_mean_absolute_percentage_error: 28.9713\n",
      "Epoch 161/281\n",
      "404/404 [==============================] - 0s 25us/step - loss: 51.4528 - mean_absolute_percentage_error: 25.5292 - val_loss: 48.8799 - val_mean_absolute_percentage_error: 28.3916\n",
      "Epoch 162/281\n",
      "404/404 [==============================] - 0s 22us/step - loss: 51.2242 - mean_absolute_percentage_error: 24.8120 - val_loss: 48.4230 - val_mean_absolute_percentage_error: 27.7219\n",
      "Epoch 163/281\n",
      "404/404 [==============================] - 0s 22us/step - loss: 51.0865 - mean_absolute_percentage_error: 24.5797 - val_loss: 48.3892 - val_mean_absolute_percentage_error: 28.1370\n",
      "Epoch 164/281\n",
      "404/404 [==============================] - 0s 30us/step - loss: 50.8396 - mean_absolute_percentage_error: 24.9058 - val_loss: 48.2158 - val_mean_absolute_percentage_error: 28.1446\n",
      "Epoch 165/281\n",
      "404/404 [==============================] - 0s 20us/step - loss: 50.6619 - mean_absolute_percentage_error: 24.7574 - val_loss: 47.9123 - val_mean_absolute_percentage_error: 27.8824\n",
      "Epoch 166/281\n",
      "404/404 [==============================] - 0s 22us/step - loss: 50.4479 - mean_absolute_percentage_error: 24.7629 - val_loss: 47.8254 - val_mean_absolute_percentage_error: 28.0179\n",
      "Epoch 167/281\n",
      "404/404 [==============================] - 0s 20us/step - loss: 50.2588 - mean_absolute_percentage_error: 24.8614 - val_loss: 47.5833 - val_mean_absolute_percentage_error: 27.9235\n",
      "Epoch 168/281\n",
      "404/404 [==============================] - 0s 22us/step - loss: 50.0084 - mean_absolute_percentage_error: 24.7172 - val_loss: 47.1601 - val_mean_absolute_percentage_error: 27.4027\n",
      "Epoch 169/281\n"
     ]
    },
    {
     "name": "stdout",
     "output_type": "stream",
     "text": [
      "404/404 [==============================] - 0s 22us/step - loss: 50.2866 - mean_absolute_percentage_error: 23.6186 - val_loss: 46.9089 - val_mean_absolute_percentage_error: 26.5539\n",
      "Epoch 170/281\n",
      "404/404 [==============================] - 0s 20us/step - loss: 49.8708 - mean_absolute_percentage_error: 23.6654 - val_loss: 46.8939 - val_mean_absolute_percentage_error: 27.5919\n",
      "Epoch 171/281\n",
      "404/404 [==============================] - 0s 31us/step - loss: 49.5868 - mean_absolute_percentage_error: 25.0978 - val_loss: 47.5749 - val_mean_absolute_percentage_error: 28.6232\n",
      "Epoch 172/281\n",
      "404/404 [==============================] - 0s 20us/step - loss: 49.2497 - mean_absolute_percentage_error: 24.8471 - val_loss: 46.3354 - val_mean_absolute_percentage_error: 27.0138\n",
      "Epoch 173/281\n",
      "404/404 [==============================] - 0s 22us/step - loss: 49.1404 - mean_absolute_percentage_error: 23.4242 - val_loss: 46.0472 - val_mean_absolute_percentage_error: 26.5558\n",
      "Epoch 174/281\n",
      "404/404 [==============================] - 0s 25us/step - loss: 48.7637 - mean_absolute_percentage_error: 23.6877 - val_loss: 46.4346 - val_mean_absolute_percentage_error: 27.8083\n",
      "Epoch 175/281\n",
      "404/404 [==============================] - 0s 20us/step - loss: 48.6911 - mean_absolute_percentage_error: 24.8248 - val_loss: 46.0824 - val_mean_absolute_percentage_error: 27.5686\n",
      "Epoch 176/281\n",
      "404/404 [==============================] - 0s 25us/step - loss: 48.3815 - mean_absolute_percentage_error: 23.8503 - val_loss: 45.4054 - val_mean_absolute_percentage_error: 26.3448\n",
      "Epoch 177/281\n",
      "404/404 [==============================] - 0s 20us/step - loss: 48.8222 - mean_absolute_percentage_error: 22.6931 - val_loss: 45.1645 - val_mean_absolute_percentage_error: 26.3179\n",
      "Epoch 178/281\n",
      "404/404 [==============================] - 0s 25us/step - loss: 47.8434 - mean_absolute_percentage_error: 24.2456 - val_loss: 46.6547 - val_mean_absolute_percentage_error: 28.7124\n",
      "Epoch 179/281\n",
      "404/404 [==============================] - 0s 22us/step - loss: 48.4915 - mean_absolute_percentage_error: 25.7813 - val_loss: 45.7643 - val_mean_absolute_percentage_error: 27.9789\n",
      "Epoch 180/281\n",
      "404/404 [==============================] - 0s 22us/step - loss: 47.6425 - mean_absolute_percentage_error: 24.4986 - val_loss: 44.5018 - val_mean_absolute_percentage_error: 26.4889\n",
      "Epoch 181/281\n",
      "404/404 [==============================] - 0s 20us/step - loss: 47.3435 - mean_absolute_percentage_error: 23.2485 - val_loss: 44.1809 - val_mean_absolute_percentage_error: 26.0672\n",
      "Epoch 182/281\n",
      "404/404 [==============================] - 0s 22us/step - loss: 46.9992 - mean_absolute_percentage_error: 23.0471 - val_loss: 44.2998 - val_mean_absolute_percentage_error: 26.8452\n",
      "Epoch 183/281\n",
      "404/404 [==============================] - 0s 22us/step - loss: 47.1542 - mean_absolute_percentage_error: 24.4996 - val_loss: 44.5960 - val_mean_absolute_percentage_error: 27.4345\n",
      "Epoch 184/281\n",
      "404/404 [==============================] - 0s 20us/step - loss: 46.7760 - mean_absolute_percentage_error: 23.3700 - val_loss: 43.4861 - val_mean_absolute_percentage_error: 25.7800\n",
      "Epoch 185/281\n",
      "404/404 [==============================] - 0s 20us/step - loss: 46.5772 - mean_absolute_percentage_error: 23.2481 - val_loss: 43.6866 - val_mean_absolute_percentage_error: 26.7312\n",
      "Epoch 186/281\n",
      "404/404 [==============================] - 0s 25us/step - loss: 46.3985 - mean_absolute_percentage_error: 23.0977 - val_loss: 43.1810 - val_mean_absolute_percentage_error: 26.2016\n",
      "Epoch 187/281\n",
      "404/404 [==============================] - 0s 20us/step - loss: 45.9421 - mean_absolute_percentage_error: 23.7478 - val_loss: 43.5977 - val_mean_absolute_percentage_error: 27.0306\n",
      "Epoch 188/281\n",
      "404/404 [==============================] - 0s 22us/step - loss: 45.6398 - mean_absolute_percentage_error: 23.3184 - val_loss: 42.7218 - val_mean_absolute_percentage_error: 25.9036\n",
      "Epoch 189/281\n",
      "404/404 [==============================] - 0s 17us/step - loss: 45.2867 - mean_absolute_percentage_error: 22.6587 - val_loss: 42.5227 - val_mean_absolute_percentage_error: 25.9896\n",
      "Epoch 190/281\n",
      "404/404 [==============================] - 0s 20us/step - loss: 45.1489 - mean_absolute_percentage_error: 23.0427 - val_loss: 42.3945 - val_mean_absolute_percentage_error: 26.1508\n",
      "Epoch 191/281\n",
      "404/404 [==============================] - 0s 25us/step - loss: 44.7434 - mean_absolute_percentage_error: 22.9157 - val_loss: 42.1177 - val_mean_absolute_percentage_error: 25.9988\n",
      "Epoch 192/281\n",
      "404/404 [==============================] - 0s 20us/step - loss: 44.4717 - mean_absolute_percentage_error: 22.7235 - val_loss: 41.8232 - val_mean_absolute_percentage_error: 25.8299\n",
      "Epoch 193/281\n",
      "404/404 [==============================] - 0s 22us/step - loss: 44.1633 - mean_absolute_percentage_error: 22.3881 - val_loss: 41.3700 - val_mean_absolute_percentage_error: 25.3126\n",
      "Epoch 194/281\n",
      "404/404 [==============================] - 0s 27us/step - loss: 44.0454 - mean_absolute_percentage_error: 22.1559 - val_loss: 41.1491 - val_mean_absolute_percentage_error: 25.4156\n",
      "Epoch 195/281\n",
      "404/404 [==============================] - 0s 25us/step - loss: 44.0391 - mean_absolute_percentage_error: 23.2142 - val_loss: 41.6002 - val_mean_absolute_percentage_error: 26.4015\n",
      "Epoch 196/281\n",
      "404/404 [==============================] - 0s 22us/step - loss: 43.5819 - mean_absolute_percentage_error: 22.6454 - val_loss: 40.4070 - val_mean_absolute_percentage_error: 24.6974\n",
      "Epoch 197/281\n",
      "404/404 [==============================] - 0s 20us/step - loss: 43.2473 - mean_absolute_percentage_error: 21.8578 - val_loss: 40.2305 - val_mean_absolute_percentage_error: 25.1277\n",
      "Epoch 198/281\n",
      "404/404 [==============================] - 0s 25us/step - loss: 42.9072 - mean_absolute_percentage_error: 21.8688 - val_loss: 39.9138 - val_mean_absolute_percentage_error: 24.9912\n",
      "Epoch 199/281\n",
      "404/404 [==============================] - 0s 22us/step - loss: 42.5463 - mean_absolute_percentage_error: 21.9937 - val_loss: 39.7380 - val_mean_absolute_percentage_error: 25.0930\n",
      "Epoch 200/281\n",
      "404/404 [==============================] - 0s 25us/step - loss: 42.3318 - mean_absolute_percentage_error: 22.1513 - val_loss: 39.3855 - val_mean_absolute_percentage_error: 24.8330\n",
      "Epoch 201/281\n",
      "404/404 [==============================] - 0s 27us/step - loss: 41.9764 - mean_absolute_percentage_error: 22.0473 - val_loss: 39.2759 - val_mean_absolute_percentage_error: 25.0257\n",
      "Epoch 202/281\n",
      "404/404 [==============================] - 0s 25us/step - loss: 41.7211 - mean_absolute_percentage_error: 21.9286 - val_loss: 38.8453 - val_mean_absolute_percentage_error: 24.7285\n",
      "Epoch 203/281\n",
      "404/404 [==============================] - 0s 25us/step - loss: 41.4930 - mean_absolute_percentage_error: 21.3742 - val_loss: 38.4153 - val_mean_absolute_percentage_error: 24.2644\n",
      "Epoch 204/281\n",
      "404/404 [==============================] - 0s 17us/step - loss: 41.1351 - mean_absolute_percentage_error: 21.8541 - val_loss: 38.6523 - val_mean_absolute_percentage_error: 25.0113\n",
      "Epoch 205/281\n",
      "404/404 [==============================] - 0s 22us/step - loss: 40.8962 - mean_absolute_percentage_error: 22.0951 - val_loss: 38.0757 - val_mean_absolute_percentage_error: 24.4699\n",
      "Epoch 206/281\n",
      "404/404 [==============================] - 0s 22us/step - loss: 40.3694 - mean_absolute_percentage_error: 21.0863 - val_loss: 37.4266 - val_mean_absolute_percentage_error: 23.3452\n",
      "Epoch 207/281\n",
      "404/404 [==============================] - 0s 27us/step - loss: 40.4271 - mean_absolute_percentage_error: 20.2997 - val_loss: 37.1888 - val_mean_absolute_percentage_error: 23.6339\n",
      "Epoch 208/281\n",
      "404/404 [==============================] - 0s 27us/step - loss: 40.1919 - mean_absolute_percentage_error: 21.7557 - val_loss: 37.2882 - val_mean_absolute_percentage_error: 24.3916\n",
      "Epoch 209/281\n",
      "404/404 [==============================] - 0s 27us/step - loss: 40.3316 - mean_absolute_percentage_error: 20.2256 - val_loss: 36.4747 - val_mean_absolute_percentage_error: 22.6297\n",
      "Epoch 210/281\n",
      "404/404 [==============================] - 0s 22us/step - loss: 39.6368 - mean_absolute_percentage_error: 21.7051 - val_loss: 38.2630 - val_mean_absolute_percentage_error: 26.2206\n",
      "Epoch 211/281\n"
     ]
    },
    {
     "name": "stdout",
     "output_type": "stream",
     "text": [
      "404/404 [==============================] - 0s 20us/step - loss: 39.2727 - mean_absolute_percentage_error: 22.0198 - val_loss: 35.7834 - val_mean_absolute_percentage_error: 22.7314\n",
      "Epoch 212/281\n",
      "404/404 [==============================] - 0s 22us/step - loss: 38.7079 - mean_absolute_percentage_error: 20.3437 - val_loss: 35.8329 - val_mean_absolute_percentage_error: 23.8903\n",
      "Epoch 213/281\n",
      "404/404 [==============================] - 0s 22us/step - loss: 38.3580 - mean_absolute_percentage_error: 21.0465 - val_loss: 35.6590 - val_mean_absolute_percentage_error: 23.9598\n",
      "Epoch 214/281\n",
      "404/404 [==============================] - 0s 27us/step - loss: 38.1898 - mean_absolute_percentage_error: 21.3517 - val_loss: 35.2885 - val_mean_absolute_percentage_error: 23.7098\n",
      "Epoch 215/281\n",
      "404/404 [==============================] - 0s 27us/step - loss: 37.8114 - mean_absolute_percentage_error: 20.2312 - val_loss: 34.7515 - val_mean_absolute_percentage_error: 22.8750\n",
      "Epoch 216/281\n",
      "404/404 [==============================] - 0s 20us/step - loss: 37.5314 - mean_absolute_percentage_error: 20.3881 - val_loss: 34.7801 - val_mean_absolute_percentage_error: 23.5296\n",
      "Epoch 217/281\n",
      "404/404 [==============================] - 0s 22us/step - loss: 37.2593 - mean_absolute_percentage_error: 20.0495 - val_loss: 34.3642 - val_mean_absolute_percentage_error: 23.0987\n",
      "Epoch 218/281\n",
      "404/404 [==============================] - 0s 20us/step - loss: 36.8310 - mean_absolute_percentage_error: 20.7394 - val_loss: 34.2535 - val_mean_absolute_percentage_error: 23.4432\n",
      "Epoch 219/281\n",
      "404/404 [==============================] - 0s 25us/step - loss: 36.7865 - mean_absolute_percentage_error: 19.6885 - val_loss: 33.5450 - val_mean_absolute_percentage_error: 22.2339\n",
      "Epoch 220/281\n",
      "404/404 [==============================] - 0s 20us/step - loss: 36.0198 - mean_absolute_percentage_error: 19.9238 - val_loss: 34.2049 - val_mean_absolute_percentage_error: 24.0770\n",
      "Epoch 221/281\n",
      "404/404 [==============================] - 0s 25us/step - loss: 36.1170 - mean_absolute_percentage_error: 20.4908 - val_loss: 33.2445 - val_mean_absolute_percentage_error: 22.9260\n",
      "Epoch 222/281\n",
      "404/404 [==============================] - 0s 25us/step - loss: 35.9233 - mean_absolute_percentage_error: 20.7707 - val_loss: 33.3227 - val_mean_absolute_percentage_error: 23.3664\n",
      "Epoch 223/281\n",
      "404/404 [==============================] - 0s 20us/step - loss: 35.1895 - mean_absolute_percentage_error: 19.9936 - val_loss: 32.5156 - val_mean_absolute_percentage_error: 22.1247\n",
      "Epoch 224/281\n",
      "404/404 [==============================] - 0s 22us/step - loss: 34.9115 - mean_absolute_percentage_error: 19.2554 - val_loss: 32.5084 - val_mean_absolute_percentage_error: 22.7698\n",
      "Epoch 225/281\n",
      "404/404 [==============================] - 0s 20us/step - loss: 34.6399 - mean_absolute_percentage_error: 19.8441 - val_loss: 32.2369 - val_mean_absolute_percentage_error: 22.6097\n",
      "Epoch 226/281\n",
      "404/404 [==============================] - 0s 20us/step - loss: 34.6732 - mean_absolute_percentage_error: 18.7566 - val_loss: 31.7593 - val_mean_absolute_percentage_error: 22.0330\n",
      "Epoch 227/281\n",
      "404/404 [==============================] - 0s 22us/step - loss: 34.2998 - mean_absolute_percentage_error: 20.1500 - val_loss: 32.4068 - val_mean_absolute_percentage_error: 23.8230\n",
      "Epoch 228/281\n",
      "404/404 [==============================] - 0s 20us/step - loss: 33.9798 - mean_absolute_percentage_error: 19.6395 - val_loss: 31.0397 - val_mean_absolute_percentage_error: 21.4019\n",
      "Epoch 229/281\n",
      "404/404 [==============================] - 0s 30us/step - loss: 33.4211 - mean_absolute_percentage_error: 19.2512 - val_loss: 31.8003 - val_mean_absolute_percentage_error: 23.4754\n",
      "Epoch 230/281\n",
      "404/404 [==============================] - 0s 20us/step - loss: 33.5995 - mean_absolute_percentage_error: 20.9054 - val_loss: 31.0677 - val_mean_absolute_percentage_error: 22.6543\n",
      "Epoch 231/281\n",
      "404/404 [==============================] - 0s 25us/step - loss: 33.1741 - mean_absolute_percentage_error: 18.5153 - val_loss: 30.4250 - val_mean_absolute_percentage_error: 20.2894\n",
      "Epoch 232/281\n",
      "404/404 [==============================] - 0s 27us/step - loss: 32.8614 - mean_absolute_percentage_error: 18.0286 - val_loss: 30.6320 - val_mean_absolute_percentage_error: 22.6320\n",
      "Epoch 233/281\n",
      "404/404 [==============================] - 0s 20us/step - loss: 32.9795 - mean_absolute_percentage_error: 20.8141 - val_loss: 30.8937 - val_mean_absolute_percentage_error: 23.2050\n",
      "Epoch 234/281\n",
      "404/404 [==============================] - 0s 25us/step - loss: 32.1655 - mean_absolute_percentage_error: 19.5257 - val_loss: 29.5290 - val_mean_absolute_percentage_error: 21.0805\n",
      "Epoch 235/281\n",
      "404/404 [==============================] - 0s 20us/step - loss: 32.4630 - mean_absolute_percentage_error: 17.9842 - val_loss: 29.4083 - val_mean_absolute_percentage_error: 21.5169\n",
      "Epoch 236/281\n",
      "404/404 [==============================] - 0s 25us/step - loss: 31.6041 - mean_absolute_percentage_error: 19.0444 - val_loss: 29.3960 - val_mean_absolute_percentage_error: 21.8232\n",
      "Epoch 237/281\n",
      "404/404 [==============================] - 0s 25us/step - loss: 31.6707 - mean_absolute_percentage_error: 18.2841 - val_loss: 28.8563 - val_mean_absolute_percentage_error: 21.1204\n",
      "Epoch 238/281\n",
      "404/404 [==============================] - 0s 25us/step - loss: 31.1124 - mean_absolute_percentage_error: 19.0839 - val_loss: 29.2844 - val_mean_absolute_percentage_error: 22.3576\n",
      "Epoch 239/281\n",
      "404/404 [==============================] - 0s 22us/step - loss: 31.2162 - mean_absolute_percentage_error: 18.6693 - val_loss: 28.4416 - val_mean_absolute_percentage_error: 20.9871\n",
      "Epoch 240/281\n",
      "404/404 [==============================] - 0s 25us/step - loss: 30.8285 - mean_absolute_percentage_error: 19.2023 - val_loss: 28.7641 - val_mean_absolute_percentage_error: 21.9914\n",
      "Epoch 241/281\n",
      "404/404 [==============================] - 0s 22us/step - loss: 30.6607 - mean_absolute_percentage_error: 18.1182 - val_loss: 28.0223 - val_mean_absolute_percentage_error: 20.5659\n",
      "Epoch 242/281\n",
      "404/404 [==============================] - 0s 20us/step - loss: 30.3644 - mean_absolute_percentage_error: 18.7412 - val_loss: 28.1370 - val_mean_absolute_percentage_error: 21.6978\n",
      "Epoch 243/281\n",
      "404/404 [==============================] - 0s 27us/step - loss: 29.8488 - mean_absolute_percentage_error: 18.2942 - val_loss: 27.5082 - val_mean_absolute_percentage_error: 20.5794\n",
      "Epoch 244/281\n",
      "404/404 [==============================] - 0s 25us/step - loss: 29.7506 - mean_absolute_percentage_error: 17.9322 - val_loss: 27.6870 - val_mean_absolute_percentage_error: 21.5934\n",
      "Epoch 245/281\n",
      "404/404 [==============================] - 0s 22us/step - loss: 29.7511 - mean_absolute_percentage_error: 19.3311 - val_loss: 27.4158 - val_mean_absolute_percentage_error: 21.3333\n",
      "Epoch 246/281\n",
      "404/404 [==============================] - 0s 20us/step - loss: 29.2802 - mean_absolute_percentage_error: 18.0636 - val_loss: 27.0911 - val_mean_absolute_percentage_error: 20.6079\n",
      "Epoch 247/281\n",
      "404/404 [==============================] - 0s 20us/step - loss: 29.5680 - mean_absolute_percentage_error: 19.1143 - val_loss: 27.1085 - val_mean_absolute_percentage_error: 21.0455\n",
      "Epoch 248/281\n",
      "404/404 [==============================] - 0s 25us/step - loss: 29.5132 - mean_absolute_percentage_error: 17.0531 - val_loss: 26.7978 - val_mean_absolute_percentage_error: 19.4684\n",
      "Epoch 249/281\n",
      "404/404 [==============================] - 0s 22us/step - loss: 29.6181 - mean_absolute_percentage_error: 18.8372 - val_loss: 28.0939 - val_mean_absolute_percentage_error: 22.8926\n",
      "Epoch 250/281\n",
      "404/404 [==============================] - 0s 27us/step - loss: 28.9626 - mean_absolute_percentage_error: 18.4848 - val_loss: 26.1898 - val_mean_absolute_percentage_error: 19.8019\n",
      "Epoch 251/281\n",
      "404/404 [==============================] - 0s 25us/step - loss: 28.5614 - mean_absolute_percentage_error: 18.4755 - val_loss: 26.8464 - val_mean_absolute_percentage_error: 21.7209\n",
      "Epoch 252/281\n",
      "404/404 [==============================] - 0s 22us/step - loss: 28.1180 - mean_absolute_percentage_error: 18.5478 - val_loss: 25.9853 - val_mean_absolute_percentage_error: 20.2121\n",
      "Epoch 253/281\n"
     ]
    },
    {
     "name": "stdout",
     "output_type": "stream",
     "text": [
      "404/404 [==============================] - 0s 22us/step - loss: 27.9186 - mean_absolute_percentage_error: 18.1401 - val_loss: 26.3029 - val_mean_absolute_percentage_error: 21.1548\n",
      "Epoch 254/281\n",
      "404/404 [==============================] - 0s 20us/step - loss: 27.6694 - mean_absolute_percentage_error: 18.0966 - val_loss: 25.8171 - val_mean_absolute_percentage_error: 20.5263\n",
      "Epoch 255/281\n",
      "404/404 [==============================] - 0s 22us/step - loss: 27.4822 - mean_absolute_percentage_error: 18.0953 - val_loss: 25.7773 - val_mean_absolute_percentage_error: 20.7675\n",
      "Epoch 256/281\n",
      "404/404 [==============================] - 0s 22us/step - loss: 27.2472 - mean_absolute_percentage_error: 17.7123 - val_loss: 25.3637 - val_mean_absolute_percentage_error: 19.9490\n",
      "Epoch 257/281\n",
      "404/404 [==============================] - 0s 20us/step - loss: 27.0971 - mean_absolute_percentage_error: 17.5323 - val_loss: 25.1356 - val_mean_absolute_percentage_error: 19.9853\n",
      "Epoch 258/281\n",
      "404/404 [==============================] - 0s 32us/step - loss: 27.1009 - mean_absolute_percentage_error: 17.3566 - val_loss: 25.0264 - val_mean_absolute_percentage_error: 20.4742\n",
      "Epoch 259/281\n",
      "404/404 [==============================] - 0s 22us/step - loss: 26.8302 - mean_absolute_percentage_error: 17.6253 - val_loss: 25.0872 - val_mean_absolute_percentage_error: 20.7264\n",
      "Epoch 260/281\n",
      "404/404 [==============================] - 0s 22us/step - loss: 27.0065 - mean_absolute_percentage_error: 18.6300 - val_loss: 24.7753 - val_mean_absolute_percentage_error: 20.4982\n",
      "Epoch 261/281\n",
      "404/404 [==============================] - 0s 22us/step - loss: 26.3474 - mean_absolute_percentage_error: 17.6384 - val_loss: 24.4378 - val_mean_absolute_percentage_error: 19.8350\n",
      "Epoch 262/281\n",
      "404/404 [==============================] - 0s 22us/step - loss: 26.2508 - mean_absolute_percentage_error: 17.7389 - val_loss: 24.4504 - val_mean_absolute_percentage_error: 20.3226\n",
      "Epoch 263/281\n",
      "404/404 [==============================] - 0s 22us/step - loss: 26.0707 - mean_absolute_percentage_error: 17.5182 - val_loss: 24.3749 - val_mean_absolute_percentage_error: 20.2227\n",
      "Epoch 264/281\n",
      "404/404 [==============================] - 0s 20us/step - loss: 25.9371 - mean_absolute_percentage_error: 17.5568 - val_loss: 24.1778 - val_mean_absolute_percentage_error: 19.9066\n",
      "Epoch 265/281\n",
      "404/404 [==============================] - 0s 27us/step - loss: 25.7607 - mean_absolute_percentage_error: 17.0643 - val_loss: 24.0577 - val_mean_absolute_percentage_error: 19.8844\n",
      "Epoch 266/281\n",
      "404/404 [==============================] - 0s 25us/step - loss: 25.6947 - mean_absolute_percentage_error: 17.3186 - val_loss: 24.1780 - val_mean_absolute_percentage_error: 20.5001\n",
      "Epoch 267/281\n",
      "404/404 [==============================] - 0s 27us/step - loss: 25.5606 - mean_absolute_percentage_error: 17.5367 - val_loss: 23.6763 - val_mean_absolute_percentage_error: 19.6013\n",
      "Epoch 268/281\n",
      "404/404 [==============================] - 0s 22us/step - loss: 25.3691 - mean_absolute_percentage_error: 17.1221 - val_loss: 23.8306 - val_mean_absolute_percentage_error: 20.1288\n",
      "Epoch 269/281\n",
      "404/404 [==============================] - 0s 22us/step - loss: 25.4459 - mean_absolute_percentage_error: 17.0676 - val_loss: 23.6766 - val_mean_absolute_percentage_error: 19.7266\n",
      "Epoch 270/281\n",
      "404/404 [==============================] - 0s 22us/step - loss: 25.2113 - mean_absolute_percentage_error: 17.4762 - val_loss: 23.6544 - val_mean_absolute_percentage_error: 19.9685\n",
      "Epoch 271/281\n",
      "404/404 [==============================] - 0s 20us/step - loss: 24.9186 - mean_absolute_percentage_error: 17.3075 - val_loss: 23.4781 - val_mean_absolute_percentage_error: 19.7248\n",
      "Epoch 272/281\n",
      "404/404 [==============================] - 0s 27us/step - loss: 24.8467 - mean_absolute_percentage_error: 17.2086 - val_loss: 23.2590 - val_mean_absolute_percentage_error: 19.6265\n",
      "Epoch 273/281\n",
      "404/404 [==============================] - 0s 27us/step - loss: 24.7073 - mean_absolute_percentage_error: 17.1020 - val_loss: 23.0254 - val_mean_absolute_percentage_error: 19.4738\n",
      "Epoch 274/281\n",
      "404/404 [==============================] - 0s 25us/step - loss: 24.6694 - mean_absolute_percentage_error: 16.9984 - val_loss: 23.1027 - val_mean_absolute_percentage_error: 19.8998\n",
      "Epoch 275/281\n",
      "404/404 [==============================] - 0s 22us/step - loss: 24.4432 - mean_absolute_percentage_error: 17.1604 - val_loss: 23.2210 - val_mean_absolute_percentage_error: 20.0089\n",
      "Epoch 276/281\n",
      "404/404 [==============================] - 0s 20us/step - loss: 25.0250 - mean_absolute_percentage_error: 18.3890 - val_loss: 22.9619 - val_mean_absolute_percentage_error: 19.5346\n",
      "Epoch 277/281\n",
      "404/404 [==============================] - 0s 22us/step - loss: 24.7248 - mean_absolute_percentage_error: 16.6557 - val_loss: 22.9160 - val_mean_absolute_percentage_error: 19.3746\n",
      "Epoch 278/281\n",
      "404/404 [==============================] - 0s 22us/step - loss: 24.1094 - mean_absolute_percentage_error: 17.2636 - val_loss: 22.9899 - val_mean_absolute_percentage_error: 20.0105\n",
      "Epoch 279/281\n",
      "404/404 [==============================] - 0s 27us/step - loss: 24.0122 - mean_absolute_percentage_error: 17.2300 - val_loss: 22.7806 - val_mean_absolute_percentage_error: 19.5133\n",
      "Epoch 280/281\n",
      "404/404 [==============================] - 0s 27us/step - loss: 23.8617 - mean_absolute_percentage_error: 16.7475 - val_loss: 22.5503 - val_mean_absolute_percentage_error: 19.5322\n",
      "Epoch 281/281\n",
      "404/404 [==============================] - 0s 20us/step - loss: 23.5405 - mean_absolute_percentage_error: 17.2775 - val_loss: 22.3636 - val_mean_absolute_percentage_error: 19.5832\n"
     ]
    },
    {
     "data": {
      "text/plain": [
       "<keras.callbacks.callbacks.History at 0x208139d1748>"
      ]
     },
     "execution_count": 30,
     "metadata": {},
     "output_type": "execute_result"
    }
   ],
   "source": [
    "model.fit(x_train, y_train, batch_size=64, epochs=281, validation_data=(x_val,y_val))\n"
   ]
  },
  {
   "cell_type": "code",
   "execution_count": 31,
   "metadata": {},
   "outputs": [
    {
     "name": "stdout",
     "output_type": "stream",
     "text": [
      "102/102 [==============================] - 0s 29us/step\n"
     ]
    }
   ],
   "source": [
    "result = model.evaluate(x_test, y_test)"
   ]
  },
  {
   "cell_type": "code",
   "execution_count": 32,
   "metadata": {},
   "outputs": [
    {
     "data": {
      "text/plain": [
       "[29.152813032561657, 18.667407989501953]"
      ]
     },
     "execution_count": 32,
     "metadata": {},
     "output_type": "execute_result"
    }
   ],
   "source": [
    "result"
   ]
  },
  {
   "cell_type": "markdown",
   "metadata": {},
   "source": [
    "# Activation Functions\n",
    "<img src=\"https://miro.medium.com/max/1400/1*p_hyqAtyI8pbt2kEl6siOQ.png\">"
   ]
  },
  {
   "cell_type": "markdown",
   "metadata": {},
   "source": [
    "# Loss functions\n",
    "\n",
    "<h2>Mean Absolute Error</h2>\n",
    "<img width=600 src=\"https://www.oreilly.com/library/view/deep-learning-quick/9781788837996/assets/15697b3b-001e-4120-a0d1-c4447a4dc47f.png\">\n",
    "\n",
    "<h2>Mean Squared Error</h2>\n",
    "<img src=\"https://cdn-media-1.freecodecamp.org/images/hmZydSW9YegiMVPWq2JBpOpai3CejzQpGkNG\">\n",
    "\n",
    "<h2>Mean Absolute Percentage Error</h2>\n",
    "<img src=\"https://cdn-images-1.medium.com/max/800/0*OcwXJP5jACvXwVr-\">\n",
    "\n",
    "\n",
    "<hr>\n",
    "\n",
    "\n",
    "<table>\n",
    "    <thead>\n",
    "        <th>Loss Function</th>\n",
    "        <th>Operation</th>\n",
    "        <th>Robust Against Outliers</th>\n",
    "    </thead>\n",
    "    <tbody>\n",
    "        <tr>\n",
    "            <td>MAE</td>\n",
    "            <td>Absolute Value</td>\n",
    "            <td>No</td>\n",
    "        </tr>\n",
    "        <tr>\n",
    "            <td>MSE</td>\n",
    "            <td>Square</td>\n",
    "            <td>Yes</td>\n",
    "        </tr>\n",
    "        <tr>\n",
    "            <td>MAPE</td>\n",
    "            <td>Absolute Value</td>\n",
    "            <td>No</td>\n",
    "        </tr>\n",
    "    </tbody>\n",
    "</table>\n",
    "\n"
   ]
  },
  {
   "cell_type": "markdown",
   "metadata": {},
   "source": [
    "<h2>Binary Cross Entropy</h2>\n",
    "<img src=\"https://i.stack.imgur.com/HlYNr.png\">\n",
    "\n",
    "Two Category - penalizes the model when there are big errors\n",
    "\n",
    "\n",
    "<h2>Categorical Cross Entropy</h2>\n",
    "<img width=300 src=\"https://www.machinecurve.com/wp-content/uploads/2019/10/image-6.png\">\n",
    "\n",
    "Multi Category - penalizes the model when there are big errors"
   ]
  },
  {
   "cell_type": "markdown",
   "metadata": {},
   "source": [
    "## Initialization\n",
    "\n",
    "<img src=\"https://intoli.com/blog/neural-network-initialization/img/training-losses.png\">\n",
    "\n",
    "<h3>learning rate can be directly affected by initial conditions</h3>\n",
    "\n",
    "<h3>Xavier Glorot</h3>\n",
    "\n",
    "$$Uniform: [-x, x] \\textrm{ for } x = \\sqrt{\\frac{6}{inputs + outputs}}$$\n",
    "\n",
    "$$Normal: \\textrm{Median = 0 and } \\sigma = \\sqrt{\\frac{2}{inputs + Outputs}}  $$\n",
    "\n",
    "<img src=\"https://davidstutz.de/wordpress/wp-content/uploads/2017/03/xavier_4-300x230.jpg\">"
   ]
  },
  {
   "cell_type": "markdown",
   "metadata": {},
   "source": [
    "## Gradient Descent \n",
    "\n",
    "<img src=\"https://thumbs.gfycat.com/GentleEquatorialDove-size_restricted.gif\">\n",
    "\n",
    "<img src=\"https://hoangtrinhj.com/9831e631fe091e2809185d63a1ec2bc7/gradient-descent.gif\">"
   ]
  },
  {
   "cell_type": "markdown",
   "metadata": {},
   "source": [
    "## Optimizers\n",
    "\n",
    "<img src=\"https://ruder.io/content/images/2016/09/saddle_point_evaluation_optimizers.gif\">\n",
    "\n",
    "\n",
    "<h3>Momentum</h3>\n",
    "$$step(n) = step(n) + \\beta step(n-1) + \\beta^2 step(n-2) \\dots + \\beta^i step(n-i)$$\n",
    "\n",
    "$$Momentum = \\sum_{i=0} ^ {n} \\beta^{i} step(n - i) $$\n",
    "\n",
    "<h3> ADAM </h3>\n",
    "\n",
    "$$w = w - (\\textrm{Momentum and variance combinated})$$"
   ]
  },
  {
   "cell_type": "markdown",
   "metadata": {},
   "source": [
    "## Red Hat Dataset\n",
    "\n"
   ]
  },
  {
   "cell_type": "code",
   "execution_count": 33,
   "metadata": {},
   "outputs": [
    {
     "data": {
      "text/plain": [
       "((189118, 41), (2197291, 15))"
      ]
     },
     "execution_count": 33,
     "metadata": {},
     "output_type": "execute_result"
    }
   ],
   "source": [
    "dfp = pd.read_csv('../Datasets/Week10/people.csv')\n",
    "dfa = pd.read_csv('../Datasets/Week10/act_train.csv')\n",
    "\n",
    "\n",
    "dfp.shape, dfa.shape"
   ]
  },
  {
   "cell_type": "code",
   "execution_count": 34,
   "metadata": {},
   "outputs": [
    {
     "data": {
      "text/plain": [
       "people_id    0\n",
       "char_1       0\n",
       "group_1      0\n",
       "char_2       0\n",
       "date         0\n",
       "char_3       0\n",
       "char_4       0\n",
       "char_5       0\n",
       "char_6       0\n",
       "char_7       0\n",
       "char_8       0\n",
       "char_9       0\n",
       "char_10      0\n",
       "char_11      0\n",
       "char_12      0\n",
       "char_13      0\n",
       "char_14      0\n",
       "char_15      0\n",
       "char_16      0\n",
       "char_17      0\n",
       "char_18      0\n",
       "char_19      0\n",
       "char_20      0\n",
       "char_21      0\n",
       "char_22      0\n",
       "char_23      0\n",
       "char_24      0\n",
       "char_25      0\n",
       "char_26      0\n",
       "char_27      0\n",
       "char_28      0\n",
       "char_29      0\n",
       "char_30      0\n",
       "char_31      0\n",
       "char_32      0\n",
       "char_33      0\n",
       "char_34      0\n",
       "char_35      0\n",
       "char_36      0\n",
       "char_37      0\n",
       "char_38      0\n",
       "dtype: int64"
      ]
     },
     "execution_count": 34,
     "metadata": {},
     "output_type": "execute_result"
    }
   ],
   "source": [
    "dfp.isnull().sum()"
   ]
  },
  {
   "cell_type": "code",
   "execution_count": 35,
   "metadata": {},
   "outputs": [
    {
     "data": {
      "text/plain": [
       "people_id                  0\n",
       "activity_id                0\n",
       "date                       0\n",
       "activity_category          0\n",
       "char_1               2039676\n",
       "char_2               2039676\n",
       "char_3               2039676\n",
       "char_4               2039676\n",
       "char_5               2039676\n",
       "char_6               2039676\n",
       "char_7               2039676\n",
       "char_8               2039676\n",
       "char_9               2039676\n",
       "char_10               157615\n",
       "outcome                    0\n",
       "dtype: int64"
      ]
     },
     "execution_count": 35,
     "metadata": {},
     "output_type": "execute_result"
    }
   ],
   "source": [
    "dfa.isnull().sum()"
   ]
  },
  {
   "cell_type": "code",
   "execution_count": 36,
   "metadata": {},
   "outputs": [
    {
     "data": {
      "text/plain": [
       "Index(['people_id', 'activity_id', 'date', 'activity_category', 'char_1',\n",
       "       'char_2', 'char_3', 'char_4', 'char_5', 'char_6', 'char_7', 'char_8',\n",
       "       'char_9', 'char_10', 'outcome'],\n",
       "      dtype='object')"
      ]
     },
     "execution_count": 36,
     "metadata": {},
     "output_type": "execute_result"
    }
   ],
   "source": [
    "dfa.columns"
   ]
  },
  {
   "cell_type": "code",
   "execution_count": 37,
   "metadata": {},
   "outputs": [],
   "source": [
    "dfa.drop(columns=['char_1','char_2', 'char_3', 'char_4', 'char_5', \n",
    "                  'char_6', 'char_7', 'char_8','char_9'], inplace=True)\n"
   ]
  },
  {
   "cell_type": "code",
   "execution_count": 38,
   "metadata": {},
   "outputs": [
    {
     "data": {
      "text/plain": [
       "people_id                 0\n",
       "activity_id               0\n",
       "date                      0\n",
       "activity_category         0\n",
       "char_10              157615\n",
       "outcome                   0\n",
       "dtype: int64"
      ]
     },
     "execution_count": 38,
     "metadata": {},
     "output_type": "execute_result"
    }
   ],
   "source": [
    "dfa.isnull().sum()"
   ]
  },
  {
   "cell_type": "code",
   "execution_count": null,
   "metadata": {},
   "outputs": [],
   "source": [
    "dfa = dfa.rename(columns={\"date\":\"datetime\", \"char_10\":\"activity_type\"})"
   ]
  },
  {
   "cell_type": "code",
   "execution_count": 40,
   "metadata": {},
   "outputs": [],
   "source": [
    "dfa['activity_type'] = dfa['activity_type'].fillna(dfa['activity_type'].mode()[0])"
   ]
  },
  {
   "cell_type": "code",
   "execution_count": 41,
   "metadata": {},
   "outputs": [
    {
     "data": {
      "text/plain": [
       "people_id            0\n",
       "activity_id          0\n",
       "datetime             0\n",
       "activity_category    0\n",
       "activity_type        0\n",
       "outcome              0\n",
       "dtype: int64"
      ]
     },
     "execution_count": 41,
     "metadata": {},
     "output_type": "execute_result"
    }
   ],
   "source": [
    "dfa.isnull().sum()"
   ]
  },
  {
   "cell_type": "code",
   "execution_count": 42,
   "metadata": {},
   "outputs": [
    {
     "data": {
      "text/plain": [
       "((2197291, 6), (2197291, 46))"
      ]
     },
     "execution_count": 42,
     "metadata": {},
     "output_type": "execute_result"
    }
   ],
   "source": [
    "merged = dfa.merge(dfp, on=['people_id'], how=\"inner\")\n",
    "dfa.shape, merged.shape"
   ]
  },
  {
   "cell_type": "code",
   "execution_count": 43,
   "metadata": {},
   "outputs": [
    {
     "name": "stdout",
     "output_type": "stream",
     "text": [
      "types 0\n",
      "bool      28\n",
      "int64      2\n",
      "object    16\n",
      "dtype: int64\n"
     ]
    }
   ],
   "source": [
    "types = pd.DataFrame(merged.dtypes)\n",
    "print(\"types\", types.groupby(0).size())"
   ]
  },
  {
   "cell_type": "code",
   "execution_count": 44,
   "metadata": {},
   "outputs": [
    {
     "data": {
      "text/plain": [
       "0\n",
       "int64     30\n",
       "object    16\n",
       "dtype: int64"
      ]
     },
     "execution_count": 44,
     "metadata": {},
     "output_type": "execute_result"
    }
   ],
   "source": [
    "merged = merged.replace({False:0, True:1})\n",
    "types = pd.DataFrame(merged.dtypes)\n",
    "types.groupby(0).size()"
   ]
  },
  {
   "cell_type": "code",
   "execution_count": 45,
   "metadata": {},
   "outputs": [
    {
     "data": {
      "text/html": [
       "<div>\n",
       "<style scoped>\n",
       "    .dataframe tbody tr th:only-of-type {\n",
       "        vertical-align: middle;\n",
       "    }\n",
       "\n",
       "    .dataframe tbody tr th {\n",
       "        vertical-align: top;\n",
       "    }\n",
       "\n",
       "    .dataframe thead th {\n",
       "        text-align: right;\n",
       "    }\n",
       "</style>\n",
       "<table border=\"1\" class=\"dataframe\">\n",
       "  <thead>\n",
       "    <tr style=\"text-align: right;\">\n",
       "      <th></th>\n",
       "      <th>people_id</th>\n",
       "      <th>activity_id</th>\n",
       "      <th>datetime</th>\n",
       "      <th>activity_category</th>\n",
       "      <th>activity_type</th>\n",
       "      <th>outcome</th>\n",
       "      <th>char_1</th>\n",
       "      <th>group_1</th>\n",
       "      <th>char_2</th>\n",
       "      <th>date</th>\n",
       "      <th>...</th>\n",
       "      <th>char_29</th>\n",
       "      <th>char_30</th>\n",
       "      <th>char_31</th>\n",
       "      <th>char_32</th>\n",
       "      <th>char_33</th>\n",
       "      <th>char_34</th>\n",
       "      <th>char_35</th>\n",
       "      <th>char_36</th>\n",
       "      <th>char_37</th>\n",
       "      <th>char_38</th>\n",
       "    </tr>\n",
       "  </thead>\n",
       "  <tbody>\n",
       "    <tr>\n",
       "      <td>0</td>\n",
       "      <td>100</td>\n",
       "      <td>act2_1734928</td>\n",
       "      <td>2023-08-26</td>\n",
       "      <td>type 4</td>\n",
       "      <td>type 76</td>\n",
       "      <td>0</td>\n",
       "      <td>type 2</td>\n",
       "      <td>group 17304</td>\n",
       "      <td>type 2</td>\n",
       "      <td>2021-06-29</td>\n",
       "      <td>...</td>\n",
       "      <td>0</td>\n",
       "      <td>1</td>\n",
       "      <td>1</td>\n",
       "      <td>0</td>\n",
       "      <td>0</td>\n",
       "      <td>1</td>\n",
       "      <td>1</td>\n",
       "      <td>1</td>\n",
       "      <td>0</td>\n",
       "      <td>36</td>\n",
       "    </tr>\n",
       "    <tr>\n",
       "      <td>1</td>\n",
       "      <td>100</td>\n",
       "      <td>act2_2434093</td>\n",
       "      <td>2022-09-27</td>\n",
       "      <td>type 2</td>\n",
       "      <td>type 1</td>\n",
       "      <td>0</td>\n",
       "      <td>type 2</td>\n",
       "      <td>group 17304</td>\n",
       "      <td>type 2</td>\n",
       "      <td>2021-06-29</td>\n",
       "      <td>...</td>\n",
       "      <td>0</td>\n",
       "      <td>1</td>\n",
       "      <td>1</td>\n",
       "      <td>0</td>\n",
       "      <td>0</td>\n",
       "      <td>1</td>\n",
       "      <td>1</td>\n",
       "      <td>1</td>\n",
       "      <td>0</td>\n",
       "      <td>36</td>\n",
       "    </tr>\n",
       "    <tr>\n",
       "      <td>2</td>\n",
       "      <td>100</td>\n",
       "      <td>act2_3404049</td>\n",
       "      <td>2022-09-27</td>\n",
       "      <td>type 2</td>\n",
       "      <td>type 1</td>\n",
       "      <td>0</td>\n",
       "      <td>type 2</td>\n",
       "      <td>group 17304</td>\n",
       "      <td>type 2</td>\n",
       "      <td>2021-06-29</td>\n",
       "      <td>...</td>\n",
       "      <td>0</td>\n",
       "      <td>1</td>\n",
       "      <td>1</td>\n",
       "      <td>0</td>\n",
       "      <td>0</td>\n",
       "      <td>1</td>\n",
       "      <td>1</td>\n",
       "      <td>1</td>\n",
       "      <td>0</td>\n",
       "      <td>36</td>\n",
       "    </tr>\n",
       "    <tr>\n",
       "      <td>3</td>\n",
       "      <td>100</td>\n",
       "      <td>act2_3651215</td>\n",
       "      <td>2023-08-04</td>\n",
       "      <td>type 2</td>\n",
       "      <td>type 1</td>\n",
       "      <td>0</td>\n",
       "      <td>type 2</td>\n",
       "      <td>group 17304</td>\n",
       "      <td>type 2</td>\n",
       "      <td>2021-06-29</td>\n",
       "      <td>...</td>\n",
       "      <td>0</td>\n",
       "      <td>1</td>\n",
       "      <td>1</td>\n",
       "      <td>0</td>\n",
       "      <td>0</td>\n",
       "      <td>1</td>\n",
       "      <td>1</td>\n",
       "      <td>1</td>\n",
       "      <td>0</td>\n",
       "      <td>36</td>\n",
       "    </tr>\n",
       "    <tr>\n",
       "      <td>4</td>\n",
       "      <td>100</td>\n",
       "      <td>act2_4109017</td>\n",
       "      <td>2023-08-26</td>\n",
       "      <td>type 2</td>\n",
       "      <td>type 1</td>\n",
       "      <td>0</td>\n",
       "      <td>type 2</td>\n",
       "      <td>group 17304</td>\n",
       "      <td>type 2</td>\n",
       "      <td>2021-06-29</td>\n",
       "      <td>...</td>\n",
       "      <td>0</td>\n",
       "      <td>1</td>\n",
       "      <td>1</td>\n",
       "      <td>0</td>\n",
       "      <td>0</td>\n",
       "      <td>1</td>\n",
       "      <td>1</td>\n",
       "      <td>1</td>\n",
       "      <td>0</td>\n",
       "      <td>36</td>\n",
       "    </tr>\n",
       "  </tbody>\n",
       "</table>\n",
       "<p>5 rows × 46 columns</p>\n",
       "</div>"
      ],
      "text/plain": [
       "   people_id   activity_id    datetime activity_category activity_type  \\\n",
       "0        100  act2_1734928  2023-08-26            type 4       type 76   \n",
       "1        100  act2_2434093  2022-09-27            type 2        type 1   \n",
       "2        100  act2_3404049  2022-09-27            type 2        type 1   \n",
       "3        100  act2_3651215  2023-08-04            type 2        type 1   \n",
       "4        100  act2_4109017  2023-08-26            type 2        type 1   \n",
       "\n",
       "   outcome  char_1      group_1  char_2        date  ... char_29 char_30  \\\n",
       "0        0  type 2  group 17304  type 2  2021-06-29  ...       0       1   \n",
       "1        0  type 2  group 17304  type 2  2021-06-29  ...       0       1   \n",
       "2        0  type 2  group 17304  type 2  2021-06-29  ...       0       1   \n",
       "3        0  type 2  group 17304  type 2  2021-06-29  ...       0       1   \n",
       "4        0  type 2  group 17304  type 2  2021-06-29  ...       0       1   \n",
       "\n",
       "  char_31 char_32 char_33 char_34 char_35  char_36  char_37  char_38  \n",
       "0       1       0       0       1       1        1        0       36  \n",
       "1       1       0       0       1       1        1        0       36  \n",
       "2       1       0       0       1       1        1        0       36  \n",
       "3       1       0       0       1       1        1        0       36  \n",
       "4       1       0       0       1       1        1        0       36  \n",
       "\n",
       "[5 rows x 46 columns]"
      ]
     },
     "execution_count": 45,
     "metadata": {},
     "output_type": "execute_result"
    }
   ],
   "source": [
    "merged.people_id = merged.people_id.str.slice(start=4).astype(float).astype('int64')\n",
    "merged.head()"
   ]
  },
  {
   "cell_type": "code",
   "execution_count": 46,
   "metadata": {},
   "outputs": [
    {
     "data": {
      "text/plain": [
       "Index(['people_id', 'activity_id', 'datetime', 'activity_category',\n",
       "       'activity_type', 'outcome', 'char_1', 'group_1', 'char_2', 'date',\n",
       "       'char_3', 'char_4', 'char_5', 'char_6', 'char_7', 'char_8', 'char_9',\n",
       "       'char_10', 'char_11', 'char_12', 'char_13', 'char_14', 'char_15',\n",
       "       'char_16', 'char_17', 'char_18', 'char_19', 'char_20', 'char_21',\n",
       "       'char_22', 'char_23', 'char_24', 'char_25', 'char_26', 'char_27',\n",
       "       'char_28', 'char_29', 'char_30', 'char_31', 'char_32', 'char_33',\n",
       "       'char_34', 'char_35', 'char_36', 'char_37', 'char_38'],\n",
       "      dtype='object')"
      ]
     },
     "execution_count": 46,
     "metadata": {},
     "output_type": "execute_result"
    }
   ],
   "source": [
    "merged.columns"
   ]
  },
  {
   "cell_type": "code",
   "execution_count": 47,
   "metadata": {},
   "outputs": [
    {
     "data": {
      "text/html": [
       "<div>\n",
       "<style scoped>\n",
       "    .dataframe tbody tr th:only-of-type {\n",
       "        vertical-align: middle;\n",
       "    }\n",
       "\n",
       "    .dataframe tbody tr th {\n",
       "        vertical-align: top;\n",
       "    }\n",
       "\n",
       "    .dataframe thead th {\n",
       "        text-align: right;\n",
       "    }\n",
       "</style>\n",
       "<table border=\"1\" class=\"dataframe\">\n",
       "  <thead>\n",
       "    <tr style=\"text-align: right;\">\n",
       "      <th></th>\n",
       "      <th>people_id</th>\n",
       "      <th>activity_id</th>\n",
       "      <th>datetime</th>\n",
       "      <th>activity_category</th>\n",
       "      <th>activity_type</th>\n",
       "      <th>outcome</th>\n",
       "      <th>char_1</th>\n",
       "      <th>group_1</th>\n",
       "      <th>char_2</th>\n",
       "      <th>date</th>\n",
       "      <th>...</th>\n",
       "      <th>char_29</th>\n",
       "      <th>char_30</th>\n",
       "      <th>char_31</th>\n",
       "      <th>char_32</th>\n",
       "      <th>char_33</th>\n",
       "      <th>char_34</th>\n",
       "      <th>char_35</th>\n",
       "      <th>char_36</th>\n",
       "      <th>char_37</th>\n",
       "      <th>char_38</th>\n",
       "    </tr>\n",
       "  </thead>\n",
       "  <tbody>\n",
       "    <tr>\n",
       "      <td>0</td>\n",
       "      <td>100</td>\n",
       "      <td>1734928</td>\n",
       "      <td>2023-08-26</td>\n",
       "      <td>4</td>\n",
       "      <td>76</td>\n",
       "      <td>0</td>\n",
       "      <td>type 2</td>\n",
       "      <td>17304</td>\n",
       "      <td>type 2</td>\n",
       "      <td>2021-06-29</td>\n",
       "      <td>...</td>\n",
       "      <td>0</td>\n",
       "      <td>1</td>\n",
       "      <td>1</td>\n",
       "      <td>0</td>\n",
       "      <td>0</td>\n",
       "      <td>1</td>\n",
       "      <td>1</td>\n",
       "      <td>1</td>\n",
       "      <td>0</td>\n",
       "      <td>36</td>\n",
       "    </tr>\n",
       "    <tr>\n",
       "      <td>1</td>\n",
       "      <td>100</td>\n",
       "      <td>2434093</td>\n",
       "      <td>2022-09-27</td>\n",
       "      <td>2</td>\n",
       "      <td>1</td>\n",
       "      <td>0</td>\n",
       "      <td>type 2</td>\n",
       "      <td>17304</td>\n",
       "      <td>type 2</td>\n",
       "      <td>2021-06-29</td>\n",
       "      <td>...</td>\n",
       "      <td>0</td>\n",
       "      <td>1</td>\n",
       "      <td>1</td>\n",
       "      <td>0</td>\n",
       "      <td>0</td>\n",
       "      <td>1</td>\n",
       "      <td>1</td>\n",
       "      <td>1</td>\n",
       "      <td>0</td>\n",
       "      <td>36</td>\n",
       "    </tr>\n",
       "    <tr>\n",
       "      <td>2</td>\n",
       "      <td>100</td>\n",
       "      <td>3404049</td>\n",
       "      <td>2022-09-27</td>\n",
       "      <td>2</td>\n",
       "      <td>1</td>\n",
       "      <td>0</td>\n",
       "      <td>type 2</td>\n",
       "      <td>17304</td>\n",
       "      <td>type 2</td>\n",
       "      <td>2021-06-29</td>\n",
       "      <td>...</td>\n",
       "      <td>0</td>\n",
       "      <td>1</td>\n",
       "      <td>1</td>\n",
       "      <td>0</td>\n",
       "      <td>0</td>\n",
       "      <td>1</td>\n",
       "      <td>1</td>\n",
       "      <td>1</td>\n",
       "      <td>0</td>\n",
       "      <td>36</td>\n",
       "    </tr>\n",
       "    <tr>\n",
       "      <td>3</td>\n",
       "      <td>100</td>\n",
       "      <td>3651215</td>\n",
       "      <td>2023-08-04</td>\n",
       "      <td>2</td>\n",
       "      <td>1</td>\n",
       "      <td>0</td>\n",
       "      <td>type 2</td>\n",
       "      <td>17304</td>\n",
       "      <td>type 2</td>\n",
       "      <td>2021-06-29</td>\n",
       "      <td>...</td>\n",
       "      <td>0</td>\n",
       "      <td>1</td>\n",
       "      <td>1</td>\n",
       "      <td>0</td>\n",
       "      <td>0</td>\n",
       "      <td>1</td>\n",
       "      <td>1</td>\n",
       "      <td>1</td>\n",
       "      <td>0</td>\n",
       "      <td>36</td>\n",
       "    </tr>\n",
       "    <tr>\n",
       "      <td>4</td>\n",
       "      <td>100</td>\n",
       "      <td>4109017</td>\n",
       "      <td>2023-08-26</td>\n",
       "      <td>2</td>\n",
       "      <td>1</td>\n",
       "      <td>0</td>\n",
       "      <td>type 2</td>\n",
       "      <td>17304</td>\n",
       "      <td>type 2</td>\n",
       "      <td>2021-06-29</td>\n",
       "      <td>...</td>\n",
       "      <td>0</td>\n",
       "      <td>1</td>\n",
       "      <td>1</td>\n",
       "      <td>0</td>\n",
       "      <td>0</td>\n",
       "      <td>1</td>\n",
       "      <td>1</td>\n",
       "      <td>1</td>\n",
       "      <td>0</td>\n",
       "      <td>36</td>\n",
       "    </tr>\n",
       "  </tbody>\n",
       "</table>\n",
       "<p>5 rows × 46 columns</p>\n",
       "</div>"
      ],
      "text/plain": [
       "   people_id  activity_id    datetime  activity_category  activity_type  \\\n",
       "0        100      1734928  2023-08-26                  4             76   \n",
       "1        100      2434093  2022-09-27                  2              1   \n",
       "2        100      3404049  2022-09-27                  2              1   \n",
       "3        100      3651215  2023-08-04                  2              1   \n",
       "4        100      4109017  2023-08-26                  2              1   \n",
       "\n",
       "   outcome  char_1  group_1  char_2        date  ... char_29 char_30 char_31  \\\n",
       "0        0  type 2    17304  type 2  2021-06-29  ...       0       1       1   \n",
       "1        0  type 2    17304  type 2  2021-06-29  ...       0       1       1   \n",
       "2        0  type 2    17304  type 2  2021-06-29  ...       0       1       1   \n",
       "3        0  type 2    17304  type 2  2021-06-29  ...       0       1       1   \n",
       "4        0  type 2    17304  type 2  2021-06-29  ...       0       1       1   \n",
       "\n",
       "  char_32 char_33 char_34 char_35  char_36  char_37  char_38  \n",
       "0       0       0       1       1        1        0       36  \n",
       "1       0       0       1       1        1        0       36  \n",
       "2       0       0       1       1        1        0       36  \n",
       "3       0       0       1       1        1        0       36  \n",
       "4       0       0       1       1        1        0       36  \n",
       "\n",
       "[5 rows x 46 columns]"
      ]
     },
     "execution_count": 47,
     "metadata": {},
     "output_type": "execute_result"
    }
   ],
   "source": [
    "merged.activity_id = merged.activity_id.str.slice(start=5).astype(float).astype('int64')\n",
    "merged.activity_category = merged.activity_category.str.slice(start=5).astype(float).astype('int64')\n",
    "merged.group_1 = merged.group_1.str.slice(start=6).astype(float).astype('int64')\n",
    "merged.activity_type = merged.activity_type.str.slice(start=5).astype(float).astype('int64')\n",
    "merged.head()"
   ]
  },
  {
   "cell_type": "code",
   "execution_count": 48,
   "metadata": {},
   "outputs": [
    {
     "data": {
      "text/plain": [
       "0\n",
       "int64     35\n",
       "object    11\n",
       "dtype: int64"
      ]
     },
     "execution_count": 48,
     "metadata": {},
     "output_type": "execute_result"
    }
   ],
   "source": [
    "types = pd.DataFrame(merged.dtypes)\n",
    "types.groupby(0).size()"
   ]
  },
  {
   "cell_type": "code",
   "execution_count": 49,
   "metadata": {},
   "outputs": [],
   "source": [
    "merged.datetime = pd.to_datetime(merged['datetime'])\n",
    "merged['day'] = merged['datetime'].dt.day\n",
    "merged['weekday'] = merged['datetime'].dt.weekday\n",
    "merged['week'] = merged['datetime'].dt.week\n",
    "merged['month'] = merged['datetime'].dt.month\n",
    "merged['quarter'] = merged['datetime'].dt.quarter\n",
    "merged['year'] = merged['datetime'].dt.year"
   ]
  },
  {
   "cell_type": "code",
   "execution_count": 50,
   "metadata": {},
   "outputs": [
    {
     "data": {
      "text/plain": [
       "Index(['people_id', 'activity_id', 'datetime', 'activity_category',\n",
       "       'activity_type', 'outcome', 'char_1', 'group_1', 'char_2', 'date',\n",
       "       'char_3', 'char_4', 'char_5', 'char_6', 'char_7', 'char_8', 'char_9',\n",
       "       'char_10', 'char_11', 'char_12', 'char_13', 'char_14', 'char_15',\n",
       "       'char_16', 'char_17', 'char_18', 'char_19', 'char_20', 'char_21',\n",
       "       'char_22', 'char_23', 'char_24', 'char_25', 'char_26', 'char_27',\n",
       "       'char_28', 'char_29', 'char_30', 'char_31', 'char_32', 'char_33',\n",
       "       'char_34', 'char_35', 'char_36', 'char_37', 'char_38', 'day', 'weekday',\n",
       "       'week', 'month', 'quarter', 'year'],\n",
       "      dtype='object')"
      ]
     },
     "execution_count": 50,
     "metadata": {},
     "output_type": "execute_result"
    }
   ],
   "source": [
    "merged.columns"
   ]
  },
  {
   "cell_type": "code",
   "execution_count": 51,
   "metadata": {},
   "outputs": [],
   "source": [
    "del(merged['datetime'])\n",
    "del(merged['date'])"
   ]
  },
  {
   "cell_type": "code",
   "execution_count": 52,
   "metadata": {},
   "outputs": [
    {
     "data": {
      "text/plain": [
       "0\n",
       "int64     41\n",
       "object     9\n",
       "dtype: int64"
      ]
     },
     "execution_count": 52,
     "metadata": {},
     "output_type": "execute_result"
    }
   ],
   "source": [
    "types = pd.DataFrame(merged.dtypes)\n",
    "types.groupby(0).size()"
   ]
  },
  {
   "cell_type": "code",
   "execution_count": 53,
   "metadata": {},
   "outputs": [
    {
     "data": {
      "text/plain": [
       "array([[2],\n",
       "       [2],\n",
       "       [2],\n",
       "       [2],\n",
       "       [2],\n",
       "       [2],\n",
       "       [2],\n",
       "       [2],\n",
       "       [1],\n",
       "       [1]])"
      ]
     },
     "execution_count": 53,
     "metadata": {},
     "output_type": "execute_result"
    }
   ],
   "source": [
    "from sklearn.preprocessing import LabelEncoder, OneHotEncoder\n",
    "\n",
    "column='char_6'\n",
    "le = LabelEncoder()\n",
    "le_adjust = le.fit_transform(merged[column]).reshape(-1,1)\n",
    "le_adjust[:10]"
   ]
  },
  {
   "cell_type": "code",
   "execution_count": 54,
   "metadata": {},
   "outputs": [
    {
     "data": {
      "text/plain": [
       "['char_6_type 1',\n",
       " 'char_6_type 2',\n",
       " 'char_6_type 3',\n",
       " 'char_6_type 4',\n",
       " 'char_6_type 5',\n",
       " 'char_6_type 6',\n",
       " 'char_6_type 7']"
      ]
     },
     "execution_count": 54,
     "metadata": {},
     "output_type": "execute_result"
    }
   ],
   "source": [
    "encoder = OneHotEncoder(sparse=False)\n",
    "column = [column+ \"_\"+ str(i) for i in le.classes_]\n",
    "column"
   ]
  },
  {
   "cell_type": "code",
   "execution_count": 55,
   "metadata": {},
   "outputs": [
    {
     "name": "stderr",
     "output_type": "stream",
     "text": [
      "C:\\Users\\TheGlitchCat\\Anaconda3\\lib\\site-packages\\sklearn\\preprocessing\\_encoders.py:415: FutureWarning: The handling of integer data will change in version 0.22. Currently, the categories are determined based on the range [0, max(values)], while in the future they will be determined based on the unique values.\n",
      "If you want the future behaviour and silence this warning, you can specify \"categories='auto'\".\n",
      "In case you used a LabelEncoder before this OneHotEncoder to convert the categories to integers, then you can now use the OneHotEncoder directly.\n",
      "  warnings.warn(msg, FutureWarning)\n"
     ]
    },
    {
     "data": {
      "text/html": [
       "<div>\n",
       "<style scoped>\n",
       "    .dataframe tbody tr th:only-of-type {\n",
       "        vertical-align: middle;\n",
       "    }\n",
       "\n",
       "    .dataframe tbody tr th {\n",
       "        vertical-align: top;\n",
       "    }\n",
       "\n",
       "    .dataframe thead th {\n",
       "        text-align: right;\n",
       "    }\n",
       "</style>\n",
       "<table border=\"1\" class=\"dataframe\">\n",
       "  <thead>\n",
       "    <tr style=\"text-align: right;\">\n",
       "      <th></th>\n",
       "      <th>char_6_type 1</th>\n",
       "      <th>char_6_type 2</th>\n",
       "      <th>char_6_type 3</th>\n",
       "      <th>char_6_type 4</th>\n",
       "      <th>char_6_type 5</th>\n",
       "      <th>char_6_type 6</th>\n",
       "      <th>char_6_type 7</th>\n",
       "    </tr>\n",
       "  </thead>\n",
       "  <tbody>\n",
       "    <tr>\n",
       "      <td>0</td>\n",
       "      <td>0.0</td>\n",
       "      <td>0.0</td>\n",
       "      <td>1.0</td>\n",
       "      <td>0.0</td>\n",
       "      <td>0.0</td>\n",
       "      <td>0.0</td>\n",
       "      <td>0.0</td>\n",
       "    </tr>\n",
       "    <tr>\n",
       "      <td>1</td>\n",
       "      <td>0.0</td>\n",
       "      <td>0.0</td>\n",
       "      <td>1.0</td>\n",
       "      <td>0.0</td>\n",
       "      <td>0.0</td>\n",
       "      <td>0.0</td>\n",
       "      <td>0.0</td>\n",
       "    </tr>\n",
       "    <tr>\n",
       "      <td>2</td>\n",
       "      <td>0.0</td>\n",
       "      <td>0.0</td>\n",
       "      <td>1.0</td>\n",
       "      <td>0.0</td>\n",
       "      <td>0.0</td>\n",
       "      <td>0.0</td>\n",
       "      <td>0.0</td>\n",
       "    </tr>\n",
       "    <tr>\n",
       "      <td>3</td>\n",
       "      <td>0.0</td>\n",
       "      <td>0.0</td>\n",
       "      <td>1.0</td>\n",
       "      <td>0.0</td>\n",
       "      <td>0.0</td>\n",
       "      <td>0.0</td>\n",
       "      <td>0.0</td>\n",
       "    </tr>\n",
       "    <tr>\n",
       "      <td>4</td>\n",
       "      <td>0.0</td>\n",
       "      <td>0.0</td>\n",
       "      <td>1.0</td>\n",
       "      <td>0.0</td>\n",
       "      <td>0.0</td>\n",
       "      <td>0.0</td>\n",
       "      <td>0.0</td>\n",
       "    </tr>\n",
       "    <tr>\n",
       "      <td>5</td>\n",
       "      <td>0.0</td>\n",
       "      <td>0.0</td>\n",
       "      <td>1.0</td>\n",
       "      <td>0.0</td>\n",
       "      <td>0.0</td>\n",
       "      <td>0.0</td>\n",
       "      <td>0.0</td>\n",
       "    </tr>\n",
       "    <tr>\n",
       "      <td>6</td>\n",
       "      <td>0.0</td>\n",
       "      <td>0.0</td>\n",
       "      <td>1.0</td>\n",
       "      <td>0.0</td>\n",
       "      <td>0.0</td>\n",
       "      <td>0.0</td>\n",
       "      <td>0.0</td>\n",
       "    </tr>\n",
       "    <tr>\n",
       "      <td>7</td>\n",
       "      <td>0.0</td>\n",
       "      <td>0.0</td>\n",
       "      <td>1.0</td>\n",
       "      <td>0.0</td>\n",
       "      <td>0.0</td>\n",
       "      <td>0.0</td>\n",
       "      <td>0.0</td>\n",
       "    </tr>\n",
       "    <tr>\n",
       "      <td>8</td>\n",
       "      <td>0.0</td>\n",
       "      <td>1.0</td>\n",
       "      <td>0.0</td>\n",
       "      <td>0.0</td>\n",
       "      <td>0.0</td>\n",
       "      <td>0.0</td>\n",
       "      <td>0.0</td>\n",
       "    </tr>\n",
       "    <tr>\n",
       "      <td>9</td>\n",
       "      <td>0.0</td>\n",
       "      <td>1.0</td>\n",
       "      <td>0.0</td>\n",
       "      <td>0.0</td>\n",
       "      <td>0.0</td>\n",
       "      <td>0.0</td>\n",
       "      <td>0.0</td>\n",
       "    </tr>\n",
       "  </tbody>\n",
       "</table>\n",
       "</div>"
      ],
      "text/plain": [
       "   char_6_type 1  char_6_type 2  char_6_type 3  char_6_type 4  char_6_type 5  \\\n",
       "0            0.0            0.0            1.0            0.0            0.0   \n",
       "1            0.0            0.0            1.0            0.0            0.0   \n",
       "2            0.0            0.0            1.0            0.0            0.0   \n",
       "3            0.0            0.0            1.0            0.0            0.0   \n",
       "4            0.0            0.0            1.0            0.0            0.0   \n",
       "5            0.0            0.0            1.0            0.0            0.0   \n",
       "6            0.0            0.0            1.0            0.0            0.0   \n",
       "7            0.0            0.0            1.0            0.0            0.0   \n",
       "8            0.0            1.0            0.0            0.0            0.0   \n",
       "9            0.0            1.0            0.0            0.0            0.0   \n",
       "\n",
       "   char_6_type 6  char_6_type 7  \n",
       "0            0.0            0.0  \n",
       "1            0.0            0.0  \n",
       "2            0.0            0.0  \n",
       "3            0.0            0.0  \n",
       "4            0.0            0.0  \n",
       "5            0.0            0.0  \n",
       "6            0.0            0.0  \n",
       "7            0.0            0.0  \n",
       "8            0.0            0.0  \n",
       "9            0.0            0.0  "
      ]
     },
     "execution_count": 55,
     "metadata": {},
     "output_type": "execute_result"
    }
   ],
   "source": [
    "pd.DataFrame(encoder.fit_transform(le_adjust),columns=column).head(10)"
   ]
  },
  {
   "cell_type": "code",
   "execution_count": 56,
   "metadata": {},
   "outputs": [],
   "source": [
    "def crea_OneHotEncoding(df, column):\n",
    "    le = LabelEncoder()\n",
    "    le_adjust=le.fit_transform(df[column]).reshape(-1,1)\n",
    "    encoder = OneHotEncoder(sparse=False)\n",
    "    column = [column+ \"_\"+ str(i) for i in le.classes_]\n",
    "    data = encoder.fit_transform(le_adjust)\n",
    "    return(pd.DataFrame(data,columns=column))"
   ]
  },
  {
   "cell_type": "code",
   "execution_count": 57,
   "metadata": {},
   "outputs": [
    {
     "name": "stderr",
     "output_type": "stream",
     "text": [
      "C:\\Users\\TheGlitchCat\\Anaconda3\\lib\\site-packages\\sklearn\\preprocessing\\_encoders.py:415: FutureWarning: The handling of integer data will change in version 0.22. Currently, the categories are determined based on the range [0, max(values)], while in the future they will be determined based on the unique values.\n",
      "If you want the future behaviour and silence this warning, you can specify \"categories='auto'\".\n",
      "In case you used a LabelEncoder before this OneHotEncoder to convert the categories to integers, then you can now use the OneHotEncoder directly.\n",
      "  warnings.warn(msg, FutureWarning)\n"
     ]
    },
    {
     "name": "stdout",
     "output_type": "stream",
     "text": [
      "Column  char_1  transform\n"
     ]
    },
    {
     "name": "stderr",
     "output_type": "stream",
     "text": [
      "C:\\Users\\TheGlitchCat\\Anaconda3\\lib\\site-packages\\sklearn\\preprocessing\\_encoders.py:415: FutureWarning: The handling of integer data will change in version 0.22. Currently, the categories are determined based on the range [0, max(values)], while in the future they will be determined based on the unique values.\n",
      "If you want the future behaviour and silence this warning, you can specify \"categories='auto'\".\n",
      "In case you used a LabelEncoder before this OneHotEncoder to convert the categories to integers, then you can now use the OneHotEncoder directly.\n",
      "  warnings.warn(msg, FutureWarning)\n"
     ]
    },
    {
     "name": "stdout",
     "output_type": "stream",
     "text": [
      "Column  char_2  transform\n"
     ]
    },
    {
     "name": "stderr",
     "output_type": "stream",
     "text": [
      "C:\\Users\\TheGlitchCat\\Anaconda3\\lib\\site-packages\\sklearn\\preprocessing\\_encoders.py:415: FutureWarning: The handling of integer data will change in version 0.22. Currently, the categories are determined based on the range [0, max(values)], while in the future they will be determined based on the unique values.\n",
      "If you want the future behaviour and silence this warning, you can specify \"categories='auto'\".\n",
      "In case you used a LabelEncoder before this OneHotEncoder to convert the categories to integers, then you can now use the OneHotEncoder directly.\n",
      "  warnings.warn(msg, FutureWarning)\n"
     ]
    },
    {
     "name": "stdout",
     "output_type": "stream",
     "text": [
      "Column  char_3  transform\n"
     ]
    },
    {
     "name": "stderr",
     "output_type": "stream",
     "text": [
      "C:\\Users\\TheGlitchCat\\Anaconda3\\lib\\site-packages\\sklearn\\preprocessing\\_encoders.py:415: FutureWarning: The handling of integer data will change in version 0.22. Currently, the categories are determined based on the range [0, max(values)], while in the future they will be determined based on the unique values.\n",
      "If you want the future behaviour and silence this warning, you can specify \"categories='auto'\".\n",
      "In case you used a LabelEncoder before this OneHotEncoder to convert the categories to integers, then you can now use the OneHotEncoder directly.\n",
      "  warnings.warn(msg, FutureWarning)\n"
     ]
    },
    {
     "name": "stdout",
     "output_type": "stream",
     "text": [
      "Column  char_4  transform\n"
     ]
    },
    {
     "name": "stderr",
     "output_type": "stream",
     "text": [
      "C:\\Users\\TheGlitchCat\\Anaconda3\\lib\\site-packages\\sklearn\\preprocessing\\_encoders.py:415: FutureWarning: The handling of integer data will change in version 0.22. Currently, the categories are determined based on the range [0, max(values)], while in the future they will be determined based on the unique values.\n",
      "If you want the future behaviour and silence this warning, you can specify \"categories='auto'\".\n",
      "In case you used a LabelEncoder before this OneHotEncoder to convert the categories to integers, then you can now use the OneHotEncoder directly.\n",
      "  warnings.warn(msg, FutureWarning)\n"
     ]
    },
    {
     "name": "stdout",
     "output_type": "stream",
     "text": [
      "Column  char_5  transform\n"
     ]
    },
    {
     "name": "stderr",
     "output_type": "stream",
     "text": [
      "C:\\Users\\TheGlitchCat\\Anaconda3\\lib\\site-packages\\sklearn\\preprocessing\\_encoders.py:415: FutureWarning: The handling of integer data will change in version 0.22. Currently, the categories are determined based on the range [0, max(values)], while in the future they will be determined based on the unique values.\n",
      "If you want the future behaviour and silence this warning, you can specify \"categories='auto'\".\n",
      "In case you used a LabelEncoder before this OneHotEncoder to convert the categories to integers, then you can now use the OneHotEncoder directly.\n",
      "  warnings.warn(msg, FutureWarning)\n"
     ]
    },
    {
     "name": "stdout",
     "output_type": "stream",
     "text": [
      "Column  char_6  transform\n"
     ]
    },
    {
     "name": "stderr",
     "output_type": "stream",
     "text": [
      "C:\\Users\\TheGlitchCat\\Anaconda3\\lib\\site-packages\\sklearn\\preprocessing\\_encoders.py:415: FutureWarning: The handling of integer data will change in version 0.22. Currently, the categories are determined based on the range [0, max(values)], while in the future they will be determined based on the unique values.\n",
      "If you want the future behaviour and silence this warning, you can specify \"categories='auto'\".\n",
      "In case you used a LabelEncoder before this OneHotEncoder to convert the categories to integers, then you can now use the OneHotEncoder directly.\n",
      "  warnings.warn(msg, FutureWarning)\n"
     ]
    },
    {
     "name": "stdout",
     "output_type": "stream",
     "text": [
      "Column  char_7  transform\n"
     ]
    },
    {
     "name": "stderr",
     "output_type": "stream",
     "text": [
      "C:\\Users\\TheGlitchCat\\Anaconda3\\lib\\site-packages\\sklearn\\preprocessing\\_encoders.py:415: FutureWarning: The handling of integer data will change in version 0.22. Currently, the categories are determined based on the range [0, max(values)], while in the future they will be determined based on the unique values.\n",
      "If you want the future behaviour and silence this warning, you can specify \"categories='auto'\".\n",
      "In case you used a LabelEncoder before this OneHotEncoder to convert the categories to integers, then you can now use the OneHotEncoder directly.\n",
      "  warnings.warn(msg, FutureWarning)\n"
     ]
    },
    {
     "name": "stdout",
     "output_type": "stream",
     "text": [
      "Column  char_8  transform\n"
     ]
    },
    {
     "name": "stderr",
     "output_type": "stream",
     "text": [
      "C:\\Users\\TheGlitchCat\\Anaconda3\\lib\\site-packages\\sklearn\\preprocessing\\_encoders.py:415: FutureWarning: The handling of integer data will change in version 0.22. Currently, the categories are determined based on the range [0, max(values)], while in the future they will be determined based on the unique values.\n",
      "If you want the future behaviour and silence this warning, you can specify \"categories='auto'\".\n",
      "In case you used a LabelEncoder before this OneHotEncoder to convert the categories to integers, then you can now use the OneHotEncoder directly.\n",
      "  warnings.warn(msg, FutureWarning)\n"
     ]
    },
    {
     "name": "stdout",
     "output_type": "stream",
     "text": [
      "Column  char_9  transform\n",
      "final size dataset: (2197291, 171)\n"
     ]
    }
   ],
   "source": [
    "numeric_columns = list(set(types.index[types[0] ==\"int64\"].values) - set([\"outcome\"]))\n",
    "vc = merged[numeric_columns]\n",
    "outcome = merged[\"outcome\"]\n",
    "\n",
    "category = types.index[types[0] == 'O'].values\n",
    "for column in category:\n",
    "    df = crea_OneHotEncoding(merged,column)\n",
    "    vc = pd.concat([vc,df],axis=1)\n",
    "    print(\"Column \",column, \" transform\")\n",
    "\n",
    "print(\"final size dataset:\",vc.shape)"
   ]
  },
  {
   "cell_type": "code",
   "execution_count": 58,
   "metadata": {},
   "outputs": [
    {
     "data": {
      "text/html": [
       "<div>\n",
       "<style scoped>\n",
       "    .dataframe tbody tr th:only-of-type {\n",
       "        vertical-align: middle;\n",
       "    }\n",
       "\n",
       "    .dataframe tbody tr th {\n",
       "        vertical-align: top;\n",
       "    }\n",
       "\n",
       "    .dataframe thead th {\n",
       "        text-align: right;\n",
       "    }\n",
       "</style>\n",
       "<table border=\"1\" class=\"dataframe\">\n",
       "  <thead>\n",
       "    <tr style=\"text-align: right;\">\n",
       "      <th></th>\n",
       "      <th>char_21</th>\n",
       "      <th>char_22</th>\n",
       "      <th>char_28</th>\n",
       "      <th>char_30</th>\n",
       "      <th>char_15</th>\n",
       "      <th>char_24</th>\n",
       "      <th>activity_id</th>\n",
       "      <th>char_17</th>\n",
       "      <th>char_29</th>\n",
       "      <th>people_id</th>\n",
       "      <th>...</th>\n",
       "      <th>char_8_type 8</th>\n",
       "      <th>char_9_type 1</th>\n",
       "      <th>char_9_type 2</th>\n",
       "      <th>char_9_type 3</th>\n",
       "      <th>char_9_type 4</th>\n",
       "      <th>char_9_type 5</th>\n",
       "      <th>char_9_type 6</th>\n",
       "      <th>char_9_type 7</th>\n",
       "      <th>char_9_type 8</th>\n",
       "      <th>char_9_type 9</th>\n",
       "    </tr>\n",
       "  </thead>\n",
       "  <tbody>\n",
       "    <tr>\n",
       "      <td>0</td>\n",
       "      <td>1</td>\n",
       "      <td>0</td>\n",
       "      <td>1</td>\n",
       "      <td>1</td>\n",
       "      <td>0</td>\n",
       "      <td>0</td>\n",
       "      <td>1734928</td>\n",
       "      <td>0</td>\n",
       "      <td>0</td>\n",
       "      <td>100</td>\n",
       "      <td>...</td>\n",
       "      <td>0.0</td>\n",
       "      <td>0.0</td>\n",
       "      <td>1.0</td>\n",
       "      <td>0.0</td>\n",
       "      <td>0.0</td>\n",
       "      <td>0.0</td>\n",
       "      <td>0.0</td>\n",
       "      <td>0.0</td>\n",
       "      <td>0.0</td>\n",
       "      <td>0.0</td>\n",
       "    </tr>\n",
       "    <tr>\n",
       "      <td>1</td>\n",
       "      <td>1</td>\n",
       "      <td>0</td>\n",
       "      <td>1</td>\n",
       "      <td>1</td>\n",
       "      <td>0</td>\n",
       "      <td>0</td>\n",
       "      <td>2434093</td>\n",
       "      <td>0</td>\n",
       "      <td>0</td>\n",
       "      <td>100</td>\n",
       "      <td>...</td>\n",
       "      <td>0.0</td>\n",
       "      <td>0.0</td>\n",
       "      <td>1.0</td>\n",
       "      <td>0.0</td>\n",
       "      <td>0.0</td>\n",
       "      <td>0.0</td>\n",
       "      <td>0.0</td>\n",
       "      <td>0.0</td>\n",
       "      <td>0.0</td>\n",
       "      <td>0.0</td>\n",
       "    </tr>\n",
       "    <tr>\n",
       "      <td>2</td>\n",
       "      <td>1</td>\n",
       "      <td>0</td>\n",
       "      <td>1</td>\n",
       "      <td>1</td>\n",
       "      <td>0</td>\n",
       "      <td>0</td>\n",
       "      <td>3404049</td>\n",
       "      <td>0</td>\n",
       "      <td>0</td>\n",
       "      <td>100</td>\n",
       "      <td>...</td>\n",
       "      <td>0.0</td>\n",
       "      <td>0.0</td>\n",
       "      <td>1.0</td>\n",
       "      <td>0.0</td>\n",
       "      <td>0.0</td>\n",
       "      <td>0.0</td>\n",
       "      <td>0.0</td>\n",
       "      <td>0.0</td>\n",
       "      <td>0.0</td>\n",
       "      <td>0.0</td>\n",
       "    </tr>\n",
       "  </tbody>\n",
       "</table>\n",
       "<p>3 rows × 171 columns</p>\n",
       "</div>"
      ],
      "text/plain": [
       "   char_21  char_22  char_28  char_30  char_15  char_24  activity_id  char_17  \\\n",
       "0        1        0        1        1        0        0      1734928        0   \n",
       "1        1        0        1        1        0        0      2434093        0   \n",
       "2        1        0        1        1        0        0      3404049        0   \n",
       "\n",
       "   char_29  people_id  ...  char_8_type 8  char_9_type 1  char_9_type 2  \\\n",
       "0        0        100  ...            0.0            0.0            1.0   \n",
       "1        0        100  ...            0.0            0.0            1.0   \n",
       "2        0        100  ...            0.0            0.0            1.0   \n",
       "\n",
       "   char_9_type 3  char_9_type 4  char_9_type 5  char_9_type 6  char_9_type 7  \\\n",
       "0            0.0            0.0            0.0            0.0            0.0   \n",
       "1            0.0            0.0            0.0            0.0            0.0   \n",
       "2            0.0            0.0            0.0            0.0            0.0   \n",
       "\n",
       "   char_9_type 8  char_9_type 9  \n",
       "0            0.0            0.0  \n",
       "1            0.0            0.0  \n",
       "2            0.0            0.0  \n",
       "\n",
       "[3 rows x 171 columns]"
      ]
     },
     "execution_count": 58,
     "metadata": {},
     "output_type": "execute_result"
    }
   ],
   "source": [
    "vc.head(3)"
   ]
  },
  {
   "cell_type": "code",
   "execution_count": 59,
   "metadata": {},
   "outputs": [
    {
     "name": "stdout",
     "output_type": "stream",
     "text": [
      "Shape of x_train: (1582048, 171)\n",
      "Shape of x_test: (439459, 171)\n",
      "Shape of x_val: (175784, 171)\n",
      "Shape of y_train: (1582048,)\n",
      "Shape of y_test: (439459,)\n",
      "Shape of y_val: (175784,)\n"
     ]
    }
   ],
   "source": [
    "from sklearn.model_selection import train_test_split\n",
    "\n",
    "x_train, x_test, y_train, y_test = train_test_split(vc,outcome, test_size=0.2,random_state=2020)\n",
    "\n",
    "x_train, x_val, y_train, y_val = train_test_split(x_train,y_train, test_size=0.1, random_state=2020)\n",
    "\n",
    "print(\"Shape of x_train:\",x_train.shape)\n",
    "print(\"Shape of x_test:\",x_test.shape)\n",
    "print(\"Shape of x_val:\",x_val.shape)\n",
    "print(\"Shape of y_train:\",y_train.shape)\n",
    "print(\"Shape of y_test:\",y_test.shape)\n",
    "print(\"Shape of y_val:\",y_val.shape)"
   ]
  },
  {
   "cell_type": "code",
   "execution_count": 60,
   "metadata": {},
   "outputs": [
    {
     "name": "stdout",
     "output_type": "stream",
     "text": [
      "Model: \"sequential_3\"\n",
      "_________________________________________________________________\n",
      "Layer (type)                 Output Shape              Param #   \n",
      "=================================================================\n",
      "dense_10 (Dense)             (None, 256)               44032     \n",
      "_________________________________________________________________\n",
      "dense_11 (Dense)             (None, 256)               65792     \n",
      "_________________________________________________________________\n",
      "dense_12 (Dense)             (None, 1)                 257       \n",
      "=================================================================\n",
      "Total params: 110,081\n",
      "Trainable params: 110,081\n",
      "Non-trainable params: 0\n",
      "_________________________________________________________________\n",
      "None\n"
     ]
    }
   ],
   "source": [
    "from keras.models import Sequential\n",
    "from keras.layers import Dense\n",
    "from keras.utils import plot_model\n",
    "\n",
    "model = Sequential()\n",
    "model.add(Dense(256,input_dim = x_train.shape[1],activation=\"relu\"))\n",
    "model.add(Dense(256,activation=\"relu\"))\n",
    "model.add(Dense(1,activation = \"sigmoid\")) \n",
    "model.compile(optimizer = \"Adam\",loss=\"binary_crossentropy\",metrics=[\"accuracy\"])\n",
    "\n",
    "print(model.summary())"
   ]
  },
  {
   "cell_type": "code",
   "execution_count": 61,
   "metadata": {},
   "outputs": [
    {
     "data": {
      "image/png": "[encoded data removed]",
      "text/plain": [
       "<IPython.core.display.Image object>"
      ]
     },
     "execution_count": 61,
     "metadata": {},
     "output_type": "execute_result"
    }
   ],
   "source": [
    "plot_model(model, to_file='model.png',show_shapes=True)"
   ]
  },
  {
   "cell_type": "code",
   "execution_count": 62,
   "metadata": {},
   "outputs": [
    {
     "name": "stdout",
     "output_type": "stream",
     "text": [
      "Train on 1582048 samples, validate on 175784 samples\n",
      "Epoch 1/3\n",
      "1582048/1582048 [==============================] - 70s 44us/step - loss: 311.3867 - accuracy: 0.6534 - val_loss: 0.6557 - val_accuracy: 0.5793\n",
      "Epoch 2/3\n",
      "1582048/1582048 [==============================] - 68s 43us/step - loss: 0.6866 - accuracy: 0.5599 - val_loss: 0.6866 - val_accuracy: 0.5573\n",
      "Epoch 3/3\n",
      "1582048/1582048 [==============================] - 68s 43us/step - loss: 0.6869 - accuracy: 0.5561 - val_loss: 0.6865 - val_accuracy: 0.5573\n"
     ]
    },
    {
     "data": {
      "text/plain": [
       "<keras.callbacks.callbacks.History at 0x20817193a88>"
      ]
     },
     "execution_count": 62,
     "metadata": {},
     "output_type": "execute_result"
    }
   ],
   "source": [
    "model.fit(x_train,y_train, validation_data = (x_val,y_val),epochs=3, batch_size=64)"
   ]
  },
  {
   "cell_type": "code",
   "execution_count": 63,
   "metadata": {},
   "outputs": [
    {
     "name": "stdout",
     "output_type": "stream",
     "text": [
      "Train on 1582048 samples, validate on 175784 samples\n",
      "Epoch 1/3\n",
      "1582048/1582048 [==============================] - 141s 89us/step - loss: 70.0684 - accuracy: 0.5552 - val_loss: 0.6866 - val_accuracy: 0.5573\n",
      "Epoch 2/3\n",
      "1582048/1582048 [==============================] - 137s 86us/step - loss: 1.1533 - accuracy: 0.5560 - val_loss: 0.6866 - val_accuracy: 0.5573\n",
      "Epoch 3/3\n",
      "1582048/1582048 [==============================] - 138s 87us/step - loss: 0.6869 - accuracy: 0.5561 - val_loss: 0.6866 - val_accuracy: 0.5573\n"
     ]
    },
    {
     "data": {
      "text/plain": [
       "<keras.callbacks.callbacks.History at 0x2081afc9048>"
      ]
     },
     "execution_count": 63,
     "metadata": {},
     "output_type": "execute_result"
    }
   ],
   "source": [
    "# 2 layer neural network\n",
    "model = Sequential()\n",
    "model.add(Dense(512,input_dim = x_train.shape[1],activation=\"relu\"))\n",
    "model.add(Dense(512,activation=\"relu\"))\n",
    "model.add(Dense(256,activation=\"relu\"))\n",
    "model.add(Dense(1,activation = \"sigmoid\"))\n",
    "model.compile(optimizer = \"Adam\",loss=\"binary_crossentropy\",metrics=[\"accuracy\"])\n",
    "model.fit(x_train,y_train, validation_data = (x_val,y_val),epochs=3, batch_size=64)"
   ]
  },
  {
   "cell_type": "code",
   "execution_count": 64,
   "metadata": {},
   "outputs": [],
   "source": [
    "from sklearn.preprocessing import StandardScaler\n",
    "scaler = StandardScaler()\n",
    "scaler.fit(x_train)\n",
    "x_train_scaled = scaler.transform(x_train)\n",
    "x_val_scaled = scaler.transform(x_val)\n",
    "x_test_scaled = scaler.transform(x_test)"
   ]
  },
  {
   "cell_type": "code",
   "execution_count": 65,
   "metadata": {},
   "outputs": [
    {
     "name": "stdout",
     "output_type": "stream",
     "text": [
      "Train on 1582048 samples, validate on 175784 samples\n",
      "Epoch 1/3\n",
      "1582048/1582048 [==============================] - 132s 84us/step - loss: 0.2041 - accuracy: 0.9091 - val_loss: 0.1522 - val_accuracy: 0.9340\n",
      "Epoch 2/3\n",
      "1582048/1582048 [==============================] - 138s 87us/step - loss: 0.1310 - accuracy: 0.9451 - val_loss: 0.1194 - val_accuracy: 0.9509\n",
      "Epoch 3/3\n",
      "1582048/1582048 [==============================] - 139s 88us/step - loss: 0.1051 - accuracy: 0.9569 - val_loss: 0.1036 - val_accuracy: 0.9584\n"
     ]
    },
    {
     "data": {
      "text/plain": [
       "<keras.callbacks.callbacks.History at 0x20837387ac8>"
      ]
     },
     "execution_count": 65,
     "metadata": {},
     "output_type": "execute_result"
    }
   ],
   "source": [
    "# 2 layer neural network\n",
    "model = Sequential()\n",
    "model.add(Dense(512,input_dim = x_train_scaled.shape[1],activation=\"relu\"))\n",
    "model.add(Dense(512,activation=\"relu\"))\n",
    "model.add(Dense(256,activation=\"relu\"))\n",
    "model.add(Dense(1,activation = \"sigmoid\"))\n",
    "model.compile(optimizer = \"Adam\",loss=\"binary_crossentropy\",metrics=[\"accuracy\"])\n",
    "model.fit(x_train_scaled,y_train, validation_data = (x_val_scaled,y_val),epochs=3, batch_size=64)"
   ]
  },
  {
   "cell_type": "code",
   "execution_count": 66,
   "metadata": {},
   "outputs": [
    {
     "name": "stdout",
     "output_type": "stream",
     "text": [
      "439459/439459 [==============================] - 17s 38us/step\n",
      "Metric  loss : 0.1\n",
      "Metric  accuracy : 0.96\n"
     ]
    }
   ],
   "source": [
    "result = model.evaluate(x_test_scaled,y_test)\n",
    "for i in range(len(model.metrics_names)):\n",
    " print(\"Metric \",model.metrics_names[i],\":\",\n",
    "str(round(result[i],2)))"
   ]
  },
  {
   "cell_type": "code",
   "execution_count": 68,
   "metadata": {},
   "outputs": [
    {
     "name": "stdout",
     "output_type": "stream",
     "text": [
      "Train on 1582048 samples, validate on 175784 samples\n",
      "Epoch 1/12\n",
      "1582048/1582048 [==============================] - 138s 87us/step - loss: 0.2055 - accuracy: 0.9081 - val_loss: 0.1545 - val_accuracy: 0.9337\n",
      "Epoch 2/12\n",
      "1582048/1582048 [==============================] - 138s 87us/step - loss: 0.1322 - accuracy: 0.9446 - val_loss: 0.1210 - val_accuracy: 0.9508\n",
      "Epoch 3/12\n",
      "1582048/1582048 [==============================] - 142s 90us/step - loss: 0.1060 - accuracy: 0.9566 - val_loss: 0.1072 - val_accuracy: 0.9571\n",
      "Epoch 4/12\n",
      "1582048/1582048 [==============================] - 141s 89us/step - loss: 0.0915 - accuracy: 0.9632 - val_loss: 0.0920 - val_accuracy: 0.9642\n",
      "Epoch 5/12\n",
      "1582048/1582048 [==============================] - 146s 92us/step - loss: 0.0814 - accuracy: 0.9674 - val_loss: 0.0880 - val_accuracy: 0.9668\n",
      "Epoch 6/12\n",
      "1582048/1582048 [==============================] - 144s 91us/step - loss: 0.0743 - accuracy: 0.9704 - val_loss: 0.0841 - val_accuracy: 0.9692\n",
      "Epoch 7/12\n",
      "1582048/1582048 [==============================] - 140s 88us/step - loss: 0.0709 - accuracy: 0.9724 - val_loss: 0.0803 - val_accuracy: 0.9706\n",
      "Epoch 8/12\n",
      "1582048/1582048 [==============================] - 136s 86us/step - loss: 0.0650 - accuracy: 0.9744 - val_loss: 0.0794 - val_accuracy: 0.9718\n",
      "Epoch 9/12\n",
      "1582048/1582048 [==============================] - 138s 88us/step - loss: 0.0626 - accuracy: 0.9755 - val_loss: 0.0774 - val_accuracy: 0.9721\n",
      "Epoch 10/12\n",
      "1582048/1582048 [==============================] - 139s 88us/step - loss: 0.0611 - accuracy: 0.9768 - val_loss: 0.0804 - val_accuracy: 0.9716\n",
      "Epoch 11/12\n",
      "1582048/1582048 [==============================] - 140s 89us/step - loss: 0.0574 - accuracy: 0.9773 - val_loss: 0.0808 - val_accuracy: 0.9738\n",
      "Epoch 12/12\n",
      "1582048/1582048 [==============================] - 139s 88us/step - loss: 0.0576 - accuracy: 0.9783 - val_loss: 0.0812 - val_accuracy: 0.9744\n"
     ]
    },
    {
     "data": {
      "text/plain": [
       "<keras.callbacks.callbacks.History at 0x2089a2b4f48>"
      ]
     },
     "execution_count": 68,
     "metadata": {},
     "output_type": "execute_result"
    }
   ],
   "source": [
    "model = Sequential()\n",
    "model.add(Dense(512,input_dim = x_train_scaled.shape[1],activation=\"relu\"))\n",
    "model.add(Dense(512,activation=\"relu\"))\n",
    "model.add(Dense(256,activation=\"relu\"))\n",
    "model.add(Dense(1,activation = \"sigmoid\"))\n",
    "model.compile(optimizer = \"Adam\",loss=\"binary_crossentropy\",metrics=[\"accuracy\"])\n",
    "model.fit(x_train_scaled,y_train, validation_data = (x_val_scaled,y_val),epochs=12, batch_size=64)"
   ]
  },
  {
   "cell_type": "code",
   "execution_count": 69,
   "metadata": {},
   "outputs": [
    {
     "name": "stdout",
     "output_type": "stream",
     "text": [
      "439459/439459 [==============================] - 15s 34us/step\n",
      "Metric  loss : 0.07\n",
      "Metric  accuracy : 0.97\n"
     ]
    }
   ],
   "source": [
    "result = model.evaluate(x_test_scaled,y_test)\n",
    "for i in range(len(model.metrics_names)):\n",
    " print(\"Metric \",model.metrics_names[i],\":\",str(round(result[i],2)))"
   ]
  },
  {
   "cell_type": "code",
   "execution_count": 70,
   "metadata": {},
   "outputs": [
    {
     "data": {
      "image/png": "[encoded data removed]",
      "text/plain": [
       "<Figure size 936x432 with 1 Axes>"
      ]
     },
     "metadata": {
      "needs_background": "light"
     },
     "output_type": "display_data"
    }
   ],
   "source": [
    "import matplotlib.pyplot as plt\n",
    "%matplotlib inline\n",
    "\n",
    "plt.figure(figsize=(13,6))\n",
    "plt.plot(model.history.history['loss'])\n",
    "plt.plot(model.history.history['val_loss'])\n",
    "plt.title(\"Pérdidas del modelo con set de entrenamiento y pruebas por época\")\n",
    "plt.ylabel('Pérdidas')\n",
    "plt.xlabel('Épocas')\n",
    "plt.legend(['Entrenamiento', 'Validación'], loc='upper right')\n",
    "plt.show()"
   ]
  },
  {
   "cell_type": "code",
   "execution_count": 71,
   "metadata": {},
   "outputs": [
    {
     "data": {
      "image/png": "[encoded data removed]",
      "text/plain": [
       "<Figure size 936x432 with 1 Axes>"
      ]
     },
     "metadata": {
      "needs_background": "light"
     },
     "output_type": "display_data"
    }
   ],
   "source": [
    "plt.figure(figsize=(13,6))\n",
    "plt.plot(model.history.history['accuracy'])\n",
    "plt.plot(model.history.history['val_accuracy'])\n",
    "plt.title(\"Pérdidas del modelo con set de entrenamiento y pruebas por época\")\n",
    "plt.ylabel('Accuracy')\n",
    "plt.xlabel('Épocas')\n",
    "plt.legend(['Entrenamiento', 'Validación'], loc='lower right')\n",
    "plt.show()"
   ]
  },
  {
   "cell_type": "markdown",
   "metadata": {},
   "source": [
    "## Cosine Proximity\n",
    "\n",
    "<img width=800 src=\"https://images.deepai.org/glossary-terms/cosine-similarity-1007790.jpg\">\n",
    "\n",
    "<img src=\"https://encrypted-tbn0.gstatic.com/images?q=tbn%3AANd9GcTJLojn-I3f6WwY2gOcX8CnTDlocsURwrl9ei1Aaogs2Tf7T_M0&usqp=CAU\">"
   ]
  },
  {
   "cell_type": "markdown",
   "metadata": {},
   "source": [
    "## Dropout Regularization\n",
    "\n",
    "In each iteration we randomly activate or deactivate a percentage of our neurons, in order to decrease the percentage of training time, and decrease the dependency between neighboring variables\n",
    "\n",
    "<img width=600 src=\"https://miro.medium.com/max/1200/1*iWQzxhVlvadk6VAJjsgXgg.png\">"
   ]
  },
  {
   "cell_type": "code",
   "execution_count": null,
   "metadata": {},
   "outputs": [],
   "source": []
  }
 ],
 "metadata": {
  "kernelspec": {
   "display_name": "Python 3",
   "language": "python",
   "name": "python3"
  },
  "language_info": {
   "codemirror_mode": {
    "name": "ipython",
    "version": 3
   },
   "file_extension": ".py",
   "mimetype": "text/x-python",
   "name": "python",
   "nbconvert_exporter": "python",
   "pygments_lexer": "ipython3",
   "version": "3.7.4"
  }
 },
 "nbformat": 4,
 "nbformat_minor": 2
}
