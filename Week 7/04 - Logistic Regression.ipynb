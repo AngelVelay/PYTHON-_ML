{
 "cells": [
  {
   "cell_type": "code",
   "execution_count": 1,
   "metadata": {},
   "outputs": [],
   "source": [
    "# !pip install tabulate"
   ]
  },
  {
   "cell_type": "code",
   "execution_count": 2,
   "metadata": {},
   "outputs": [],
   "source": [
    "import pandas as pd\n",
    "import numpy as np\n",
    "import pylab as pl\n",
    "import seaborn as sns; sns.set()\n",
    "from sklearn import preprocessing\n",
    "from sklearn import datasets\n",
    "from sklearn import metrics\n",
    "from sklearn.model_selection import train_test_split\n",
    "from sklearn.linear_model import LogisticRegression\n",
    "import matplotlib.pyplot as plt\n",
    "%matplotlib inline\n"
   ]
  },
  {
   "cell_type": "code",
   "execution_count": 3,
   "metadata": {
    "scrolled": true
   },
   "outputs": [
    {
     "data": {
      "text/html": [
       "<div>\n",
       "<style scoped>\n",
       "    .dataframe tbody tr th:only-of-type {\n",
       "        vertical-align: middle;\n",
       "    }\n",
       "\n",
       "    .dataframe tbody tr th {\n",
       "        vertical-align: top;\n",
       "    }\n",
       "\n",
       "    .dataframe thead th {\n",
       "        text-align: right;\n",
       "    }\n",
       "</style>\n",
       "<table border=\"1\" class=\"dataframe\">\n",
       "  <thead>\n",
       "    <tr style=\"text-align: right;\">\n",
       "      <th></th>\n",
       "      <th>Pregnancies</th>\n",
       "      <th>Glucose</th>\n",
       "      <th>BloodPressure</th>\n",
       "      <th>SkinThickness</th>\n",
       "      <th>Insulin</th>\n",
       "      <th>BMI</th>\n",
       "      <th>DiabetesPedigreeFunction</th>\n",
       "      <th>Age</th>\n",
       "      <th>Outcome</th>\n",
       "    </tr>\n",
       "  </thead>\n",
       "  <tbody>\n",
       "    <tr>\n",
       "      <td>0</td>\n",
       "      <td>6</td>\n",
       "      <td>148</td>\n",
       "      <td>72</td>\n",
       "      <td>35</td>\n",
       "      <td>0</td>\n",
       "      <td>33.6</td>\n",
       "      <td>0.627</td>\n",
       "      <td>50</td>\n",
       "      <td>1</td>\n",
       "    </tr>\n",
       "    <tr>\n",
       "      <td>1</td>\n",
       "      <td>1</td>\n",
       "      <td>85</td>\n",
       "      <td>66</td>\n",
       "      <td>29</td>\n",
       "      <td>0</td>\n",
       "      <td>26.6</td>\n",
       "      <td>0.351</td>\n",
       "      <td>31</td>\n",
       "      <td>0</td>\n",
       "    </tr>\n",
       "    <tr>\n",
       "      <td>2</td>\n",
       "      <td>8</td>\n",
       "      <td>183</td>\n",
       "      <td>64</td>\n",
       "      <td>0</td>\n",
       "      <td>0</td>\n",
       "      <td>23.3</td>\n",
       "      <td>0.672</td>\n",
       "      <td>32</td>\n",
       "      <td>1</td>\n",
       "    </tr>\n",
       "    <tr>\n",
       "      <td>3</td>\n",
       "      <td>1</td>\n",
       "      <td>89</td>\n",
       "      <td>66</td>\n",
       "      <td>23</td>\n",
       "      <td>94</td>\n",
       "      <td>28.1</td>\n",
       "      <td>0.167</td>\n",
       "      <td>21</td>\n",
       "      <td>0</td>\n",
       "    </tr>\n",
       "    <tr>\n",
       "      <td>4</td>\n",
       "      <td>0</td>\n",
       "      <td>137</td>\n",
       "      <td>40</td>\n",
       "      <td>35</td>\n",
       "      <td>168</td>\n",
       "      <td>43.1</td>\n",
       "      <td>2.288</td>\n",
       "      <td>33</td>\n",
       "      <td>1</td>\n",
       "    </tr>\n",
       "  </tbody>\n",
       "</table>\n",
       "</div>"
      ],
      "text/plain": [
       "   Pregnancies  Glucose  BloodPressure  SkinThickness  Insulin   BMI  \\\n",
       "0            6      148             72             35        0  33.6   \n",
       "1            1       85             66             29        0  26.6   \n",
       "2            8      183             64              0        0  23.3   \n",
       "3            1       89             66             23       94  28.1   \n",
       "4            0      137             40             35      168  43.1   \n",
       "\n",
       "   DiabetesPedigreeFunction  Age  Outcome  \n",
       "0                     0.627   50        1  \n",
       "1                     0.351   31        0  \n",
       "2                     0.672   32        1  \n",
       "3                     0.167   21        0  \n",
       "4                     2.288   33        1  "
      ]
     },
     "execution_count": 3,
     "metadata": {},
     "output_type": "execute_result"
    }
   ],
   "source": [
    "df = pd.read_csv('../Datasets/Week7/diabetes.csv')\n",
    "df.head()"
   ]
  },
  {
   "cell_type": "code",
   "execution_count": 4,
   "metadata": {},
   "outputs": [
    {
     "data": {
      "text/plain": [
       "(768, 9)"
      ]
     },
     "execution_count": 4,
     "metadata": {},
     "output_type": "execute_result"
    }
   ],
   "source": [
    "df.shape"
   ]
  },
  {
   "cell_type": "markdown",
   "metadata": {},
   "source": [
    "## Logistic Regression"
   ]
  },
  {
   "cell_type": "markdown",
   "metadata": {},
   "source": [
    "- $ Y $ = Dependent variable (0 or 1, yes or no, A or B)\n",
    "- $ X $ = Independent variable\n",
    "- $ C $ = Constant term which will be the probability of the event happening when no other factors are considered\n",
    "\n",
    "$$\\log\\left(\\frac{Y}{1-Y}\\right) = C + w_{i}+x_{i} + ... + w_{n}+x_{n}$$"
   ]
  },
  {
   "cell_type": "code",
   "execution_count": 5,
   "metadata": {},
   "outputs": [],
   "source": [
    "cols = [\"Pregnancies\",\"Glucose\",\"BloodPressure\",\"SkinThickness\",\"Insulin\",\"BMI\",\"DiabetesPedigreeFunction\",\"Age\"]\n",
    "x = df[cols]\n",
    "y = df.Outcome"
   ]
  },
  {
   "cell_type": "code",
   "execution_count": 6,
   "metadata": {},
   "outputs": [],
   "source": [
    "x_train, x_test, y_train, y_test = train_test_split(x,y,test_size=0.25, random_state=0)"
   ]
  },
  {
   "cell_type": "code",
   "execution_count": 7,
   "metadata": {},
   "outputs": [],
   "source": [
    "lr = LogisticRegression(solver='lbfgs', max_iter=200)\n",
    "lr.fit(x_train, y_train)\n",
    "y_pre = lr.predict(x_test)"
   ]
  },
  {
   "cell_type": "code",
   "execution_count": 8,
   "metadata": {},
   "outputs": [
    {
     "data": {
      "text/plain": [
       "array([1, 0, 0, 1, 0, 0, 1, 1, 0, 0, 1, 1, 0, 0, 0, 0, 1, 0, 0, 0, 1, 0,\n",
       "       0, 0, 0, 0, 0, 1, 0, 0, 0, 0, 0, 0, 0, 1, 0, 0, 0, 1, 0, 0, 0, 1,\n",
       "       1, 0, 0, 0, 0, 0, 0, 0, 1, 1, 0, 0, 0, 1, 0, 0, 1, 0, 0, 1, 1, 1,\n",
       "       1, 0, 0, 0, 0, 0, 0, 1, 1, 0, 0, 1, 0, 0, 0, 0, 0, 0, 0, 0, 0, 0,\n",
       "       1, 0, 0, 0, 0, 0, 1, 0, 0, 1, 1, 0, 0, 0, 0, 0, 1, 0, 0, 0, 0, 1,\n",
       "       0, 0, 1, 0, 1, 1, 0, 1, 0, 1, 0, 0, 0, 0, 0, 0, 0, 0, 0, 0, 0, 0,\n",
       "       0, 1, 0, 0, 0, 0, 1, 0, 0, 1, 0, 0, 0, 0, 0, 0, 0, 0, 0, 1, 0, 0,\n",
       "       1, 0, 1, 0, 0, 1, 1, 1, 0, 0, 1, 0, 0, 0, 0, 0, 0, 0, 0, 0, 1, 0,\n",
       "       0, 0, 0, 0, 0, 1, 0, 1, 0, 0, 1, 0, 0, 0, 0, 0], dtype=int64)"
      ]
     },
     "execution_count": 8,
     "metadata": {},
     "output_type": "execute_result"
    }
   ],
   "source": [
    "y_pre"
   ]
  },
  {
   "cell_type": "markdown",
   "metadata": {},
   "source": [
    "<h2>Confusion Matrix</h2>\n",
    "<table>\n",
    "    <thead>\n",
    "        <th>\\<th>\n",
    "        <th>Positive</th>\n",
    "        <th>Negative</th>\n",
    "    </thead>\n",
    "    <tbody>\n",
    "        <tr>\n",
    "            <td><strong>Positive</strong><td>\n",
    "            <td>PP<td>\n",
    "            <td>PN<td>\n",
    "        </tr>\n",
    "        <tr>\n",
    "            <td><strong>Negative</strong><td>\n",
    "            <td>NP<td>\n",
    "            <td>NN<td>\n",
    "        </tr>\n",
    "    </tbody>\n",
    "</table>\n",
    "    \n",
    "- __PP__ - True Positives - are those that were correctly classified as positive as the model.\n",
    "- __PN__ - False Negatives - is the number of positives that were incorrectly classified as negative.\n",
    "- __NP__ - False Positives - indicate the number of negatives that were incorrectly classified as negatives.\n",
    "- __NN__ - True Negatives - correspond to the number of negatives that were correctly classified as negative by the model."
   ]
  },
  {
   "cell_type": "markdown",
   "metadata": {},
   "source": [
    "### Accuracy\n",
    "\n",
    "$$ Acc = \\frac{PP + PN}{Total}$$"
   ]
  },
  {
   "cell_type": "markdown",
   "metadata": {},
   "source": [
    "### Error Rate\n",
    "\n",
    "$$ er = \\frac{NP + NN}{Total}$$"
   ]
  },
  {
   "cell_type": "code",
   "execution_count": 9,
   "metadata": {},
   "outputs": [
    {
     "data": {
      "text/plain": [
       "array([[117,  13],\n",
       "       [ 26,  36]], dtype=int64)"
      ]
     },
     "execution_count": 9,
     "metadata": {},
     "output_type": "execute_result"
    }
   ],
   "source": [
    "cnf_matrix = metrics.confusion_matrix(y_test,y_pre)\n",
    "cnf_matrix"
   ]
  },
  {
   "cell_type": "code",
   "execution_count": 10,
   "metadata": {},
   "outputs": [
    {
     "data": {
      "text/plain": [
       "Text(0.5, 257.44, 'Prediction Label')"
      ]
     },
     "execution_count": 10,
     "metadata": {},
     "output_type": "execute_result"
    },
    {
     "data": {
      "image/png": "[encoded data removed]",
      "text/plain": [
       "<Figure size 432x288 with 2 Axes>"
      ]
     },
     "metadata": {
      "needs_background": "light"
     },
     "output_type": "display_data"
    }
   ],
   "source": [
    "class_names = [0,1]\n",
    "fig, ax = plt.subplots()\n",
    "ticks_marks = np.arange(len(class_names))\n",
    "plt.xticks(ticks_marks, class_names)\n",
    "plt.yticks(ticks_marks, class_names)\n",
    "sns.heatmap(pd.DataFrame(cnf_matrix), annot=True, cmap='Blues', fmt='g') # fmt='g' is for the annot shows in normal numbers \n",
    "ax.xaxis.set_label_position('top')\n",
    "ax.autoscale(enable=True) # To fix scale \n",
    "plt.tight_layout()\n",
    "plt.title('Confusion Matrix', y = 1.1)\n",
    "plt.ylabel('Actual Label')\n",
    "plt.xlabel('Prediction Label')"
   ]
  },
  {
   "cell_type": "code",
   "execution_count": 11,
   "metadata": {},
   "outputs": [
    {
     "data": {
      "text/plain": [
       "0.796875"
      ]
     },
     "execution_count": 11,
     "metadata": {},
     "output_type": "execute_result"
    }
   ],
   "source": [
    "metrics.accuracy_score(y_test, y_pre)"
   ]
  },
  {
   "cell_type": "markdown",
   "metadata": {},
   "source": [
    "# -------------------"
   ]
  },
  {
   "cell_type": "code",
   "execution_count": 12,
   "metadata": {},
   "outputs": [],
   "source": [
    "def plot_data(X, y):   #plot our data (X,y)\n",
    "    y_unique = np.unique(y)\n",
    "    colors = pl.cm.rainbow(np.linspace(0.0, 1.0, y_unique.size))\n",
    "    for this_y, color in zip(y_unique, colors):\n",
    "        this_X = X[y == this_y]\n",
    "        pl.scatter(this_X[:, 0], this_X[:, 1],  color=color,\n",
    "                    alpha=0.5, edgecolor='k',\n",
    "                    label=\"Class %s\" % this_y)\n",
    "    pl.legend(loc=\"best\")\n",
    "    pl.title(\"Data\")"
   ]
  },
  {
   "cell_type": "code",
   "execution_count": 13,
   "metadata": {},
   "outputs": [],
   "source": [
    "def plot_decision_region(X, pred_fun):      # Function to visualize the decision surface of our algorithm.\n",
    "    min_x = np.min(X[:, 0])\n",
    "    max_x = np.max(X[:, 0])\n",
    "    min_y = np.min(X[:, 1])\n",
    "    max_y = np.max(X[:, 1])\n",
    "    min_x = min_x - (max_x - min_x) * 0.05\n",
    "    max_x = max_x + (max_x - min_x) * 0.05\n",
    "    min_y = min_y - (max_y - min_y) * 0.05\n",
    "    max_y = max_y + (max_y - min_y) * 0.05\n",
    "    x_vals = np.linspace(min_x, max_x, 100)\n",
    "    y_vals = np.linspace(min_y, max_y, 100)\n",
    "    XX, YY = np.meshgrid(x_vals, y_vals)\n",
    "    grid_r, grid_c = XX.shape\n",
    "    ZZ = np.zeros((grid_r, grid_c))\n",
    "    for i in range(grid_r):\n",
    "        for j in range(grid_c):\n",
    "            ZZ[i, j] = pred_fun(XX[i, j], YY[i, j])\n",
    "    pl.contourf(XX, YY, ZZ, 100, cmap = pl.cm.coolwarm, vmin= -1, vmax=2)\n",
    "    pl.colorbar()\n",
    "    pl.xlabel(\"x\")\n",
    "    pl.ylabel(\"y\")\n",
    "    \n",
    "def gen_pred_fun(clf):\n",
    "    def pred_fun(x1, x2):\n",
    "        x = np.array([[x1, x2]])\n",
    "        return clf.predict(x)[0]\n",
    "    return pred_fun"
   ]
  },
  {
   "cell_type": "code",
   "execution_count": 14,
   "metadata": {},
   "outputs": [],
   "source": [
    "def list_cm(cm,classes):     #function to generate the confusion matrix in a more visual way\n",
    "    if len(cm)==2:\n",
    "        row_0 =['','Value','True']\n",
    "        row_1 =['-',classes[0],classes[1]]\n",
    "        row_2 =[classes[0],cm[0,0],cm[1,0]]\n",
    "        row_3 =[classes[1],cm[0,1],cm[1,1]]\n",
    "        table = zip(row_0,row_1, row_2, row_3)\n",
    "        headers = ['', '', 'Value', 'Predicted']  \n",
    "        return print(tabulate(table, headers=headers, floatfmt=\".4f\"))\n",
    "    else:\n",
    "        row_0 =['','Value','True','']\n",
    "        row_1 =['-',classes[0],classes[1],classes[2]]\n",
    "        row_2 =[classes[0],cm[0,0],cm[1,0],cm[2,0]]\n",
    "        row_3 =[classes[1],cm[0,1],cm[1,1],cm[2,1]]\n",
    "        row_4 =[classes[2],cm[0,2],cm[1,2],cm[2,2]]\n",
    "        table = zip(row_0,row_1, row_2, row_3, row_4)\n",
    "        headers = ['', '', 'Value', 'Predicted', '']  \n",
    "        return print(tabulate(table, headers=headers, floatfmt=\".4f\"))   "
   ]
  },
  {
   "cell_type": "markdown",
   "metadata": {},
   "source": [
    "## Logistic regression\n",
    "\n",
    "Logistic regression is a linear model for classification. It is also known as a logit regression or maximum entropy classifier. Given a vector of characteristics $ x $ for a specific example, we have to:\n",
    "\n",
    "* We can set a prediction function $ f: \\mathbb{R}^{2} \\rightarrow \\mathbb{R} $ such that:\n",
    "\n",
    "$$ \\textrm {Prediction} (x) = \\begin {cases}\n",
    "C_{1} & \\mbox{si} f (x) \\ge \\theta \\\\\n",
    "C_{2} & \\mbox{si} f (x) <\\theta\n",
    "\\end {cases} $$\n",
    "\n",
    "* We will use a function $ f $ as a logistic model of the parameters $ w $ and $ w_0 $:\n",
    "\n",
    "$$ f_w (x) = P (C_1 | x) = \\sigma (wx + w_0) $$\n",
    "\n",
    "where\n",
    "$$ \\sigma(x) = \\frac {1} {1 + e ^ {- x}} $$\n",
    "\n",
    "* The logistics function behaves as follows:\n",
    "\n",
    "<img src = \"https://drive.google.com/uc?export=view&id=1aOQjJBQfvs_3e6d1WX_jPFD51-EAqWxn\">\n",
    "Figure: logistic2.svg\n",
    "\n",
    "The objective of the model is to adjust the coefficients of $ f $ in order to correctly predict the class of each example\n",
    "\n",
    "## Data set\n",
    "\n",
    "We use scikit learn's `make_blobs` function to generate a synthetic dataset:"
   ]
  },
  {
   "cell_type": "code",
   "execution_count": 15,
   "metadata": {},
   "outputs": [
    {
     "name": "stdout",
     "output_type": "stream",
     "text": [
      "(100, 2)\n",
      "(100,)\n"
     ]
    },
    {
     "data": {
      "text/plain": [
       "array([1, 1, 0, 0, 1, 0, 0, 1, 0, 1, 0, 1, 0, 0, 1, 1, 1, 0, 1, 1, 0, 0,\n",
       "       1, 0, 1, 0, 1, 0, 0, 1, 1, 0, 1, 1, 1, 0, 1, 1, 0, 1, 0, 0, 0, 0,\n",
       "       1, 1, 1, 1, 0, 0, 1, 1, 0, 0, 0, 0, 0, 1, 1, 1, 1, 0, 0, 1, 0, 1,\n",
       "       0, 0, 1, 0, 0, 1, 1, 0, 0, 0, 1, 1, 0, 0, 1, 0, 0, 0, 0, 0, 1, 0,\n",
       "       1, 1, 1, 1, 1, 1, 0, 0, 1, 1, 0, 1])"
      ]
     },
     "execution_count": 15,
     "metadata": {},
     "output_type": "execute_result"
    }
   ],
   "source": [
    "from sklearn.datasets.samples_generator import make_blobs\n",
    "X, y = make_blobs(n_samples=100, centers=2, n_features=2, random_state=0)\n",
    "print(X.shape)\n",
    "print(y.shape)\n",
    "y"
   ]
  },
  {
   "cell_type": "code",
   "execution_count": 16,
   "metadata": {},
   "outputs": [
    {
     "data": {
      "image/png": "[encoded data removed]",
      "text/plain": [
       "<Figure size 576x432 with 1 Axes>"
      ]
     },
     "metadata": {
      "needs_background": "light"
     },
     "output_type": "display_data"
    }
   ],
   "source": [
    "pl.figure(figsize=(8, 6))\n",
    "pl.xlabel('Feature 1')\n",
    "pl.ylabel('Feature 2')\n",
    "plot_data(X, y)"
   ]
  },
  {
   "cell_type": "markdown",
   "metadata": {},
   "source": [
    "## Training a LogisticRegression model using Scikit-Learn\n",
    "\n",
    "\n",
    "<img src = \"https://drive.google.com/uc?export=view&id=1nnjm7QQh-uIFcPpn0NjQ8EIbYR4Meji2\">\n",
    "Figure: Scikit-learn.svg\n",
    "\n",
    "All the classification models supported by Scikit-Learn follow the workflow presented in the graphic above. During the session we will work on the training and prediction part. In the next session the workflow will be completed by reviewing the generalization part. Scikit-Learn allows us to train automatic prediction models through a very consistent API. The logistic regression implementation is found using `sklearn.linear_model.LogisticRegression`."
   ]
  },
  {
   "cell_type": "code",
   "execution_count": 17,
   "metadata": {},
   "outputs": [],
   "source": [
    "classifier = LogisticRegression(solver='lbfgs', max_iter=200)\n",
    "cl2 = LogisticRegression(C=1.5)"
   ]
  },
  {
   "cell_type": "code",
   "execution_count": 18,
   "metadata": {},
   "outputs": [
    {
     "data": {
      "text/plain": [
       "LogisticRegression(C=1.0, class_weight=None, dual=False, fit_intercept=True,\n",
       "                   intercept_scaling=1, l1_ratio=None, max_iter=200,\n",
       "                   multi_class='warn', n_jobs=None, penalty='l2',\n",
       "                   random_state=None, solver='lbfgs', tol=0.0001, verbose=0,\n",
       "                   warm_start=False)"
      ]
     },
     "execution_count": 18,
     "metadata": {},
     "output_type": "execute_result"
    }
   ],
   "source": [
    "classifier.fit(X, y)"
   ]
  },
  {
   "cell_type": "code",
   "execution_count": 19,
   "metadata": {},
   "outputs": [
    {
     "data": {
      "text/plain": [
       "{'C': 1.0,\n",
       " 'class_weight': None,\n",
       " 'dual': False,\n",
       " 'fit_intercept': True,\n",
       " 'intercept_scaling': 1,\n",
       " 'l1_ratio': None,\n",
       " 'max_iter': 200,\n",
       " 'multi_class': 'warn',\n",
       " 'n_jobs': None,\n",
       " 'penalty': 'l2',\n",
       " 'random_state': None,\n",
       " 'solver': 'lbfgs',\n",
       " 'tol': 0.0001,\n",
       " 'verbose': 0,\n",
       " 'warm_start': False}"
      ]
     },
     "execution_count": 19,
     "metadata": {},
     "output_type": "execute_result"
    }
   ],
   "source": [
    "# If you want to know the parameters of the estimator you are training, you can call the function `classifier.get_params ()`.\n",
    "classifier.get_params()"
   ]
  },
  {
   "cell_type": "markdown",
   "metadata": {},
   "source": [
    "### Explanation of the parameters:\n",
    "\n",
    "The following is a description of the most important parameters of the logistic regression model using Scikit-Learn:\n",
    "\n",
    "* $ C $: regularization parameter. Although the concept of overfitting will be discussed in the next session, $ C $ penalizes models that fit the dataset too much.\n",
    "* $ class \\ _weight $: In case the classification problem is unbalanced, that is, there are more elements of one class than the other, we can give greater weight to those samples from the class with the fewest number of examples.\n",
    "* $ n \\ _jobs $: Number of processes to use to parallelize the training process. -1 Use all available processors minus 1.\n",
    "* $ solver $: `{‘ newton-cg ’,‘ lbfgs ’,‘ liblinear ’,‘ sag ’,‘ saga ’}`. This parameter corresponds to the algorithm used for optimization. The implementation of `liblinear` is written in C ++ and is one of the most used. `sag` and` saga` fall into a descending gradient implementation known as `Stochastic Average Gradient`."
   ]
  },
  {
   "cell_type": "code",
   "execution_count": 20,
   "metadata": {},
   "outputs": [
    {
     "data": {
      "text/plain": [
       "array([1, 1, 0, 1, 1, 0, 0, 1, 0, 1, 0, 1, 0, 0, 1, 1, 1, 0, 1, 1, 0, 0,\n",
       "       1, 0, 1, 0, 1, 0, 0, 1, 1, 0, 1, 1, 0, 0, 1, 1, 0, 1, 0, 0, 0, 0,\n",
       "       0, 1, 1, 1, 0, 0, 1, 1, 0, 0, 1, 0, 0, 1, 1, 1, 1, 0, 0, 1, 0, 0,\n",
       "       0, 0, 1, 0, 0, 1, 1, 0, 0, 0, 1, 1, 0, 0, 0, 0, 0, 0, 0, 0, 1, 0,\n",
       "       1, 1, 1, 1, 1, 1, 0, 0, 1, 1, 0, 1])"
      ]
     },
     "execution_count": 20,
     "metadata": {},
     "output_type": "execute_result"
    }
   ],
   "source": [
    "classifier.predict(X)"
   ]
  },
  {
   "cell_type": "code",
   "execution_count": 21,
   "metadata": {},
   "outputs": [
    {
     "data": {
      "text/plain": [
       "0.94"
      ]
     },
     "execution_count": 21,
     "metadata": {},
     "output_type": "execute_result"
    }
   ],
   "source": [
    "classifier.score(X, y)"
   ]
  },
  {
   "cell_type": "markdown",
   "metadata": {},
   "source": [
    "Next, we find the decision surface. In this two-class classification case, `LogisticRegression` returns a prediction that can be $ 1 $ or $ -1 $."
   ]
  },
  {
   "cell_type": "code",
   "execution_count": 22,
   "metadata": {},
   "outputs": [
    {
     "data": {
      "image/png": "[encoded data removed]",
      "text/plain": [
       "<Figure size 576x384 with 2 Axes>"
      ]
     },
     "metadata": {
      "needs_background": "light"
     },
     "output_type": "display_data"
    }
   ],
   "source": [
    "pl.figure(figsize = (8,16/3))    \n",
    "plot_decision_region(X, gen_pred_fun(classifier))\n",
    "plot_data(X, y)"
   ]
  },
  {
   "cell_type": "markdown",
   "metadata": {},
   "source": [
    "# Bayesian classification\n",
    "\n",
    "Naive Bayes classifiers are based on Bayesian classification methods. That is, they are based on Bayes' theorem, which describes the relationship of the conditional probabilities of statistical quantities. In this case, we want to estimate the probability that an example with characteristics $ x = (x_1, x_2, \\dots, x_n) $ belongs to a given class ** C **: $ P (C | x_1, x_2, \\dots , x_n) $.\n",
    "\n",
    "Through Bayes' theorem it can be expressed in terms of quantities that we can calculate more directly:\n",
    "\n",
    "$$ P (C | x_1, x_2, \\dots, x_n) = \\frac {P (x_1, x_2, \\dots, x_n | C) P (C)} {P (x_1, x_2, \\dots, x_n)} $$\n",
    "\n",
    "* If we are trying to decide between two classes, called $ C_1 $ and $ C_2 $, we choose the class with the highest probability. For example, yes\n",
    "\n",
    "$$ P (C_1 | x_1, x_2, \\dots, x_n) \\ge P (C_2 | x_1, x_2, \\dots, x_n) $$\n",
    "\n",
    "the most reasonable prediction is $ C_1 $.\n",
    "\n",
    "The Naive Bayes classifier (or naive Bayesian classifier) ​​makes a strong assumption: that the characteristics are conditionally independent given the class. That is to say:\n",
    "$$ P (x_1, x_2, \\dots, x_n | C) = P (x_1 | C) P (x_2 | C) \\dots P (x_n | C) $$"
   ]
  },
  {
   "cell_type": "markdown",
   "metadata": {},
   "source": [
    "## Gaussian Classifier Naive Bayes\n",
    "We graph again the data used in the previous classifier:"
   ]
  },
  {
   "cell_type": "code",
   "execution_count": 23,
   "metadata": {},
   "outputs": [
    {
     "data": {
      "image/png": "[encoded data removed]",
      "text/plain": [
       "<Figure size 576x432 with 1 Axes>"
      ]
     },
     "metadata": {
      "needs_background": "light"
     },
     "output_type": "display_data"
    }
   ],
   "source": [
    "pl.figure(figsize=(8, 6))\n",
    "pl.xlabel('Feature 1')\n",
    "pl.ylabel('Feature 2')\n",
    "plot_data(X, y)"
   ]
  },
  {
   "cell_type": "markdown",
   "metadata": {},
   "source": [
    "An extremely quick way to create a simple model is to assume that the data is described using a Gaussian distribution with no covariance between the dimensions. This procedure is implemented in Scikit-Learn's using **sklearn.naive_bayes.GaussianNB estimator**:"
   ]
  },
  {
   "cell_type": "code",
   "execution_count": 24,
   "metadata": {},
   "outputs": [],
   "source": [
    "from sklearn.naive_bayes import GaussianNB\n",
    "classifier2 = GaussianNB()\n",
    "classifier2.fit(X, y);"
   ]
  },
  {
   "cell_type": "markdown",
   "metadata": {},
   "source": [
    "Now let's generate some new data and forecast the class it belongs to, as follows:"
   ]
  },
  {
   "cell_type": "code",
   "execution_count": 25,
   "metadata": {},
   "outputs": [
    {
     "data": {
      "image/png": "[encoded data removed]",
      "text/plain": [
       "<Figure size 576x384 with 2 Axes>"
      ]
     },
     "metadata": {
      "needs_background": "light"
     },
     "output_type": "display_data"
    }
   ],
   "source": [
    "pl.figure(figsize = (8,16/3))    \n",
    "plot_decision_region(X, gen_pred_fun(classifier2))\n",
    "plot_data(X, y)"
   ]
  },
  {
   "cell_type": "markdown",
   "metadata": {},
   "source": [
    "We see a slightly curved limit in the rankings; In general, the limit in the Gaussian Naive Bayes classifier is quadratic. If we want to know the probability of each element to be classified in a given class, we can easily calculate it using the **predict_proba** method:"
   ]
  },
  {
   "cell_type": "code",
   "execution_count": 26,
   "metadata": {},
   "outputs": [
    {
     "data": {
      "text/plain": [
       "0.95"
      ]
     },
     "execution_count": 26,
     "metadata": {},
     "output_type": "execute_result"
    }
   ],
   "source": [
    "classifier2.score(X,y)"
   ]
  },
  {
   "cell_type": "code",
   "execution_count": 27,
   "metadata": {},
   "outputs": [
    {
     "data": {
      "text/plain": [
       "array([[0.11, 0.89],\n",
       "       [0.  , 1.  ],\n",
       "       [0.97, 0.03],\n",
       "       [1.  , 0.  ],\n",
       "       [0.  , 1.  ],\n",
       "       [0.  , 1.  ],\n",
       "       [1.  , 0.  ],\n",
       "       [0.06, 0.94]])"
      ]
     },
     "execution_count": 27,
     "metadata": {},
     "output_type": "execute_result"
    }
   ],
   "source": [
    "yprob = classifier2.predict_proba(X)\n",
    "yprob[-8:].round(2)"
   ]
  },
  {
   "cell_type": "markdown",
   "metadata": {},
   "source": [
    "Evaluating our classifier to compare it with the previous one we obtain:"
   ]
  },
  {
   "cell_type": "code",
   "execution_count": 28,
   "metadata": {},
   "outputs": [
    {
     "data": {
      "text/plain": [
       "0.95"
      ]
     },
     "execution_count": 28,
     "metadata": {},
     "output_type": "execute_result"
    }
   ],
   "source": [
    "classifier2.score(X, y)"
   ]
  },
  {
   "cell_type": "markdown",
   "metadata": {},
   "source": [
    "# Classification of the IRIS data set:\n",
    "\n",
    "## Data upload for Scikit-Learn\n",
    "\n",
    "The data in Scikit-Learn is assumed to be stored in a two-dimensional array, the size of which is [n_samples, n_characteristics]. Although many of Scikit's algorithms receive [sparse matrices] (http://www.scipy-lectures.org/advanced/scipy_sparse/index.html) from SciPy of the same size.\n",
    "\n",
    "- `n_samples`: The number of samples. Each sample is an item to process, in this case to classify. A sample consists of an image, a document, a video, a row in a database.\n",
    "- `n_characteristics`: The number of characteristics or traits that are used to describe each item quantitatively. These characteristics are generally continuous values, although they can also be boolean or discrete values.\n",
    "\n",
    "The number of characteristics is established in advance, they can even be of a high dimensionality. In summary, in the two-dimensional array each row will correspond to an example in the data set and each column will correspond to an associated feature.\n",
    "\n",
    "## IRIS dataset."
   ]
  },
  {
   "cell_type": "code",
   "execution_count": 29,
   "metadata": {},
   "outputs": [],
   "source": [
    "iris = datasets.load_iris()"
   ]
  },
  {
   "cell_type": "code",
   "execution_count": 30,
   "metadata": {},
   "outputs": [
    {
     "data": {
      "text/plain": [
       "dict_keys(['data', 'target', 'target_names', 'DESCR', 'feature_names', 'filename'])"
      ]
     },
     "execution_count": 30,
     "metadata": {},
     "output_type": "execute_result"
    }
   ],
   "source": [
    "iris.keys()"
   ]
  },
  {
   "cell_type": "code",
   "execution_count": 31,
   "metadata": {},
   "outputs": [
    {
     "data": {
      "text/plain": [
       "array(['setosa', 'versicolor', 'virginica'], dtype='<U10')"
      ]
     },
     "execution_count": 31,
     "metadata": {},
     "output_type": "execute_result"
    }
   ],
   "source": [
    "iris['target_names']"
   ]
  },
  {
   "cell_type": "markdown",
   "metadata": {},
   "source": [
    "* `data`: Contains the data matrix described in the previous section.\n",
    "* `target`: The labels of each of the instances of the data set (Rows of the array).\n",
    "* `target_names`: These are the names associated with the labels.\n",
    "* `feature_names`: Names of associated features."
   ]
  },
  {
   "cell_type": "markdown",
   "metadata": {},
   "source": [
    "We find that the number of samples and characteristics of `data` is:"
   ]
  },
  {
   "cell_type": "code",
   "execution_count": 32,
   "metadata": {},
   "outputs": [
    {
     "name": "stdout",
     "output_type": "stream",
     "text": [
      "Number of samples: 150\n",
      "Number of features: 4\n"
     ]
    }
   ],
   "source": [
    "n_samples, n_features = iris.data.shape\n",
    "print('Number of samples:', n_samples)\n",
    "print('Number of features:', n_features)"
   ]
  },
  {
   "cell_type": "markdown",
   "metadata": {},
   "source": [
    "We observe that each row corresponds to a specimen of a species of flower. Each flower has associated a series of characteristics, such as the width and length of the sepal, and the width and length of the petal.\n",
    "\n",
    "<img src = \"https://drive.google.com/uc?export=view&id=1TB-7jzOkgnA-EAnDFWJgIzyb0fbY89XH\">\n",
    "Figure: iris_petal_sepal.png\n",
    "\n",
    "We can manually inspect the characteristics of the last element of the dataset:"
   ]
  },
  {
   "cell_type": "code",
   "execution_count": 33,
   "metadata": {},
   "outputs": [
    {
     "name": "stdout",
     "output_type": "stream",
     "text": [
      "[('sepal length (cm)', 5.9), ('sepal width (cm)', 3.0), ('petal length (cm)', 5.1), ('petal width (cm)', 1.8)]\n"
     ]
    }
   ],
   "source": [
    "print(list(zip(iris.feature_names, iris.data[-1])))"
   ]
  },
  {
   "cell_type": "markdown",
   "metadata": {},
   "source": [
    "Verify that `iris.target` is the same size as the number of samples in` iris.data`"
   ]
  },
  {
   "cell_type": "code",
   "execution_count": 34,
   "metadata": {},
   "outputs": [
    {
     "name": "stdout",
     "output_type": "stream",
     "text": [
      "(150,)\n"
     ]
    }
   ],
   "source": [
    "print(iris.target.shape)"
   ]
  },
  {
   "cell_type": "markdown",
   "metadata": {},
   "source": [
    "The species we are trying to predict are:"
   ]
  },
  {
   "cell_type": "code",
   "execution_count": 35,
   "metadata": {},
   "outputs": [
    {
     "name": "stdout",
     "output_type": "stream",
     "text": [
      "['setosa' 'versicolor' 'virginica']\n"
     ]
    }
   ],
   "source": [
    "print(iris.target_names)"
   ]
  },
  {
   "cell_type": "markdown",
   "metadata": {},
   "source": [
    "The distribution of elements by label is distributed in the data set, that is, there is the same number of flowers per species:"
   ]
  },
  {
   "cell_type": "code",
   "execution_count": 36,
   "metadata": {},
   "outputs": [
    {
     "name": "stdout",
     "output_type": "stream",
     "text": [
      "[('setosa', 50), ('versicolor', 50), ('virginica', 50)]\n"
     ]
    }
   ],
   "source": [
    "print(list(zip(iris.target_names, np.bincount(iris.target))))"
   ]
  },
  {
   "cell_type": "markdown",
   "metadata": {},
   "source": [
    "### Visualization using Pandas\n",
    "\n",
    "Pandas' scatter_matrix` function allows us to visualize each element of the dataset as a comparison between characteristics:\n",
    "* Sepal length (cm)\n",
    "* Sepal width (cm)\n",
    "* Petal length (cm)\n",
    "* Petal width (cm)\n",
    "\n",
    "Next we compare each pair of features using `scatter_matrix`:"
   ]
  },
  {
   "cell_type": "code",
   "execution_count": 37,
   "metadata": {},
   "outputs": [
    {
     "data": {
      "image/png": "[encoded data removed]",
      "text/plain": [
       "<Figure size 1080x1080 with 16 Axes>"
      ]
     },
     "metadata": {
      "needs_background": "light"
     },
     "output_type": "display_data"
    }
   ],
   "source": [
    "iris_df = pd.DataFrame(iris.data, columns=iris.feature_names)\n",
    "pd.plotting.scatter_matrix(iris_df, c=iris.target, cmap='Set1', figsize=(15, 15));"
   ]
  },
  {
   "cell_type": "markdown",
   "metadata": {},
   "source": [
    "We found that the class represented in red is the Iris Setosa class."
   ]
  },
  {
   "cell_type": "markdown",
   "metadata": {},
   "source": [
    "## Binary classification using Scikit-Learn\n",
    "\n",
    "Now that we know the IRIS dataset, we want to train a model that is capable of automatically classifying any flower represented in a dataset (Petal width (cm), sepal length (cm) ', petal length (cm ) ', petal width (cm)). As in the previous demo, we filter those flowers that belong to the versicolor and virginica class. To check which columns correspond to the length of the sepal and the width of the petal, we print `feature_names`"
   ]
  },
  {
   "cell_type": "code",
   "execution_count": 38,
   "metadata": {},
   "outputs": [
    {
     "name": "stdout",
     "output_type": "stream",
     "text": [
      "['sepal length (cm)', 'sepal width (cm)', 'petal length (cm)', 'petal width (cm)']\n"
     ]
    }
   ],
   "source": [
    "print(iris.feature_names)"
   ]
  },
  {
   "cell_type": "code",
   "execution_count": 39,
   "metadata": {},
   "outputs": [],
   "source": [
    "X = iris.data[:,[0, 3]] # Column 0: sepal length, Column 3: petal width\n",
    "y = iris.target\n",
    "\n",
    "X = X[(y == 1) | (y == 2)] # We filter class 1 and 2 that correspond to versicolor and virginica.\n",
    "y = y[(y == 1) | (y == 2)] \n",
    "\n",
    "y = y - 1 # So that the classes are between 0 and 1"
   ]
  },
  {
   "cell_type": "code",
   "execution_count": 40,
   "metadata": {},
   "outputs": [
    {
     "data": {
      "text/plain": [
       "(100,)"
      ]
     },
     "execution_count": 40,
     "metadata": {},
     "output_type": "execute_result"
    }
   ],
   "source": [
    "y.shape"
   ]
  },
  {
   "cell_type": "markdown",
   "metadata": {},
   "source": [
    "We train the `LogisticRegression` model and verify the predicted values. `LogisticRegression` is a linear model, which means it will create a decision that is linear in the input space. That is, it finds a line that separates the data."
   ]
  },
  {
   "cell_type": "code",
   "execution_count": 41,
   "metadata": {},
   "outputs": [
    {
     "name": "stdout",
     "output_type": "stream",
     "text": [
      "Number of instances to predict: 100\n",
      "Truth values: [0 0 0 0 0 0 0 0 0 0 0 0 0 0 0 0 0 0 0 0 0 0 0 0 0 0 0 0 0 0 0 0 0 0 0 0 0\n",
      " 0 0 0 0 0 0 0 0 0 0 0 0 0 1 1 1 1 1 1 1 1 1 1 1 1 1 1 1 1 1 1 1 1 1 1 1 1\n",
      " 1 1 1 1 1 1 1 1 1 1 1 1 1 1 1 1 1 1 1 1 1 1 1 1 1 1]\n",
      "Predicted values: [0 0 0 0 0 0 0 0 0 0 0 0 0 0 0 0 0 0 0 0 1 0 0 0 0 0 0 1 0 0 0 0 0 0 0 0 0\n",
      " 0 0 0 0 0 0 0 0 0 0 0 0 0 1 1 1 1 1 1 0 1 1 1 1 1 1 1 1 1 1 1 1 0 1 1 1 1\n",
      " 1 1 1 1 1 1 1 1 1 0 0 1 1 1 1 1 1 1 1 1 1 1 1 1 1 1]\n"
     ]
    }
   ],
   "source": [
    "classifier = LogisticRegression(solver='lbfgs', max_iter=200)\n",
    "classifier.fit(X, y)\n",
    "predictions = classifier.predict(X)\n",
    "\n",
    "print('Number of instances to predict: {}'.format(y.shape[0]))\n",
    "print('Truth values: {}'.format(y))\n",
    "print('Predicted values: {}'.format(predictions))"
   ]
  },
  {
   "cell_type": "markdown",
   "metadata": {},
   "source": [
    "**Question**\n",
    "* How do we evaluate the performance of our classifier?"
   ]
  },
  {
   "cell_type": "markdown",
   "metadata": {},
   "source": [
    "# Performance evaluation - Binary classification"
   ]
  },
  {
   "cell_type": "markdown",
   "metadata": {},
   "source": [
    "In order to know the performance of our classifier, how many predictions were correct are measured quantitatively. This number is known as **accuracy**."
   ]
  },
  {
   "cell_type": "code",
   "execution_count": 42,
   "metadata": {},
   "outputs": [
    {
     "data": {
      "text/plain": [
       "0.94"
      ]
     },
     "execution_count": 42,
     "metadata": {},
     "output_type": "execute_result"
    }
   ],
   "source": [
    "prediction = classifier.predict(X)\n",
    "np.mean(prediction == y)"
   ]
  },
  {
   "cell_type": "markdown",
   "metadata": {},
   "source": [
    "Scikit allows us to also evaluate the accuracy with the `.score ()` function."
   ]
  },
  {
   "cell_type": "code",
   "execution_count": 43,
   "metadata": {},
   "outputs": [
    {
     "data": {
      "text/plain": [
       "0.94"
      ]
     },
     "execution_count": 43,
     "metadata": {},
     "output_type": "execute_result"
    }
   ],
   "source": [
    "classifier.score(X, y)"
   ]
  },
  {
   "cell_type": "markdown",
   "metadata": {},
   "source": [
    "### confusion matrix\n",
    "\n",
    "However, it is desirable to know which classes you rank best. In order to visualize this information, we will use the confusion matrix, which is a special class of contingency table in which the real classes are compared against the classes predicted by the classifier. Scikit-Learn allows us to build the confusion matrix using `sklearn.metrics.confusion_matrix`. `confusion_matrix` receives as argument two lists or NumPy arrays:\n",
    "* $ and $: Actual dataset labels\n",
    "* $ \\hat {y} $: Tags predicted by the classifier on the dataset"
   ]
  },
  {
   "cell_type": "code",
   "execution_count": 44,
   "metadata": {},
   "outputs": [],
   "source": [
    "from sklearn.metrics import confusion_matrix\n",
    "from tabulate import tabulate\n",
    "prediction = classifier.predict(X)\n",
    "cnf_matrix = confusion_matrix(y, prediction)"
   ]
  },
  {
   "cell_type": "markdown",
   "metadata": {},
   "source": [
    "`confusion_matrix` returns an array of size [$ \\textit {n_classes} $, $ \\textit {n_classes} $], where $ \\textit {n_classes} $ corresponds to the number of unique classes in the dataset. The confusion matrix allows us to compare the performance of our classifier by class."
   ]
  },
  {
   "cell_type": "code",
   "execution_count": 45,
   "metadata": {},
   "outputs": [
    {
     "name": "stdout",
     "output_type": "stream",
     "text": [
      "[[48  2]\n",
      " [ 4 46]]\n"
     ]
    }
   ],
   "source": [
    "print(cnf_matrix)"
   ]
  },
  {
   "cell_type": "markdown",
   "metadata": {},
   "source": [
    "Next, we are going to use the function defined at the beginning to generate the confusion matrix in a more visual way."
   ]
  },
  {
   "cell_type": "code",
   "execution_count": 46,
   "metadata": {},
   "outputs": [
    {
     "name": "stdout",
     "output_type": "stream",
     "text": [
      "                   Value       Predicted\n",
      "-----  ----------  ----------  -----------\n",
      "       -           versicolor  virginica\n",
      "Value  versicolor  48          2\n",
      "True   virginica   4           46\n"
     ]
    }
   ],
   "source": [
    "class_names = iris.target_names[1:]\n",
    "list_cm(cnf_matrix,class_names)"
   ]
  },
  {
   "cell_type": "markdown",
   "metadata": {},
   "source": [
    "### **How to interpret it?**\n",
    "\n",
    "* The values on the diagonal indicate the successes of our classifier. For example, we know that of 50 examples of the versicolor class, he knew how to classify 48. While of 50 examples of the virginica class, he was wrong in 4.\n",
    "* Accuracy and error can be defined from the confusion matrix:"
   ]
  },
  {
   "cell_type": "code",
   "execution_count": 47,
   "metadata": {},
   "outputs": [
    {
     "name": "stdout",
     "output_type": "stream",
     "text": [
      "Accuracy: 0.94\n"
     ]
    }
   ],
   "source": [
    "acc = np.sum([cnf_matrix[i, i] for i in range(cnf_matrix.shape[0])])/np.sum(cnf_matrix)\n",
    "\n",
    "print('Accuracy: {}'.format(acc))"
   ]
  },
  {
   "cell_type": "code",
   "execution_count": 48,
   "metadata": {},
   "outputs": [
    {
     "name": "stdout",
     "output_type": "stream",
     "text": [
      "Error: 0.06\n"
     ]
    }
   ],
   "source": [
    "err = np.sum([cnf_matrix[0, 1], cnf_matrix[1, 0]])/np.sum(cnf_matrix)\n",
    "\n",
    "print('Error: {}'.format(err))"
   ]
  },
  {
   "cell_type": "markdown",
   "metadata": {},
   "source": [
    "### What happens when the problem is unbalanced?\n",
    "\n",
    "Suppose a classifier $ G $ with the following performance on a dataset:\n",
    "\n",
    "* $ Accuracy = \\frac {99} {100} = 99 \\% $\n",
    "* $ Error = \\frac {1} {100} = 1 \\% $\n",
    "\n",
    "**Is it a good classifier?**"
   ]
  },
  {
   "cell_type": "markdown",
   "metadata": {},
   "source": [
    "To effectively measure whether $ G $ is a good classifier, we present the confusion matrix from its predictions."
   ]
  },
  {
   "cell_type": "code",
   "execution_count": 50,
   "metadata": {},
   "outputs": [
    {
     "name": "stdout",
     "output_type": "stream",
     "text": [
      "            Value    Predicted\n",
      "-----  ---  -------  -----------\n",
      "       -    C_+      C_-\n",
      "Value  C_+  0        1\n",
      "True   C_-  0        99\n"
     ]
    }
   ],
   "source": [
    "class_names = ['C_+', 'C_-']\n",
    "y_pred = np.ones(100)\n",
    "y_test = np.ones(100)\n",
    "y_test[-1] = 0\n",
    "mat = confusion_matrix(y_test, y_pred)\n",
    "list_cm(mat,class_names)"
   ]
  },
  {
   "cell_type": "markdown",
   "metadata": {},
   "source": [
    "Although the model correctly classified 99 samples from the negative class, it failed to classify the only positive sample from the data set.\n",
    "\n",
    "### Precision, Recall and F1\n",
    "The confusion matrix allows us to calculate another series of measures to evaluate the performance of the classifier. To introduce these measures, we are going to decompose the confusion matrix into four parts:\n",
    "\n",
    "<img src = \"https://drive.google.com/uc?export=view&id=1NwaZST2l_A8ohWZCdYt15zXq3rP0dbrw\">\n",
    "\n",
    "\n",
    "The components of this matrix can be interpreted as:\n",
    "* TP: True positives. Correct result for the positive class.\n",
    "* TN: True negatives. Correct absence for the positive class.\n",
    "* FP: False positives. Unexpected results.\n",
    "* FN: False negatives. Missing results.\n",
    "\n",
    "It is worth clarifying that in binary classification, the terms *positive* or *negative* refer to the prediction of the classifier (Class), while *true* or *false* refer to whether the prediction was correct or not."
   ]
  },
  {
   "cell_type": "markdown",
   "metadata": {},
   "source": [
    "From this matrix we can rewrite the definitions of accuracy and error:\n",
    "* $ accuracy = \\frac {TP + TN} {TP + FN + FP + TN} $\n",
    "* $ error = \\frac {FP + FN} {TP + FN + FP + TN} $\n",
    "\n",
    "As well as the definitions of precision, recall and f1 score:\n",
    "\n",
    "* $ PRE = \\frac {TP} {TP + FP} $\n",
    "* $ REC = \\frac {TP} {FN + TP} $\n",
    "* $ F_1 = 2 * \\frac {PRE * REC} {PRE + REC} $\n",
    "\n",
    "Accuracy can be defined as the ability of the classifier to ** not ** classify a sample as positive when it is negative. While the recall (recovery index) can be defined as the ability of the classifier to find all positive samples. $ F_1 \\ textit {score} $ is defined as the weighted average of precision and recall. Let's evaluate the precision and recovery rate of our classifier $ G $:\n",
    "\n",
    "* $ PRE = \\frac {0} {0} $ = Not defined\n",
    "* $ REC = \\frac {0} {1} = 0 \\% $ Recall\n",
    "\n",
    "Scikit-learn provides different functions to calculate these three measurements. We are going to measure the performance on the classifier $ G $"
   ]
  },
  {
   "cell_type": "code",
   "execution_count": 51,
   "metadata": {},
   "outputs": [
    {
     "name": "stdout",
     "output_type": "stream",
     "text": [
      "Precision: 0.0\n",
      "Recall: 0.0\n",
      "F_1 score: 0.0\n"
     ]
    },
    {
     "name": "stderr",
     "output_type": "stream",
     "text": [
      "C:\\Users\\TheGlitchCat\\Anaconda3\\lib\\site-packages\\sklearn\\metrics\\classification.py:1437: UndefinedMetricWarning: Precision is ill-defined and being set to 0.0 due to no predicted samples.\n",
      "  'precision', 'predicted', average, warn_for)\n",
      "C:\\Users\\TheGlitchCat\\Anaconda3\\lib\\site-packages\\sklearn\\metrics\\classification.py:1437: UndefinedMetricWarning: F-score is ill-defined and being set to 0.0 due to no predicted samples.\n",
      "  'precision', 'predicted', average, warn_for)\n"
     ]
    }
   ],
   "source": [
    "from sklearn import metrics\n",
    "\n",
    "print('Precision: {}'.format(metrics.precision_score(y_test, y_pred, pos_label=0 )))\n",
    "print('Recall: {}'.format(metrics.recall_score(y_test, y_pred,  pos_label=0)))\n",
    "print('F_1 score: {}'.format(metrics.f1_score(y_test, y_pred,  pos_label=0)))"
   ]
  },
  {
   "cell_type": "markdown",
   "metadata": {},
   "source": [
    "The `pos_label` parameter indicates which label corresponds to the positive class. For our example we have taken the class $ 0 $ as the positive class. On the other hand, the `Warning` generated by Scikit-Learn corresponds to the fact that the measure could not be calculated correctly, due to the presence of a denominator in $ 0 $, therefore $ 0 $ is assigned to the measure. These measures indicate that the classifier $ G $ is not the best option to solve the problem.\n",
    "\n",
    "### Accuracy, recall and F1 on IRIS\n",
    "Returning to the binary classification problem on IRIS, we can calculate precision, recall and F1 in the same way:"
   ]
  },
  {
   "cell_type": "code",
   "execution_count": 52,
   "metadata": {},
   "outputs": [
    {
     "name": "stdout",
     "output_type": "stream",
     "text": [
      "Precision: 0.9583333333333334\n",
      "Recall: 0.92\n",
      "F_1 score: 0.9387755102040817\n"
     ]
    }
   ],
   "source": [
    "print('Precision: {}'.format(metrics.precision_score(y, prediction)))\n",
    "print('Recall: {}'.format(metrics.recall_score(y, prediction)))\n",
    "print('F_1 score: {}'.format(metrics.f1_score(y, prediction)))"
   ]
  },
  {
   "cell_type": "markdown",
   "metadata": {},
   "source": [
    "## Multiclass classification"
   ]
  },
  {
   "cell_type": "markdown",
   "metadata": {},
   "source": [
    "**How to extend to a solution that involves more than two classes?**\n",
    "\n",
    "There are two solutions:\n",
    "* One against the rest (One vs All). For this, we follow the following steps:\n",
    "     * We built a classifier using logistic regression $ h_\\theta ^ {(i)} (x) $ for each class $ i $, in which we try to predict the probability that $ y = i $\n",
    "     * When a new example $ x $ arrives, we choose what class $ i $ to maximize:\n",
    "$$ \\max_{i} h_\\theta ^ {(i)} (x) $$\n",
    "\n",
    "<img src = \"https://drive.google.com/uc?export=view&id=1WhINPmEOyH3ClCtmuPL9TogOan31k7Tk\">\n",
    "\n",
    "Source: https://www.coursera.org/learn/machine-learning/lecture/68Pol/multiclass-classification-one-vs-all"
   ]
  },
  {
   "cell_type": "markdown",
   "metadata": {},
   "source": [
    "To indicate that the multiclass classification strategy is \"*One vs Rest*\", we modified the `multi_class` parameter in the call to` LogisticRegression () `."
   ]
  },
  {
   "cell_type": "code",
   "execution_count": 54,
   "metadata": {},
   "outputs": [
    {
     "data": {
      "text/plain": [
       "LogisticRegression(C=1.0, class_weight=None, dual=False, fit_intercept=True,\n",
       "                   intercept_scaling=1, l1_ratio=None, max_iter=100,\n",
       "                   multi_class='ovr', n_jobs=None, penalty='l2',\n",
       "                   random_state=None, solver='lbfgs', tol=0.0001, verbose=0,\n",
       "                   warm_start=False)"
      ]
     },
     "execution_count": 54,
     "metadata": {},
     "output_type": "execute_result"
    }
   ],
   "source": [
    "X = iris.data[:,[0, 2]] \n",
    "y = iris.target\n",
    "\n",
    "classifier_ovr = LogisticRegression(multi_class='ovr', solver='lbfgs')\n",
    "classifier_ovr.fit(X, y)"
   ]
  },
  {
   "cell_type": "markdown",
   "metadata": {},
   "source": [
    "Below we visualize the decision function for the multiclass problem."
   ]
  },
  {
   "cell_type": "code",
   "execution_count": 55,
   "metadata": {},
   "outputs": [
    {
     "data": {
      "image/png": "[encoded data removed]",
      "text/plain": [
       "<Figure size 576x384 with 2 Axes>"
      ]
     },
     "metadata": {
      "needs_background": "light"
     },
     "output_type": "display_data"
    }
   ],
   "source": [
    "pl.figure(figsize = (8,16/3))    \n",
    "plot_decision_region(X, gen_pred_fun(classifier_ovr))\n",
    "plot_data(X, y)"
   ]
  },
  {
   "cell_type": "markdown",
   "metadata": {},
   "source": [
    "* Multinomial logistic regression:\n",
    "     The logistic function can be generalized so that it learns a probability distribution over all classes. This function is known as the **SoftMax** function. For this, $ P (y = i \\mid \\mathbf {x}) $ can be written like this:\n",
    "$$ P (y = i \\mid \\mathbf {x}) = {\\frac {e ^ {\\mathbf {x} ^ {\\mathsf {T}} \\mathbf {w}_{i}}} {\\sum_{k = 1} ^ {K} e ^ {\\mathbf {x} ^ {\\mathsf {T}} \\mathbf {w}_{k}}}} $$\n",
    "where $ x $ corresponds to my feature vector, $ K $ to the number of classes and $ w $ to the coefficients of the function $ wx + w_0 $ for the class $ i $."
   ]
  },
  {
   "cell_type": "code",
   "execution_count": 56,
   "metadata": {},
   "outputs": [
    {
     "data": {
      "image/png": "[encoded data removed]",
      "text/plain": [
       "<Figure size 576x384 with 2 Axes>"
      ]
     },
     "metadata": {
      "needs_background": "light"
     },
     "output_type": "display_data"
    }
   ],
   "source": [
    "classifier_multi = LogisticRegression(multi_class='multinomial', solver='lbfgs');\n",
    "classifier_multi.fit(X, y)\n",
    "\n",
    "pl.figure(figsize = (8,16/3))    \n",
    "plot_decision_region(X, gen_pred_fun(classifier_multi))\n",
    "plot_data(X, y)"
   ]
  },
  {
   "cell_type": "markdown",
   "metadata": {},
   "source": [
    "## Performance evaluation - Multiclass case\n",
    "\n",
    "The confusion matrix can be extended to the multiclass problem as follows:\n",
    "\n",
    "### Confusion matrix in the multiclass case\n",
    "\n",
    "First, we will visualize the confusion matrix for the multinomial logistic regression model."
   ]
  },
  {
   "cell_type": "code",
   "execution_count": 57,
   "metadata": {},
   "outputs": [
    {
     "name": "stdout",
     "output_type": "stream",
     "text": [
      "                   Value    Predicted\n",
      "-----  ----------  -------  -----------  ---------\n",
      "       -           setosa   versicolor   virginica\n",
      "Value  setosa      50       0            0\n",
      "True   versicolor  0        47           3\n",
      "       virginica   0        3            47\n"
     ]
    }
   ],
   "source": [
    "class_names = iris.target_names\n",
    "y_pred = classifier_multi.predict(X)\n",
    "mat = confusion_matrix(y, y_pred)\n",
    "list_cm(mat,class_names)"
   ]
  },
  {
   "cell_type": "markdown",
   "metadata": {},
   "source": [
    "Now we calculate the confusion matrix for the logistic regression method using the strategy \"*One against all*\""
   ]
  },
  {
   "cell_type": "code",
   "execution_count": 59,
   "metadata": {},
   "outputs": [
    {
     "name": "stdout",
     "output_type": "stream",
     "text": [
      "                   Value    Predicted\n",
      "-----  ----------  -------  -----------  ---------\n",
      "       -           setosa   versicolor   virginica\n",
      "Value  setosa      50       0            0\n",
      "True   versicolor  0        42           8\n",
      "       virginica   0        1            49\n"
     ]
    }
   ],
   "source": [
    "class_names = iris.target_names\n",
    "y_pred = classifier_ovr.predict(X)\n",
    "mat = confusion_matrix(y, y_pred)\n",
    "list_cm(mat,class_names)"
   ]
  },
  {
   "cell_type": "markdown",
   "metadata": {},
   "source": [
    "At a glance we can mention that:\n",
    "* The *setosa* class is easy to classify for both classifiers.\n",
    "* Although the model using \"*One vs. All*\" performs better in the *virginica* class, it performs poorly in the *versicolor* class, compared to the model using multinomial logistic regression.\n",
    "\n",
    "Again, it is useful to use a performance measure to quantitatively compare the performance of both models.\n",
    "\n",
    "### Accuracy multiclass\n",
    "\n",
    "Multiclass accuracy is defined as the fraction of correct predictions from the classifier. It can be calculated from the following formula:\n",
    "\n",
    "$$\n",
    "\\texttt {acc} (y, \\hat {y}) = \\frac {1} {n} \\sum_{i = 0} ^ {n-1} 1 (\\hat {y}_i = y_i)\n",
    "$$\n",
    "\n",
    "where $ and $ corresponds to the truth tag list of our data set, while $ \\hat {y} $ corresponds to the values ​​predicted by our classifier for the same data set and **in the same order**. $ n $ corresponds to the example number in the set. Scikit-Learn allows us to calculate the accuracy in the same way:"
   ]
  },
  {
   "cell_type": "code",
   "execution_count": 60,
   "metadata": {},
   "outputs": [
    {
     "name": "stdout",
     "output_type": "stream",
     "text": [
      "Accuracy OVR classifier: 0.94\n",
      "Accuracy Multinomial classifier: 0.96\n"
     ]
    }
   ],
   "source": [
    "print('Accuracy OVR classifier: {}'.format(classifier_ovr.score(X, y)))\n",
    "print('Accuracy Multinomial classifier: {}'.format(classifier_multi.score(X, y)))"
   ]
  },
  {
   "cell_type": "markdown",
   "metadata": {},
   "source": [
    "The logistic regression model performs better against the \"*One vs. All*\" model. Error can be defined as the fraction of incorrect classifier predictions:"
   ]
  },
  {
   "cell_type": "code",
   "execution_count": 61,
   "metadata": {},
   "outputs": [
    {
     "name": "stdout",
     "output_type": "stream",
     "text": [
      "Error OVR classifier: 0.06000000000000005\n",
      "Error Multinomial classifier: 0.040000000000000036\n"
     ]
    }
   ],
   "source": [
    "print('Error OVR classifier: {}'.format(1-classifier_ovr.score(X, y)))\n",
    "print('Error Multinomial classifier: {}'.format(1-classifier_multi.score(X, y)))"
   ]
  },
  {
   "cell_type": "markdown",
   "metadata": {},
   "source": [
    "### Precision and recall on multiclass problem\n",
    "\n",
    "Precision was calculated based on the confusion matrix of the binary classification problem. However, it can be extended as a performance measure for the multiclass problem in several ways. Remember that:\n",
    "\n",
    "* $ Precision = \\frac {TP} {TP + FP} $\n",
    "* $ Recall = \\frac {TP} {TP + FN} $\n",
    "* $ F_1 = 2 * \\frac {PRE * REC} {PRE + REC} $\n",
    "\n",
    "To illustrate how each of these measures is calculated, we will use the logistic regression classifier with the \"*One vs All*\" scheme. We first calculate the *precision* for each class and then determine how we combine the accuracies of each class:\n",
    "\n",
    "| Class | tp | fp | fn | PRE | REC |\n",
    "| ---------- | ------ | ------ | ------ | ------ | ------ |\n",
    "| Setosa | 50 | 0 | 0 | 1.0 | 1.0 |\n",
    "| | | | | | |\n",
    "| Versicolor | 40 | 1 | 10 | 0.98 | 0.8 |\n",
    "| | | | | | |\n",
    "| Virginica | 49 | 10 | 1 | 0.83 | 0.98 |\n",
    "\n",
    "Scikit-Learn allows us to calculate accuracy by class like so:"
   ]
  },
  {
   "cell_type": "code",
   "execution_count": 63,
   "metadata": {},
   "outputs": [
    {
     "name": "stdout",
     "output_type": "stream",
     "text": [
      "Label order: ['setosa' 'versicolor' 'virginica']\n",
      "Accuracy by class: [1.         0.97674419 0.85964912]\n"
     ]
    }
   ],
   "source": [
    "from sklearn.metrics import precision_score\n",
    "y_pred = classifier_ovr.predict(X)\n",
    "print('Label order: {}'.format(iris.target_names))\n",
    "print('Accuracy by class: {}'.format(precision_score(y, y_pred, average=None)))"
   ]
  },
  {
   "cell_type": "markdown",
   "metadata": {},
   "source": [
    "We add a couple of calculations to our table, where we reflect the sum of the total values ​​of true positives, false positives, and false negatives. There are several ways to combine precision and recall measurements by class:\n",
    "* `micro`: Counts the total of true positives, false positives and false negatives\n",
    "* `macro`: Calculate the precision per class and then the average. (Without taking into account the balance of classes)\n",
    "* `weighted`: Calculate the precision per class and then the average taking into account the class balance\n",
    "\n",
    "| Class | tp | fp | fn | PRE | REC |\n",
    "| ---------- | ------ | ------ | ------ | ------ | ------ |\n",
    "| Setosa | 50 | 0 | 0 | 1.0 | 1.0 |\n",
    "| | | | | | |\n",
    "| Versicolor | 40 | 1 | 10 | 0.98 | 0.8 |\n",
    "| | | | | | |\n",
    "| Virginica | 49 | 10 | 1 | 0.83 | 0.98 |\n",
    "| | | | | | |\n",
    "| Sum (micro) | 139 | 11 | 11 | 0.92 | 0.92 |\n",
    "| | | | | | |\n",
    "| Avg (macro) | | | | 0.93 | 0.92 |"
   ]
  },
  {
   "cell_type": "code",
   "execution_count": 64,
   "metadata": {},
   "outputs": [
    {
     "name": "stdout",
     "output_type": "stream",
     "text": [
      "Macro precision: 0.9454644362845097\n",
      "Micro precision: 0.94\n",
      "Heavy precision: 0.9454644362845098\n"
     ]
    }
   ],
   "source": [
    "print ('Macro precision: {}'. format (precision_score (y, y_pred, average = 'macro')))\n",
    "print ('Micro precision: {}'. format (precision_score (y, y_pred, average = 'micro')))\n",
    "print ('Heavy precision: {}'. format (precision_score (y, y_pred, average = 'weighted')))"
   ]
  },
  {
   "cell_type": "code",
   "execution_count": null,
   "metadata": {},
   "outputs": [],
   "source": []
  }
 ],
 "metadata": {
  "kernelspec": {
   "display_name": "Python 3",
   "language": "python",
   "name": "python3"
  },
  "language_info": {
   "codemirror_mode": {
    "name": "ipython",
    "version": 3
   },
   "file_extension": ".py",
   "mimetype": "text/x-python",
   "name": "python",
   "nbconvert_exporter": "python",
   "pygments_lexer": "ipython3",
   "version": "3.7.4"
  }
 },
 "nbformat": 4,
 "nbformat_minor": 2
}
