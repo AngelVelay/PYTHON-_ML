{
 "cells": [
  {
   "cell_type": "markdown",
   "metadata": {
    "colab_type": "text",
    "id": "13pBhcpepPQB"
   },
   "source": [
    "# Introduction to Machine Learning\n"
   ]
  },
  {
   "cell_type": "markdown",
   "metadata": {
    "colab_type": "text",
    "id": "KV50uBY7pPQC"
   },
   "source": [
    "**Machine Learning** focus on the study and construction of systems that can learn from data.\n",
    "The main problem is find patterns, relation and regularities about the data, which can let us build descriptive and predictive models. \n",
    "\n",
    "one of all uses of **ML** is spam detection.\n",
    "\n",
    "To build a model, you must have two key concepts, the first is model must perform a **Automatic Sorting Process**, without the user explicitly specifying the way in which the classification is carried out.\n",
    "\n",
    "For example, the model receives examples of emails that are spam and examples of emails that are not. The second concept is that the model must be capable of **generalization**, that is, the model must be able to predict data never seen before. In the example of spam filtering, we are interested in automatically classifying the emails that arrive in the user's inbox.\n",
    "\n",
    "Next, we will address a binary classification problem about a subset of the IRIS dataset."
   ]
  },
  {
   "cell_type": "markdown",
   "metadata": {
    "colab_type": "text",
    "id": "4IdgjH40pPQD"
   },
   "source": [
    "# A two-class classification problem\n",
    "\n",
    "The following code will load a data set (IRIS) that will serve to illustrate what a classification problem consists of and how to solve it with a machine learning model. For now we are not going to worry about where the data comes from and how it is processed (this will be discussed in the next session)."
   ]
  },
  {
   "cell_type": "markdown",
   "metadata": {
    "colab_type": "text",
    "id": "9563qdzi4O84"
   },
   "source": [
    "Next, we will load all the necessary libraries to work on the notebook:"
   ]
  },
  {
   "cell_type": "code",
   "execution_count": 1,
   "metadata": {
    "colab": {},
    "colab_type": "code",
    "id": "0VYm1wynaWu8"
   },
   "outputs": [],
   "source": [
    "%matplotlib inline\n",
    "import numpy as np\n",
    "import pylab as pl\n",
    "from sklearn import preprocessing\n",
    "from sklearn import datasets\n",
    "from io import BytesIO\n",
    "from PIL import Image"
   ]
  },
  {
   "cell_type": "markdown",
   "metadata": {
    "colab_type": "text",
    "id": "0CWkpIGB4Tct"
   },
   "source": [
    "The next line loads the IRIS flower dataset"
   ]
  },
  {
   "cell_type": "code",
   "execution_count": 2,
   "metadata": {
    "colab": {},
    "colab_type": "code",
    "id": "jXXvdg724UO6"
   },
   "outputs": [],
   "source": [
    "iris = datasets.load_iris()"
   ]
  },
  {
   "cell_type": "markdown",
   "metadata": {
    "colab_type": "text",
    "id": "BDDxjgUg4UIl"
   },
   "source": [
    "In the following function, the data can be graphed by choosing two characteristics from the Iris database."
   ]
  },
  {
   "cell_type": "code",
   "execution_count": 4,
   "metadata": {
    "colab": {
     "base_uri": "https://localhost:8080/",
     "height": 459
    },
    "colab_type": "code",
    "id": "gPS-NHDdpPQE",
    "outputId": "ae7e39e7-21f8-432c-99fd-c3c3bba20727"
   },
   "outputs": [
    {
     "data": {
      "image/png": "[encoded data removed]",
      "text/plain": [
       "<Figure size 576x432 with 1 Axes>"
      ]
     },
     "metadata": {
      "needs_background": "light"
     },
     "output_type": "display_data"
    }
   ],
   "source": [
    "def plot_data(X, y):\n",
    "    y_unique = np.unique(y)\n",
    "    colors = pl.cm.rainbow(np.linspace(0.0, 1.0, y_unique.size))\n",
    "    for this_y, color in zip(y_unique, colors):\n",
    "        this_X = X[y == this_y]\n",
    "        pl.scatter(this_X[:, 0], this_X[:, 1],  color=color,\n",
    "                    alpha=0.5, edgecolor='k',\n",
    "                    label=\"Class %s\" % this_y)\n",
    "    pl.legend(loc=\"best\")\n",
    "    pl.title(\"Data\")\n",
    "\n",
    "y = 2*iris.target[iris.target != 0] - 3\n",
    "X_noscale = iris.data[:,[1, 3]]\n",
    "X_noscale = X_noscale[iris.target != 0, :]\n",
    "X = preprocessing.scale(X_noscale)\n",
    "\n",
    "\n",
    "pl.figure(figsize=(8, 6))\n",
    "pl.xlabel('Sepal Width')\n",
    "pl.ylabel('Petal Width')\n",
    "plot_data(X_noscale, y)"
   ]
  },
  {
   "cell_type": "markdown",
   "metadata": {
    "colab_type": "text",
    "id": "jyogyjcrpPQJ"
   },
   "source": [
    "The data must be presented as two-dimensional arrays of numbers. Each row corresponds to a training instance, about which we want to learn or make a prediction about its data."
   ]
  },
  {
   "cell_type": "markdown",
   "metadata": {
    "colab_type": "text",
    "id": "aRpqE7S6pPQL"
   },
   "source": [
    "Let's check the size of each built array"
   ]
  },
  {
   "cell_type": "code",
   "execution_count": 5,
   "metadata": {
    "colab": {
     "base_uri": "https://localhost:8080/",
     "height": 52
    },
    "colab_type": "code",
    "id": "jz8VH_rwpPQL",
    "outputId": "6b3bc37a-9a89-40d6-d5c6-2b57f2a6d984"
   },
   "outputs": [
    {
     "name": "stdout",
     "output_type": "stream",
     "text": [
      "(100, 2)\n",
      "(100,)\n"
     ]
    }
   ],
   "source": [
    "print(X.shape)\n",
    "print(y.shape)"
   ]
  },
  {
   "cell_type": "code",
   "execution_count": 6,
   "metadata": {
    "colab": {
     "base_uri": "https://localhost:8080/",
     "height": 35
    },
    "colab_type": "code",
    "id": "4w16Ae3cpPQQ",
    "outputId": "211c5297-a283-44fc-fb23-28577bd26a3b"
   },
   "outputs": [
    {
     "data": {
      "text/plain": [
       "(array([-1,  1]), array([50, 50], dtype=int64))"
      ]
     },
     "execution_count": 6,
     "metadata": {},
     "output_type": "execute_result"
    }
   ],
   "source": [
    "np.unique(y, return_counts=True)"
   ]
  },
  {
   "cell_type": "markdown",
   "metadata": {
    "colab_type": "text",
    "id": "-hNob0J7pPQT"
   },
   "source": [
    "We observe that each class has 50 examples in total. Data in one class is represented by a positive label, 1, and data in the other class by a negative label, -1."
   ]
  },
  {
   "cell_type": "code",
   "execution_count": 7,
   "metadata": {
    "colab": {
     "base_uri": "https://localhost:8080/",
     "height": 104
    },
    "colab_type": "code",
    "id": "3h962sAfrXnr",
    "outputId": "87025e2b-8f13-4341-a6c8-c112002200bc"
   },
   "outputs": [
    {
     "name": "stdout",
     "output_type": "stream",
     "text": [
      "[-1 -1 -1 -1 -1 -1 -1 -1 -1 -1 -1 -1 -1 -1 -1 -1 -1 -1 -1 -1 -1 -1 -1 -1\n",
      " -1 -1 -1 -1 -1 -1 -1 -1 -1 -1 -1 -1 -1 -1 -1 -1 -1 -1 -1 -1 -1 -1 -1 -1\n",
      " -1 -1  1  1  1  1  1  1  1  1  1  1  1  1  1  1  1  1  1  1  1  1  1  1\n",
      "  1  1  1  1  1  1  1  1  1  1  1  1  1  1  1  1  1  1  1  1  1  1  1  1\n",
      "  1  1  1  1]\n"
     ]
    }
   ],
   "source": [
    "print(y)"
   ]
  },
  {
   "cell_type": "markdown",
   "metadata": {
    "colab_type": "text",
    "id": "7A85yN-vpPQU"
   },
   "source": [
    "## Question\n",
    "**How do we automatically differentiate between the two classes?**\n",
    "\n",
    "In other words, if you give me a new example, I want to be able to classify it into one of these two classes."
   ]
  },
  {
   "cell_type": "markdown",
   "metadata": {
    "colab_type": "text",
    "id": "qoJ3wl4BpPQU"
   },
   "source": [
    "# Classification using a linear model"
   ]
  },
  {
   "cell_type": "markdown",
   "metadata": {
    "colab_type": "text",
    "id": "QWvUeu1CpPQV"
   },
   "source": [
    "## Linear discrimination\n",
    "\n",
    "* Our classification model is a function that receives an example $x$ and returns the prediction. This function is based on a function (called discriminant) $f:\\mathbb{R}^{2} \\rightarrow \\mathbb{R}$ such that:\n",
    "$$\\textrm{Prediction}(x) = \\begin{cases}\n",
    "C_{1} & \\mbox{if} f (x) \\ge \\theta \\\\\n",
    "C_{2} & \\mbox{if} f (x) < \\theta\n",
    "\\end{cases} $$\n",
    "\n",
    "* In the case of linear discrimination, we define $f$ as a linear model with parameters $w$ and $w_0$:\n",
    "$$f(x) = wx + w_0 $$"
   ]
  },
  {
   "cell_type": "markdown",
   "metadata": {
    "colab_type": "text",
    "id": "ayzdZfmmpPQW"
   },
   "source": [
    "### Problems\n",
    "\n",
    "* **How to find $f$?**\n",
    "\n",
    "* **How do we estimate $w$ and $w_0$?**"
   ]
  },
  {
   "cell_type": "markdown",
   "metadata": {
    "colab_type": "text",
    "id": "PZTD8EcZpPQW"
   },
   "source": [
    "## Loss functions\n",
    "\n",
    "Loss is the penalty for a wrong prediction. In other words, the loss indicates how wrong the prediction of a model was in an example. If my model's prediction is perfect, the loss is **zero**, otherwise the loss is going to be a number greater than zero.\n",
    "\n",
    "A very common loss function is quadratic loss:\n",
    "$$ L (f, D) = \\sum_{(x_{i}, r_{i}) \\in D}(r_i - f (x_i))^2 $$\n",
    "\n",
    "where:\n",
    "* $ (x_ {i}, r_ {i}) $ is an example in which $ x_i $ corresponds to a set of characteristics, in our data set, it corresponds to the 2 characteristics extracted from a flower (sepal width and petal width). These characteristics are used by the model to make predictions. $ r_i $ corresponds to the label of the example, for example the species of the flower.\n",
    "* $ f (x_i) $ corresponds to the prediction function that we previously defined. This function is of the form $ f (x) = wx + w_0 $.\n",
    "* $ D $ corresponds to the dataset made up of several annotated examples."
   ]
  },
  {
   "cell_type": "markdown",
   "metadata": {
    "colab_type": "text",
    "id": "TjiSUzEBpPQX"
   },
   "source": [
    "## Learning as optimization\n",
    "\n",
    "* Estimating the parameters $ w $ and $ w_0 $ can be approached as an optimization problem that consists of:\n",
    "$$ \\min_{f \\in H} L (f, D) $$\n",
    "where $ L (f, D) $ is the quadratic loss function. This is summarized by finding a function $ f $ that generates the minimum average loss value with respect to all the examples in the data set.\n",
    "* The $ f $ function comes from a set of functions called the hypothesis space:\n",
    "$$ H = \\{f_w (x, y) = wx + w_0, \\forall w \\in \\mathbb{R} ^ n \\ y \\ w_0 \\in \\mathbb {R} \\} $$\n",
    "where $ w $ and $ w_0 $ are the coefficients of the function $ f (x) = wx + w_0 $.\n",
    "* The loss function helps us to estimate how bad a function $ f $ in the hypothesis space behaves with respect to the data set $ D $."
   ]
  },
  {
   "cell_type": "markdown",
   "metadata": {
    "colab_type": "text",
    "id": "Jx_jZfKepPQY"
   },
   "source": [
    "Next, we define the prediction and loss functions in Python, for our problem."
   ]
  },
  {
   "cell_type": "code",
   "execution_count": 8,
   "metadata": {
    "colab": {},
    "colab_type": "code",
    "id": "YJk6hCAxpPQZ"
   },
   "outputs": [],
   "source": [
    "def predict(w, x):\n",
    "    a = np.dot(w[1:], x) + w[0]\n",
    "    return a"
   ]
  },
  {
   "cell_type": "code",
   "execution_count": 9,
   "metadata": {
    "colab": {},
    "colab_type": "code",
    "id": "8FufsqudpPQb"
   },
   "outputs": [],
   "source": [
    "def square_loss(w, x, y):\n",
    "    return (y - predict(w, x)) ** 2 / 2\n",
    "\n",
    "def batch_loss(loss_fun, w, X, Y):\n",
    "    n = X.shape[0]\n",
    "    tot_loss = 0\n",
    "    for i in range(n):\n",
    "        tot_loss += loss_fun(w, X[i], Y[i])\n",
    "    return tot_loss"
   ]
  },
  {
   "cell_type": "markdown",
   "metadata": {
    "colab_type": "text",
    "id": "OyudE9oZpPQe"
   },
   "source": [
    "Suppose $ w $ and $ w_0 $:\n",
    "* $ w = [5, 2] $\n",
    "* $ w_0 = 1 $\n",
    "\n",
    "We choose the first example from our Iris dataset:"
   ]
  },
  {
   "cell_type": "code",
   "execution_count": 11,
   "metadata": {
    "colab": {
     "base_uri": "https://localhost:8080/",
     "height": 69
    },
    "colab_type": "code",
    "id": "lXWsUOdYpPQf",
    "outputId": "ec2389c7-8b1b-4282-aa4e-a8c39c6c1ed0"
   },
   "outputs": [
    {
     "name": "stdout",
     "output_type": "stream",
     "text": [
      "Features: [ 0.99068792 -0.65303909]\n",
      "Label: -1\n",
      "Discriminant function: 4.647361438018154\n"
     ]
    }
   ],
   "source": [
    "w = [1, 5, 2] # For ease, w [0] equals w_0\n",
    "x = X[0] # First example of our IRIS dataset.\n",
    "label = y[0]\n",
    "\n",
    "print('Features: {}'.format(X[0]))\n",
    "print('Label: {}'.format(y[0]))\n",
    "print('Discriminant function: {}'.format(predict(w, x)))\n"
   ]
  },
  {
   "cell_type": "markdown",
   "metadata": {
    "colab_type": "text",
    "id": "kksP6jNtpPQi"
   },
   "source": [
    "Since the value of the discriminant function is $ f (x) > 0 $, the predicted class is positive.\n",
    "Now, we estimate the loss value using those values of $ w $ and $ w_0 $"
   ]
  },
  {
   "cell_type": "code",
   "execution_count": 12,
   "metadata": {
    "colab": {
     "base_uri": "https://localhost:8080/",
     "height": 35
    },
    "colab_type": "code",
    "id": "DZZe6JFcpPQj",
    "outputId": "11304589-6658-4150-8874-c24e65c344ca"
   },
   "outputs": [
    {
     "name": "stdout",
     "output_type": "stream",
     "text": [
      "Loss: 15.946345605807238\n"
     ]
    }
   ],
   "source": [
    "print('Loss: {}'.format(square_loss(w, x, label)))"
   ]
  },
  {
   "cell_type": "markdown",
   "metadata": {
    "colab_type": "text",
    "id": "03AgoXXLpPQm"
   },
   "source": [
    "What happens if we modify one of the $ w $ parameters?"
   ]
  },
  {
   "cell_type": "code",
   "execution_count": 13,
   "metadata": {
    "colab": {
     "base_uri": "https://localhost:8080/",
     "height": 69
    },
    "colab_type": "code",
    "id": "VkOJEGWnpPQn",
    "outputId": "6865e4b9-f77f-44aa-e60e-4a256165d975"
   },
   "outputs": [
    {
     "name": "stdout",
     "output_type": "stream",
     "text": [
      "Label: -1\n",
      "Prediction: 3.9943223502437437\n",
      "Loss w_p: 12.471627869072096\n"
     ]
    }
   ],
   "source": [
    "w_p = [1, 5, 3]\n",
    "\n",
    "print('Label: {}'.format(y[0]))\n",
    "print('Prediction: {}'.format(predict(w_p, x)))\n",
    "print('Loss w_p: {}'.format(square_loss(w_p, x, label)))"
   ]
  },
  {
   "cell_type": "markdown",
   "metadata": {
    "colab_type": "text",
    "id": "BNLN23qwpPQu"
   },
   "source": [
    "We note that our loss dropped from $15.94$ to $12.47$. However, we are interested in automating this process. Let's first look at how the quadratic loss function behaves."
   ]
  },
  {
   "cell_type": "markdown",
   "metadata": {
    "colab_type": "text",
    "id": "u92KZOcNpPQy"
   },
   "source": [
    "## Analyzing the quadratic loss function\n",
    "\n",
    "Next, we define a couple of python functions to be able to visualize the loss function"
   ]
  },
  {
   "cell_type": "code",
   "execution_count": 14,
   "metadata": {
    "colab": {},
    "colab_type": "code",
    "id": "PGJ6rUUEpPQz"
   },
   "outputs": [],
   "source": [
    "def plot_loss(loss):\n",
    "    w1_vals = np.linspace(-5, 5, 30)\n",
    "    w2_vals = np.linspace(-5, 5, 30)\n",
    "    W1, W2 = np.meshgrid(w1_vals, w2_vals)\n",
    "    grid_r, grid_c = W1.shape\n",
    "    ZZ = np.zeros((grid_r, grid_c))\n",
    "    for i in range(grid_r):\n",
    "        for j in range(grid_c):\n",
    "            ZZ[i, j] = loss(W1[i, j], W2[i, j])\n",
    "    pl.contourf(W1, W2, ZZ,30, cmap = pl.cm.jet)\n",
    "    pl.colorbar()\n",
    "    pl.xlabel(\"w1\")\n",
    "    pl.ylabel(\"w2\")\n",
    "\n",
    "def bloss_square(w1, w2):\n",
    "    w = np.array([1, w1, w2])\n",
    "    return batch_loss(square_loss, w, X, y)"
   ]
  },
  {
   "cell_type": "code",
   "execution_count": 15,
   "metadata": {
    "colab": {
     "base_uri": "https://localhost:8080/",
     "height": 279
    },
    "colab_type": "code",
    "id": "x2ad9mr3pPQ3",
    "outputId": "63a48fc7-bb03-411a-9009-d18fd15d15c4"
   },
   "outputs": [
    {
     "data": {
      "image/png": "[encoded data removed]",
      "text/plain": [
       "<Figure size 432x288 with 2 Axes>"
      ]
     },
     "metadata": {
      "needs_background": "light"
     },
     "output_type": "display_data"
    }
   ],
   "source": [
    "plot_loss(bloss_square)"
   ]
  },
  {
   "cell_type": "markdown",
   "metadata": {
    "colab_type": "text",
    "id": "nExl8BeBpPQ7"
   },
   "source": [
    "Interpretation: We observe that the minimum value of our loss function is around:\n",
    "* $ w_1 = 0.0 $\n",
    "* $ w_2 = 1.0 $"
   ]
  },
  {
   "cell_type": "markdown",
   "metadata": {
    "colab_type": "text",
    "id": "5VXyDto7pPQ9"
   },
   "source": [
    "## How to solve the learning problem?\n",
    "\n",
    "* There are several approaches:\n",
    "     * Linear optimization\n",
    "     * Convex optimization\n",
    "     * Non-linear optimization\n",
    "     * Combinatorial optimization\n",
    "* There is no optimization strategy that works for all problems. [No free lunch theorem] (https://en.wikipedia.org/wiki/No_free_lunch_theorem)\n",
    "* **In this case we are going to use a descending gradient**"
   ]
  },
  {
   "cell_type": "markdown",
   "metadata": {
    "colab_type": "text",
    "id": "YAHCFSE7pPQ9"
   },
   "source": [
    "## Descending gradient\n",
    "\n",
    "* Advantages:\n",
    "   * Guaranteed global optimum\n",
    "   * Simplicity of the method\n",
    "   * Ease to adjust parameters\n",
    "   * Scalability\n",
    "   * Potential parallelization.\n",
    "* In machine learning, preferences change over time.\n",
    "* Today it is scalable. Inclusively, the parallelizable strategies are preferred knowing the guaranteed optimality."
   ]
  },
  {
   "cell_type": "markdown",
   "metadata": {
    "colab_type": "text",
    "id": "2tNQ0G_spPRC"
   },
   "source": [
    "Minimizing the function $ L (f, D) $, where $ f $ is our prediction function turns out to be a convex problem, i.e. there is only one place where the slope of the loss curve equals zero. That minimum value is where our loss function $ L $ **converges**.\n",
    "\n",
    "On the other hand, calculating the value of the loss function for each possible value of $ w $ on the data set is a very inefficient way of finding that convergence value. Downward gradient is an iterative mechanism that allows us to find that convergence value.\n",
    "\n",
    "<img src=\"https://i.stack.imgur.com/JcfpK.png\">\n",
    "\n",
    "### Descending gradient algorithm:\n",
    "\n",
    "* Step 1: We choose an initial value or starting point. It can be zero or a random value. This initial value is not relevant to this problem.\n",
    "* Step 2: We calculate the **gradient of the loss function** for the starting point. The gradient of the loss indicates the derivative (inclination) of the curve. The gradient in turn is a vector, therefore it has **direction** and **magnitude**, this direction always points towards where the greatest increase in the loss function is generated.\n",
    "* Step 3: We calculate a new value $ w $ changing it in the negative direction of the gradient, with the aim of reducing the loss as soon as possible.\n",
    "* Step 4: The new value of $ w $ will also be determined by the magnitude of the gradient and a **learning rate** $ \\eta $. For example, if the magnitude of the gradient is 2.5 and the learning rate is 0.01, the descending gradient will choose a point $ w $ that is 0.025 units away from the previous point $ w $. For the calculation of $ w $ we will use the following formula:\n",
    "$$\n",
    "w = w - \\eta \\frac {\\partial L} {\\partial w}\n",
    "$$\n",
    "* Repeat from Step 1.\n",
    "\n",
    "#### Problems\n",
    "\n",
    "* What if the size of our step is very large and does not reach the local minimum?\n",
    "\n",
    "\n",
    "<img src=\"http://www.cs.cornell.edu/courses/cs4780/2015fa/web/lecturenotes/images/gradient_descent/figure3.png\" height=\"310\" width=\"280\">\n",
    "\n",
    "\n",
    "Choosing a high learning rate can end in never reaching the point of convergence. But a very small rate can take a long time to reach the global minimum\n",
    "\n",
    "\n",
    "\n"
   ]
  },
  {
   "cell_type": "markdown",
   "metadata": {
    "colab_type": "text",
    "id": "fi5JVw_8pPRD"
   },
   "source": [
    "### How is the gradient calculated?\n",
    "\n",
    "$$\n",
    "\\begin{aligned} L (f, D) & = \\sum _ {(x_{i}, r_{i}) \\in D} (r_i - f(x_i)) ^ 2 \\\\\n",
    "  & = \\sum _{(x_{i}, r_{i}) \\in D} E (w, x_i, r_i)\n",
    "\\end {aligned}\n",
    "$$\n",
    "If $ f_w $ is the function we defined before:\n",
    "$$\n",
    "\\frac {\\partial E (w, x_{i,} r_{i})} {\\partial w} = (f_{w} (x_{i}) - r_{i}) x_{i}\n",
    "$$\n",
    "\n",
    "Next, we define a function `de_dw` that corresponds to the partial derivatives of $ E $ with respect to the coefficients $ w $."
   ]
  },
  {
   "cell_type": "code",
   "execution_count": 18,
   "metadata": {
    "colab": {},
    "colab_type": "code",
    "id": "Hg4_lVtGpPRD"
   },
   "outputs": [],
   "source": [
    "def de_dw(w, x, r):\n",
    "    x_prime = np.zeros(len(x) + 1)\n",
    "    x_prime[1:] = x\n",
    "    x_prime[0] = 1\n",
    "    return (predict(w, x) - r) * x_prime"
   ]
  },
  {
   "cell_type": "markdown",
   "metadata": {
    "colab_type": "text",
    "id": "P8OCEAWDpPRG"
   },
   "source": [
    "## Batch descending gradient\n",
    "\n",
    "To estimate the gradient, we do it across all of our data sets. Since we only have 100 examples, it is relatively quick to do this calculation. However, in practice it can be inefficient if you have a large number of training examples."
   ]
  },
  {
   "cell_type": "markdown",
   "metadata": {
    "colab_type": "text",
    "id": "p1_Mb46A4sD1"
   },
   "source": [
    "Next, the function is defined for the descending gradient in batch:"
   ]
  },
  {
   "cell_type": "code",
   "execution_count": 19,
   "metadata": {
    "colab": {},
    "colab_type": "code",
    "id": "UnThWOsTpPRH"
   },
   "outputs": [],
   "source": [
    "def batch_gd(X, Y, epochs, eta, w_ini):\n",
    "    \"\"\"\n",
    "     X: instances of the dataset\n",
    "     Y: dataset labels\n",
    "     epochs: number of iterations to run descending gradient\n",
    "     eta: learning cup\n",
    "     w_ini: initial w and w_0\n",
    "    \n",
    "    \"\"\"\n",
    "    losses = []\n",
    "    w = w_ini \n",
    "    n = X.shape[0]\n",
    "    for i in range(epochs): \n",
    "        delta = np.zeros(len(w))\n",
    "        for j in range(n):\n",
    "            delta += de_dw(w, X[j], Y[j]) # We are adding the gradient for each example in the data set\n",
    "        w = w - eta * delta # We calculate the new value of w\n",
    "        losses.append(batch_loss(square_loss, w, X, Y)) # We are saving the loss value to display later\n",
    "    return w, losses"
   ]
  },
  {
   "cell_type": "markdown",
   "metadata": {
    "colab_type": "text",
    "id": "DBnrPOD3pPRK"
   },
   "source": [
    "We will execute descending gradient in batch with the following parameters:\n",
    "* $ epochs = $ 50\n",
    "* $ w_0 = 0 $ ($ w_0 $ initial)\n",
    "* $ w = [0, 0] $ (initial $ w $)\n",
    "* $ \\ eta = 0.01 $ (learning fee)"
   ]
  },
  {
   "cell_type": "code",
   "execution_count": 20,
   "metadata": {
    "colab": {
     "base_uri": "https://localhost:8080/",
     "height": 355
    },
    "colab_type": "code",
    "id": "_HpU2WjbpPRL",
    "outputId": "4c1c0290-9282-4a84-8e4a-f4869d8297bc"
   },
   "outputs": [
    {
     "data": {
      "text/plain": [
       "[<matplotlib.lines.Line2D at 0x19e1ac03a48>]"
      ]
     },
     "execution_count": 20,
     "metadata": {},
     "output_type": "execute_result"
    },
    {
     "data": {
      "image/png": "[encoded data removed]",
      "text/plain": [
       "<Figure size 576x384 with 1 Axes>"
      ]
     },
     "metadata": {
      "needs_background": "light"
     },
     "output_type": "display_data"
    }
   ],
   "source": [
    "w, losses = batch_gd(X, y, 50, 0.01, np.array([0, 0, 0]))\n",
    "pl.figure(figsize = (8,16/3))\n",
    "pl.plot(losses)"
   ]
  },
  {
   "cell_type": "markdown",
   "metadata": {
    "colab_type": "text",
    "id": "NpdS5rPqpPRO"
   },
   "source": [
    "# Stochastic downward gradient (SGD)\n",
    "\n",
    "\n",
    "When working with large data sets, computing the gradient over the entire data set becomes impractical. One way to decrease computing time is by choosing random samples from our data set, which generate an average estimate of the average gradient. SGD then takes one sample randomly at a time and estimates the value of the gradient for that sample. Despite being loud, SGD works quite well in practice."
   ]
  },
  {
   "cell_type": "markdown",
   "metadata": {
    "colab_type": "text",
    "id": "witfI12r4z2f"
   },
   "source": [
    "The function for the stochastic downward gradient is defined below:"
   ]
  },
  {
   "cell_type": "code",
   "execution_count": 21,
   "metadata": {
    "colab": {},
    "colab_type": "code",
    "id": "oJExhoRLpPRQ"
   },
   "outputs": [],
   "source": [
    " def sgd(X, Y, epochs, eta, w_ini):\n",
    "    \"\"\"\n",
    "     X: instances of the dataset\n",
    "     Y: dataset labels\n",
    "     epochs: number of iterations to run\n",
    "             descending gradient\n",
    "     eta: learning rate\n",
    "     w_ini: initial w and w_0\n",
    "    \n",
    "    \"\"\"\n",
    "    losses = []\n",
    "    w = w_ini\n",
    "    n = X.shape[0]\n",
    "    for i in range(epochs):\n",
    "        for j in range(n):\n",
    "            delta = de_dw(w, X[j], Y[j]) # Here we estimate the gradient for each element but not for the entire dataset\n",
    "            w = w - eta * delta\n",
    "        losses.append(batch_loss(square_loss, w, X, Y))\n",
    "    return w, losses"
   ]
  },
  {
   "cell_type": "markdown",
   "metadata": {
    "colab_type": "text",
    "id": "DONCNgbRpPRZ"
   },
   "source": [
    "Next, we compare the behavior of Downward Gradient in Batch and Stochastic. We observe that they behave similarly for our two-class classification problem."
   ]
  },
  {
   "cell_type": "code",
   "execution_count": 22,
   "metadata": {
    "colab": {
     "base_uri": "https://localhost:8080/",
     "height": 369
    },
    "colab_type": "code",
    "id": "2E2G5xfbpPRZ",
    "outputId": "ebd6c5e5-d8ba-4528-eb90-c7e5b399dea6"
   },
   "outputs": [
    {
     "data": {
      "text/plain": [
       "<matplotlib.legend.Legend at 0x19e15ec19c8>"
      ]
     },
     "execution_count": 22,
     "metadata": {},
     "output_type": "execute_result"
    },
    {
     "data": {
      "image/png": "[encoded data removed]",
      "text/plain": [
       "<Figure size 576x384 with 1 Axes>"
      ]
     },
     "metadata": {
      "needs_background": "light"
     },
     "output_type": "display_data"
    }
   ],
   "source": [
    "lr = 0.005\n",
    "epochs = 500\n",
    "w1, losses_bt = batch_gd(X, y, epochs, lr, np.array([0, 0, 0])) #Batch\n",
    "w2, losses_ol = sgd(X, y, epochs, lr, np.array([0, 0, 0])) #SGD\n",
    "pl.figure(figsize = (8,16/3))\n",
    "pl.plot(np.arange(epochs), losses_ol, label=\"SGD\")\n",
    "pl.plot(np.arange(epochs), losses_bt, label=\"Batch\")\n",
    "pl.xlabel(\"Epoch\")\n",
    "pl.ylabel(\"Loss\")\n",
    "pl.legend()"
   ]
  },
  {
   "cell_type": "markdown",
   "metadata": {
    "colab_type": "text",
    "id": "utjBLJqYpPRc"
   },
   "source": [
    "## Prediction function display"
   ]
  },
  {
   "cell_type": "markdown",
   "metadata": {
    "colab_type": "text",
    "id": "9_sWueJlpPRc"
   },
   "source": [
    "It is useful to be able to visualize which regions of our space in 2D are assigned to the positive class and the negative class. For that we write a function that allows us to visualize the decision region of our classifiers, as follows:"
   ]
  },
  {
   "cell_type": "code",
   "execution_count": 23,
   "metadata": {
    "colab": {},
    "colab_type": "code",
    "id": "WRLsCq20pPRd"
   },
   "outputs": [],
   "source": [
    "def plot_decision_region(X, pred_fun):\n",
    "    \"\"\"\n",
    "    X: corresponds to the instances of our data set\n",
    "    pred_fun: is a function that returns a prediction for each value of X\n",
    "    \"\"\"\n",
    "    min_x = np.min(X[:, 0])\n",
    "    max_x = np.max(X[:, 0])\n",
    "    min_y = np.min(X[:, 1])\n",
    "    max_y = np.max(X[:, 1])\n",
    "    min_x = min_x - (max_x - min_x) * 0.05\n",
    "    max_x = max_x + (max_x - min_x) * 0.05\n",
    "    min_y = min_y - (max_y - min_y) * 0.05\n",
    "    max_y = max_y + (max_y - min_y) * 0.05\n",
    "    x_vals = np.linspace(min_x, max_x, 30)\n",
    "    y_vals = np.linspace(min_y, max_y, 30)\n",
    "    XX, YY = np.meshgrid(x_vals, y_vals)\n",
    "    grid_r, grid_c = XX.shape\n",
    "    ZZ = np.zeros((grid_r, grid_c))\n",
    "    for i in range(grid_r):\n",
    "        for j in range(grid_c):\n",
    "            ZZ[i, j] = pred_fun(XX[i, j], YY[i, j])\n",
    "    pl.contourf(XX, YY, ZZ, 30, cmap = pl.cm.coolwarm, vmin= -1, vmax=2)\n",
    "    pl.colorbar()\n",
    "    pl.xlabel(\"x\")\n",
    "    pl.ylabel(\"y\")"
   ]
  },
  {
   "cell_type": "code",
   "execution_count": 24,
   "metadata": {
    "colab": {},
    "colab_type": "code",
    "id": "U5SXcSgXpPRf"
   },
   "outputs": [],
   "source": [
    "def gen_pred_fun(w):\n",
    "    def pred_fun(x1, x2):\n",
    "        x = np.array([x1, x2])\n",
    "        return predict(w, x)\n",
    "    return pred_fun"
   ]
  },
  {
   "cell_type": "markdown",
   "metadata": {
    "colab_type": "text",
    "id": "HymZ1v_-pPRh"
   },
   "source": [
    "Let's visualize the case where our coefficients are of the form:\n",
    "* $w_0 = 0$\n",
    "* $w = [0.6, 1]$"
   ]
  },
  {
   "cell_type": "code",
   "execution_count": 25,
   "metadata": {
    "colab": {
     "base_uri": "https://localhost:8080/",
     "height": 423
    },
    "colab_type": "code",
    "id": "ksaA3NBzpPRi",
    "outputId": "98053594-4a5b-4d11-abdc-393696172529"
   },
   "outputs": [
    {
     "data": {
      "image/png": "[encoded data removed]",
      "text/plain": [
       "<Figure size 576x384 with 2 Axes>"
      ]
     },
     "metadata": {
      "needs_background": "light"
     },
     "output_type": "display_data"
    }
   ],
   "source": [
    "w = [0, 0.6, 1]\n",
    "\n",
    "pl.figure(figsize = (8,16/3))    \n",
    "plot_decision_region(X, gen_pred_fun(w))\n",
    "plot_data(X, y)"
   ]
  },
  {
   "cell_type": "markdown",
   "metadata": {
    "colab_type": "text",
    "id": "9hDsvK5ipPRl"
   },
   "source": [
    "Nothing useful, however if we visualize the result after applying SGD:"
   ]
  },
  {
   "cell_type": "code",
   "execution_count": 26,
   "metadata": {
    "colab": {
     "base_uri": "https://localhost:8080/",
     "height": 423
    },
    "colab_type": "code",
    "id": "qP3ch_fHpPRm",
    "outputId": "9fa98849-0e2b-49d7-f463-bee3936a44ac"
   },
   "outputs": [
    {
     "data": {
      "image/png": "[encoded data removed]",
      "text/plain": [
       "<Figure size 576x384 with 2 Axes>"
      ]
     },
     "metadata": {
      "needs_background": "light"
     },
     "output_type": "display_data"
    }
   ],
   "source": [
    "lr = 0.5\n",
    "epochs = 500\n",
    "w, _ = sgd(X, y, epochs, lr, np.array([0, -1, 2])) #SGD\n",
    "\n",
    "pl.figure(figsize = (8,16/3))    \n",
    "plot_decision_region(X, gen_pred_fun(w))\n",
    "plot_data(X, y)"
   ]
  },
  {
   "cell_type": "code",
   "execution_count": 27,
   "metadata": {
    "colab": {
     "base_uri": "https://localhost:8080/",
     "height": 35
    },
    "colab_type": "code",
    "id": "_O1ROxMZpPRp",
    "outputId": "a1bc56a8-3f61-4bd5-f51f-5871ed54baf0"
   },
   "outputs": [
    {
     "data": {
      "text/plain": [
       "array([ 0.61344313, -0.32989191,  0.91922391])"
      ]
     },
     "execution_count": 27,
     "metadata": {},
     "output_type": "execute_result"
    }
   ],
   "source": [
    "w"
   ]
  },
  {
   "cell_type": "code",
   "execution_count": 0,
   "metadata": {
    "colab": {},
    "colab_type": "code",
    "id": "cI-pADqElkPP"
   },
   "outputs": [],
   "source": []
  }
 ],
 "metadata": {
  "colab": {
   "collapsed_sections": [],
   "name": "3. Intro_machine_learning.ipynb",
   "provenance": []
  },
  "kernelspec": {
   "display_name": "Python 3",
   "language": "python",
   "name": "python3"
  },
  "language_info": {
   "codemirror_mode": {
    "name": "ipython",
    "version": 3
   },
   "file_extension": ".py",
   "mimetype": "text/x-python",
   "name": "python",
   "nbconvert_exporter": "python",
   "pygments_lexer": "ipython3",
   "version": "3.7.4"
  }
 },
 "nbformat": 4,
 "nbformat_minor": 1
}
