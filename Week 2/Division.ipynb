{
 "cells": [
  {
   "cell_type": "code",
   "execution_count": 3,
   "metadata": {},
   "outputs": [
    {
     "name": "stdout",
     "output_type": "stream",
     "text": [
      "Give me a number: 11\n",
      "Divide by: 3\n",
      "3\n"
     ]
    }
   ],
   "source": [
    "def divide(dividend, divisor):  \n",
    "  \n",
    "    sign = -1 if ((dividend < 0) ^  (divisor < 0)) else 1\n",
    "      \n",
    "    dividend = abs(dividend) \n",
    "    divisor = abs(divisor) \n",
    "      \n",
    "    quotient = 0\n",
    "    while (dividend >= divisor):  \n",
    "        dividend -= divisor \n",
    "        quotient += 1\n",
    "      \n",
    "      \n",
    "    return sign * quotient \n",
    "  \n",
    "  \n",
    "\n",
    "a = int(input('Give me a number: '))\n",
    "b = int(input('Divide by: '))\n",
    "print(divide(a, b)) \n"
   ]
  },
  {
   "cell_type": "code",
   "execution_count": null,
   "metadata": {},
   "outputs": [],
   "source": []
  }
 ],
 "metadata": {
  "kernelspec": {
   "display_name": "Python 3",
   "language": "python",
   "name": "python3"
  },
  "language_info": {
   "codemirror_mode": {
    "name": "ipython",
    "version": 3
   },
   "file_extension": ".py",
   "mimetype": "text/x-python",
   "name": "python",
   "nbconvert_exporter": "python",
   "pygments_lexer": "ipython3",
   "version": "3.7.4"
  }
 },
 "nbformat": 4,
 "nbformat_minor": 2
}
