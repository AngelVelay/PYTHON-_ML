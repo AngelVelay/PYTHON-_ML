{
 "cells": [
  {
   "cell_type": "code",
   "execution_count": 1,
   "metadata": {},
   "outputs": [],
   "source": [
    "def show_args(*args):\n",
    "    for a in args:\n",
    "        print(a)"
   ]
  },
  {
   "cell_type": "code",
   "execution_count": 2,
   "metadata": {},
   "outputs": [
    {
     "name": "stdout",
     "output_type": "stream",
     "text": [
      "Hello\n",
      "World\n",
      "since\n",
      "1996\n"
     ]
    }
   ],
   "source": [
    "show_args(\"Hello\", \"World\", \"since\",\"1996\")"
   ]
  },
  {
   "cell_type": "code",
   "execution_count": 25,
   "metadata": {},
   "outputs": [],
   "source": [
    "def show_kwargs(**kwargs):\n",
    "    print(kwargs)\n",
    "    \n",
    "    if kwargs.keys():\n",
    "        for k in kwargs.keys():\n",
    "            print(f'Key is: {k} and value is: {kwargs[k]}')\n",
    "        \n",
    "        "
   ]
  },
  {
   "cell_type": "code",
   "execution_count": 26,
   "metadata": {},
   "outputs": [
    {
     "name": "stdout",
     "output_type": "stream",
     "text": [
      "{'action': 'plot', 'argument': 'min', 'mat': True, 'color': 'grey'}\n",
      "Key is: action and value is: plot\n",
      "Key is: argument and value is: min\n",
      "Key is: mat and value is: True\n",
      "Key is: color and value is: grey\n"
     ]
    }
   ],
   "source": [
    "show_kwargs(action=\"plot\",argument=\"min\", mat=True, color=\"grey\" )"
   ]
  },
  {
   "cell_type": "code",
   "execution_count": null,
   "metadata": {},
   "outputs": [],
   "source": []
  }
 ],
 "metadata": {
  "kernelspec": {
   "display_name": "Python 3",
   "language": "python",
   "name": "python3"
  },
  "language_info": {
   "codemirror_mode": {
    "name": "ipython",
    "version": 3
   },
   "file_extension": ".py",
   "mimetype": "text/x-python",
   "name": "python",
   "nbconvert_exporter": "python",
   "pygments_lexer": "ipython3",
   "version": "3.7.4"
  }
 },
 "nbformat": 4,
 "nbformat_minor": 2
}
